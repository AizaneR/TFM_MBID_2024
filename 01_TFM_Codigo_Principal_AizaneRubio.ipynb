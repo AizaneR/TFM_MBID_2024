{
 "cells": [
  {
   "cell_type": "markdown",
   "id": "027308d8-b409-4c24-8420-1217f3515f83",
   "metadata": {},
   "source": [
    "# Aplicación de Machine Learning para la Detección de Anomalías"
   ]
  },
  {
   "cell_type": "markdown",
   "id": "1fa03751-e8dc-45f8-b138-dee530a764cf",
   "metadata": {},
   "source": [
    "Alumno/a: Aizane Rubio Iturria\\\n",
    "Titulación: Máster Oficial en Big Data y Data Science\\\n",
    "Curso Académico: 2023-2024 \\\n",
    "Director/a del TFM: Cristina Caro González"
   ]
  },
  {
   "cell_type": "markdown",
   "id": "2e20947c-9c92-4b17-8318-0905dd3ef96a",
   "metadata": {},
   "source": [
    "## INTRODUCCIÓN"
   ]
  },
  {
   "cell_type": "markdown",
   "id": "398aff12-6f9e-4e18-9896-7457a434e671",
   "metadata": {},
   "source": [
    "Este Trabajo Fin de Máster se centra en el uso de técnicas de Machine Learning para detectar anomalías, principalmente relacionadas con ciberseguridad. Su principal objetivo es evaluar el estado de la ciberseguridad de una empresa líder en soluciones tecnológicas utilizando diferentes bases de datos de ciberseguridad, como A Realistic Cyber Defense Dataset (CSE-CIC-IDS2018). "
   ]
  },
  {
   "cell_type": "markdown",
   "id": "a250bfc7-9b06-4d83-b7ae-ba0f349c96e2",
   "metadata": {},
   "source": [
    "## OBJETIVO"
   ]
  },
  {
   "cell_type": "markdown",
   "id": "fd1e0f2a-b4ca-4bc9-bc47-fb8dd9935725",
   "metadata": {},
   "source": [
    "El objetivo principal de este Trabajo de Fin de Máster es evaluar y analizar el estado de la ciberseguridad de una empresa, basándose en el análisis de su tráfico de red y registros del sistema. Además, se diseñará un modelo capaz de detectar y clasificar los tipos de ataques recibidos, lo que facilitará la toma de decisiones sobre las medidas de protección a implementar. Para ello, será necesario aplicar técnicas avanzadas de Ciencia de Datos.\n",
    "\n",
    "En particular, se busca desarrollar un modelo de Detección de Anomalías que identifique los patrones detrás de los ataques de fuerza bruta en protocolos como FTP y SSH, unos de los más comunes en el ámbito empresarial. El objetivo es poder diferenciarlos del tráfico benigno, no solo para conocer el nivel de exposición de la empresa a este tipo de amenazas, sino también como una medida preventiva que permita detectar futuros ataques a tiempo."
   ]
  },
  {
   "cell_type": "markdown",
   "id": "09d049c4-e4e9-4023-9e62-b272458f3243",
   "metadata": {},
   "source": [
    "## METODOLOGÍA"
   ]
  },
  {
   "cell_type": "markdown",
   "id": "995769fd-1f74-41e1-ae08-e957c7b83850",
   "metadata": {},
   "source": [
    "El análisis se ha ejecutado mediante varias fases. La primera fase, se centra en la limpieza de datos. Este proceso incluye la eliminación de columnas irrelevantes, el tratamiento de valores nulos y de valores erróneos, como valores infinitos o negativos, que no tienen sentido en el contexto del análisis. En la segunda fase, se lleva a cabo la transformación de los datos, donde las variables categóricas se convierten en numéricas y se estandarizan los valores, un paso importante para asegurar la correcta aplicación de los modelos de Machine Learning. El método de escalado de datos es el escalado robusto (Ro- bustScaler ). Una vez finalizadas estas etapas, se emplea LigthGBM, un método de selección de características, para identificar y retener únicamente las variables más significativas.\n",
    "\n",
    "Con el preprocesamiento completo, el conjunto de datos se divide en tres subconjuntos: entrenamiento, validación y prueba. Los subconjuntos de entrenamiento y validación se utilizan para entrenar los modelos y seleccionar los algoritmos y parámetros que mejor se ajusten a los datos. El conjunto de prueba se reserva única- mente para la evaluación final, proporcionando una métrica que refleja la capacidad del modelo para generalizar ante datos que no ha visto previamente. El proceso de entrenamiento se ejecuta sobre diferentes  del conjunto de entrenamiento inicial, cada una tratada con una técnica distinta de manejo del desbalanceo de clases. En el primer conjunto, los datos se mantienen sin mo- dificaciones. En el segundo, se aplica downsampling (reducción del tamaño de las clases mayoritarias), mientras que en el tercero se emplea upsampling (aumento de las clases minoritarias). Por último, en el cuarto conjunto se combinan ambas técnicas aplicando \\textit{downsampling} de la clase mayoritaria y \\textit{upsampling} de la minoritaria.\n",
    "\n",
    "Después de aplicar estos métodos, se evalúan seis algoritmos de aprendizaje automático para abordar el problema de clasificación multiclase, examinando su rendimiento y adaptabilidad a los datos preprocesados y balanceados. Los mejores modelos se seleccionan y ajustan mediante la optimización de sus hiperparámetros. Finalmente, se evalúa el rendimiento de cada modelo para determinar su capacidad de generalización.\n"
   ]
  },
  {
   "cell_type": "markdown",
   "id": "54fe1ed6-87c0-4fba-8467-72d1b6ee9355",
   "metadata": {},
   "source": [
    "## ANÁLISIS DE DATOS"
   ]
  },
  {
   "cell_type": "code",
   "execution_count": 10,
   "id": "262cd30d-7109-4dce-92ba-66641409cb89",
   "metadata": {},
   "outputs": [
    {
     "name": "stdout",
     "output_type": "stream",
     "text": [
      "Requirement already satisfied: imbalanced-learn in c:\\users\\aizane\\anaconda3\\lib\\site-packages (0.10.1)\n",
      "Requirement already satisfied: numpy>=1.17.3 in c:\\users\\aizane\\anaconda3\\lib\\site-packages (from imbalanced-learn) (1.24.3)\n",
      "Requirement already satisfied: scipy>=1.3.2 in c:\\users\\aizane\\anaconda3\\lib\\site-packages (from imbalanced-learn) (1.10.1)\n",
      "Requirement already satisfied: scikit-learn>=1.0.2 in c:\\users\\aizane\\anaconda3\\lib\\site-packages (from imbalanced-learn) (1.5.2)\n",
      "Requirement already satisfied: joblib>=1.1.1 in c:\\users\\aizane\\anaconda3\\lib\\site-packages (from imbalanced-learn) (1.2.0)\n",
      "Requirement already satisfied: threadpoolctl>=2.0.0 in c:\\users\\aizane\\anaconda3\\lib\\site-packages (from imbalanced-learn) (3.5.0)\n"
     ]
    }
   ],
   "source": [
    "# INSTALACIÓN\n",
    "\n",
    "#!pip install lightgbm \n",
    "#!pip install autofeatselect\n",
    "#!pip install imbalanced-learn"
   ]
  },
  {
   "cell_type": "code",
   "execution_count": 18,
   "id": "8dddaca5-49af-4756-971c-299ca813ab08",
   "metadata": {},
   "outputs": [],
   "source": [
    "# LIBRERIAS\n",
    "\n",
    "import pandas as pd\n",
    "import numpy as np\n",
    "import matplotlib.pyplot as plt\n",
    "import seaborn as sns\n",
    "import random\n",
    "import time\n",
    "import joblib\n",
    "\n",
    "# Transformación\n",
    "from sklearn.preprocessing import RobustScaler\n",
    "from autofeatselect import CorrelationCalculator, FeatureSelector, AutoFeatureSelect\n",
    "from imblearn.over_sampling import SMOTE\n",
    "\n",
    "# Machine Learnign\n",
    "from sklearn.model_selection import train_test_split, GridSearchCV\n",
    "from sklearn.utils import resample\n",
    "from sklearn.pipeline import Pipeline\n",
    "from sklearn.tree import DecisionTreeClassifier\n",
    "from sklearn.ensemble import RandomForestClassifier, GradientBoostingClassifier\n",
    "from sklearn.linear_model import LogisticRegression\n",
    "from sklearn.neighbors import KNeighborsClassifier, RadiusNeighborsClassifier\n",
    "from sklearn.svm import SVC\n",
    "from sklearn.metrics import classification_report, confusion_matrix, balanced_accuracy_score, roc_auc_score, accuracy_score, f1_score, precision_score, recall_score\n"
   ]
  },
  {
   "cell_type": "code",
   "execution_count": 19,
   "id": "922767cf-a553-4650-aa51-94da967c560f",
   "metadata": {},
   "outputs": [],
   "source": [
    "# RUTAS LOCAL\n",
    "csv_IDS2018 = r\"C:\\Users\\AIZANE\\~\\datasets\\Processed Traffic Data for ML Algorithms/\"\n",
    "ruta_intermedia = r\"C:\\Users\\AIZANE\\Documents\\MASTER\\TFM/\""
   ]
  },
  {
   "cell_type": "code",
   "execution_count": null,
   "id": "555a3085-0713-4933-9f84-d06a43eaa470",
   "metadata": {},
   "outputs": [],
   "source": [
    "# RUTAS DRIVE\n",
    "\n",
    "#RUTAS DRIVE\n",
    "from google.colab import drive\n",
    "drive.mount('/content/drive')\n",
    "\n",
    "# Esta ruta se utiliza para leer la base de datos \n",
    "csv_IDS2018 = r\"/content/drive/My Drive/TFM_AIZANE_RUBIO/NOTEBOOKS/Proceso_KDD/\"\n",
    "# Esta ruta se utiliza para el resto de lecturas\n",
    "ruta_intermedia = r\"/content/drive/My Drive/TFM_AIZANE_RUBIO/NOTEBOOKS/Proceso_KDD/modelos/\""
   ]
  },
  {
   "cell_type": "code",
   "execution_count": 20,
   "id": "b4a797e5-487c-4161-b4c3-e4c5d596e44a",
   "metadata": {},
   "outputs": [],
   "source": [
    "# VARIABLES GENERALES\n",
    "\n",
    "# Semilla para que el código sea reproducible\n",
    "seed = 42\n",
    "#Paleta de colores\n",
    "colores_pastel = ['#FA8072',\n",
    "                  '#87CEEB', \n",
    "                  '#FFA07A', \n",
    "                  '#98FB98', \n",
    "                  '#FFD700', \n",
    "                  '#FFB6C1'] "
   ]
  },
  {
   "cell_type": "markdown",
   "id": "772b02ac-5638-491f-9afd-e0e49cec488a",
   "metadata": {},
   "source": [
    "# 1. TIPO DE ATAQUE BRUTE-FORCE"
   ]
  },
  {
   "cell_type": "code",
   "execution_count": 53,
   "id": "caa34c1c-c08e-4647-a00f-543c84eb8722",
   "metadata": {},
   "outputs": [],
   "source": [
    "# Leer el archivo CSV y reemplazar LOS espacios por guiones bajos en los nombres de las columnas\n",
    "IDS2018_BruteForce = pd.read_csv(csv_IDS2018 + 'Wednesday-14-02-2018_TrafficForML_CICFlowMeter.csv')\n",
    "IDS2018_BruteForce.columns = IDS2018_BruteForce.columns.str.replace(' ', '_')"
   ]
  },
  {
   "cell_type": "code",
   "execution_count": 8,
   "id": "fed25657-e900-489f-bb5d-671bb128604f",
   "metadata": {},
   "outputs": [
    {
     "name": "stdout",
     "output_type": "stream",
     "text": [
      "Recuento de cada tipo en la columna 'Label':\n",
      "Benign            667626\n",
      "FTP-BruteForce    193360\n",
      "SSH-Bruteforce    187589\n",
      "Name: Label, dtype: int64\n"
     ]
    }
   ],
   "source": [
    "# DESPUÉS DE LA LIMPIEZA\n",
    "counts = IDS2018_BruteForce['Label'].value_counts()\n",
    "# Mostrar el recuento de cada categoría en la columna 'Label'\n",
    "print(\"Recuento de cada tipo en la columna 'Label':\")\n",
    "print(counts)"
   ]
  },
  {
   "cell_type": "code",
   "execution_count": 9,
   "id": "a1d26748-051a-455b-aa24-6ba46107812f",
   "metadata": {},
   "outputs": [
    {
     "name": "stdout",
     "output_type": "stream",
     "text": [
      "Tipos de ataques registrados:\n",
      "['Benign' 'FTP-BruteForce' 'SSH-Bruteforce']\n"
     ]
    }
   ],
   "source": [
    "# Analizamos lo balanceada que está la clase\n",
    "tipo_ataque = IDS2018_BruteForce['Label'].unique()\n",
    "# Mostrar el recuento de cada categoría en la columna 'Label'\n",
    "print(\"Tipos de ataques registrados:\")\n",
    "print(tipo_ataque)"
   ]
  },
  {
   "cell_type": "markdown",
   "id": "7f747f6d-3c4b-4052-b174-4ebd9bca4ba4",
   "metadata": {
    "jp-MarkdownHeadingCollapsed": true
   },
   "source": [
    "## 1. KDD - Fases iniciales: Exploración, limpieza y  transformación de datos"
   ]
  },
  {
   "cell_type": "markdown",
   "id": "5e12f46d-add6-4cac-b502-783993de1ada",
   "metadata": {
    "jp-MarkdownHeadingCollapsed": true
   },
   "source": [
    "### 1.1 Exploración general"
   ]
  },
  {
   "cell_type": "markdown",
   "id": "e974cdd4-5301-4fa7-9fcd-e7e718fb10ed",
   "metadata": {},
   "source": [
    "Realizamos un primer análisis general, para conocer la estructura del dataset."
   ]
  },
  {
   "cell_type": "code",
   "execution_count": 10,
   "id": "f46a2ddb-9fda-41db-8f40-6ed7c4ff2437",
   "metadata": {},
   "outputs": [
    {
     "data": {
      "text/plain": [
       "(1048575, 80)"
      ]
     },
     "execution_count": 10,
     "metadata": {},
     "output_type": "execute_result"
    }
   ],
   "source": [
    "# Comprobamos tamaño del dataset\n",
    "IDS2018_BruteForce.shape"
   ]
  },
  {
   "cell_type": "code",
   "execution_count": 11,
   "id": "dd8e594e-217f-4164-8451-82a3552469d0",
   "metadata": {},
   "outputs": [
    {
     "data": {
      "text/plain": [
       "Index(['Dst_Port', 'Protocol', 'Timestamp', 'Flow_Duration', 'Tot_Fwd_Pkts',\n",
       "       'Tot_Bwd_Pkts', 'TotLen_Fwd_Pkts', 'TotLen_Bwd_Pkts', 'Fwd_Pkt_Len_Max',\n",
       "       'Fwd_Pkt_Len_Min', 'Fwd_Pkt_Len_Mean', 'Fwd_Pkt_Len_Std',\n",
       "       'Bwd_Pkt_Len_Max', 'Bwd_Pkt_Len_Min', 'Bwd_Pkt_Len_Mean',\n",
       "       'Bwd_Pkt_Len_Std', 'Flow_Byts/s', 'Flow_Pkts/s', 'Flow_IAT_Mean',\n",
       "       'Flow_IAT_Std', 'Flow_IAT_Max', 'Flow_IAT_Min', 'Fwd_IAT_Tot',\n",
       "       'Fwd_IAT_Mean', 'Fwd_IAT_Std', 'Fwd_IAT_Max', 'Fwd_IAT_Min',\n",
       "       'Bwd_IAT_Tot', 'Bwd_IAT_Mean', 'Bwd_IAT_Std', 'Bwd_IAT_Max',\n",
       "       'Bwd_IAT_Min', 'Fwd_PSH_Flags', 'Bwd_PSH_Flags', 'Fwd_URG_Flags',\n",
       "       'Bwd_URG_Flags', 'Fwd_Header_Len', 'Bwd_Header_Len', 'Fwd_Pkts/s',\n",
       "       'Bwd_Pkts/s', 'Pkt_Len_Min', 'Pkt_Len_Max', 'Pkt_Len_Mean',\n",
       "       'Pkt_Len_Std', 'Pkt_Len_Var', 'FIN_Flag_Cnt', 'SYN_Flag_Cnt',\n",
       "       'RST_Flag_Cnt', 'PSH_Flag_Cnt', 'ACK_Flag_Cnt', 'URG_Flag_Cnt',\n",
       "       'CWE_Flag_Count', 'ECE_Flag_Cnt', 'Down/Up_Ratio', 'Pkt_Size_Avg',\n",
       "       'Fwd_Seg_Size_Avg', 'Bwd_Seg_Size_Avg', 'Fwd_Byts/b_Avg',\n",
       "       'Fwd_Pkts/b_Avg', 'Fwd_Blk_Rate_Avg', 'Bwd_Byts/b_Avg',\n",
       "       'Bwd_Pkts/b_Avg', 'Bwd_Blk_Rate_Avg', 'Subflow_Fwd_Pkts',\n",
       "       'Subflow_Fwd_Byts', 'Subflow_Bwd_Pkts', 'Subflow_Bwd_Byts',\n",
       "       'Init_Fwd_Win_Byts', 'Init_Bwd_Win_Byts', 'Fwd_Act_Data_Pkts',\n",
       "       'Fwd_Seg_Size_Min', 'Active_Mean', 'Active_Std', 'Active_Max',\n",
       "       'Active_Min', 'Idle_Mean', 'Idle_Std', 'Idle_Max', 'Idle_Min', 'Label'],\n",
       "      dtype='object')"
      ]
     },
     "execution_count": 11,
     "metadata": {},
     "output_type": "execute_result"
    }
   ],
   "source": [
    "# Columnas\n",
    "IDS2018_BruteForce.columns"
   ]
  },
  {
   "cell_type": "code",
   "execution_count": 49,
   "id": "4718dd7f-ac93-4fd5-b4aa-571c87b913ca",
   "metadata": {},
   "outputs": [
    {
     "name": "stdout",
     "output_type": "stream",
     "text": [
      "   Dst_Port  Protocol            Timestamp  Flow_Duration  Tot_Fwd_Pkts  \\\n",
      "0         0         0  14/02/2018 08:31:01      112641719             3   \n",
      "1         0         0  14/02/2018 08:33:50      112641466             3   \n",
      "2         0         0  14/02/2018 08:36:39      112638623             3   \n",
      "3        22         6  14/02/2018 08:40:13        6453966            15   \n",
      "4        22         6  14/02/2018 08:40:23        8804066            14   \n",
      "\n",
      "   Tot_Bwd_Pkts  TotLen_Fwd_Pkts  TotLen_Bwd_Pkts  Fwd_Pkt_Len_Max  \\\n",
      "0             0                0                0                0   \n",
      "1             0                0                0                0   \n",
      "2             0                0                0                0   \n",
      "3            10             1239             2273              744   \n",
      "4            11             1143             2209              744   \n",
      "\n",
      "   Fwd_Pkt_Len_Min  ...  Fwd_Seg_Size_Min  Active_Mean  Active_Std  \\\n",
      "0                0  ...                 0          0.0         0.0   \n",
      "1                0  ...                 0          0.0         0.0   \n",
      "2                0  ...                 0          0.0         0.0   \n",
      "3                0  ...                32          0.0         0.0   \n",
      "4                0  ...                32          0.0         0.0   \n",
      "\n",
      "   Active_Max  Active_Min   Idle_Mean    Idle_Std  Idle_Max  Idle_Min   Label  \n",
      "0           0           0  56320859.5  139.300036  56320958  56320761  Benign  \n",
      "1           0           0  56320733.0  114.551299  56320814  56320652  Benign  \n",
      "2           0           0  56319311.5  301.934596  56319525  56319098  Benign  \n",
      "3           0           0         0.0    0.000000         0         0  Benign  \n",
      "4           0           0         0.0    0.000000         0         0  Benign  \n",
      "\n",
      "[5 rows x 80 columns]\n"
     ]
    }
   ],
   "source": [
    "print(IDS2018_BruteForce.head())"
   ]
  },
  {
   "cell_type": "code",
   "execution_count": 51,
   "id": "f1b7c358-412f-4d25-9bb2-e16238bfa1f3",
   "metadata": {},
   "outputs": [
    {
     "data": {
      "text/html": [
       "<div>\n",
       "<style scoped>\n",
       "    .dataframe tbody tr th:only-of-type {\n",
       "        vertical-align: middle;\n",
       "    }\n",
       "\n",
       "    .dataframe tbody tr th {\n",
       "        vertical-align: top;\n",
       "    }\n",
       "\n",
       "    .dataframe thead th {\n",
       "        text-align: right;\n",
       "    }\n",
       "</style>\n",
       "<table border=\"1\" class=\"dataframe\">\n",
       "  <thead>\n",
       "    <tr style=\"text-align: right;\">\n",
       "      <th></th>\n",
       "      <th>Dst_Port</th>\n",
       "      <th>Protocol</th>\n",
       "      <th>Flow_Duration</th>\n",
       "      <th>Tot_Fwd_Pkts</th>\n",
       "      <th>Tot_Bwd_Pkts</th>\n",
       "      <th>TotLen_Fwd_Pkts</th>\n",
       "      <th>TotLen_Bwd_Pkts</th>\n",
       "      <th>Fwd_Pkt_Len_Max</th>\n",
       "      <th>Fwd_Pkt_Len_Min</th>\n",
       "      <th>Fwd_Pkt_Len_Mean</th>\n",
       "      <th>...</th>\n",
       "      <th>Fwd_Act_Data_Pkts</th>\n",
       "      <th>Fwd_Seg_Size_Min</th>\n",
       "      <th>Active_Mean</th>\n",
       "      <th>Active_Std</th>\n",
       "      <th>Active_Max</th>\n",
       "      <th>Active_Min</th>\n",
       "      <th>Idle_Mean</th>\n",
       "      <th>Idle_Std</th>\n",
       "      <th>Idle_Max</th>\n",
       "      <th>Idle_Min</th>\n",
       "    </tr>\n",
       "  </thead>\n",
       "  <tbody>\n",
       "    <tr>\n",
       "      <th>count</th>\n",
       "      <td>1.048575e+06</td>\n",
       "      <td>1.048575e+06</td>\n",
       "      <td>1.048575e+06</td>\n",
       "      <td>1.048575e+06</td>\n",
       "      <td>1.048575e+06</td>\n",
       "      <td>1.048575e+06</td>\n",
       "      <td>1.048575e+06</td>\n",
       "      <td>1.048575e+06</td>\n",
       "      <td>1.048575e+06</td>\n",
       "      <td>1.048575e+06</td>\n",
       "      <td>...</td>\n",
       "      <td>1.048575e+06</td>\n",
       "      <td>1.048575e+06</td>\n",
       "      <td>1.048575e+06</td>\n",
       "      <td>1.048575e+06</td>\n",
       "      <td>1.048575e+06</td>\n",
       "      <td>1.048575e+06</td>\n",
       "      <td>1.048575e+06</td>\n",
       "      <td>1.048575e+06</td>\n",
       "      <td>1.048575e+06</td>\n",
       "      <td>1.048575e+06</td>\n",
       "    </tr>\n",
       "    <tr>\n",
       "      <th>mean</th>\n",
       "      <td>4.876262e+03</td>\n",
       "      <td>8.107557e+00</td>\n",
       "      <td>6.255555e+06</td>\n",
       "      <td>6.206622e+00</td>\n",
       "      <td>7.211191e+00</td>\n",
       "      <td>4.479936e+02</td>\n",
       "      <td>4.521803e+03</td>\n",
       "      <td>1.745736e+02</td>\n",
       "      <td>8.389535e+00</td>\n",
       "      <td>3.879579e+01</td>\n",
       "      <td>...</td>\n",
       "      <td>2.793536e+00</td>\n",
       "      <td>2.327970e+01</td>\n",
       "      <td>5.152449e+04</td>\n",
       "      <td>2.136151e+04</td>\n",
       "      <td>8.789157e+04</td>\n",
       "      <td>3.995477e+04</td>\n",
       "      <td>3.101206e+06</td>\n",
       "      <td>7.297218e+05</td>\n",
       "      <td>4.812391e+06</td>\n",
       "      <td>2.126920e+06</td>\n",
       "    </tr>\n",
       "    <tr>\n",
       "      <th>std</th>\n",
       "      <td>1.444344e+04</td>\n",
       "      <td>4.460625e+00</td>\n",
       "      <td>1.260291e+09</td>\n",
       "      <td>4.447851e+01</td>\n",
       "      <td>1.048682e+02</td>\n",
       "      <td>1.573541e+04</td>\n",
       "      <td>1.515021e+05</td>\n",
       "      <td>2.876713e+02</td>\n",
       "      <td>1.948279e+01</td>\n",
       "      <td>5.331882e+01</td>\n",
       "      <td>...</td>\n",
       "      <td>5.557106e+00</td>\n",
       "      <td>1.106185e+01</td>\n",
       "      <td>5.815586e+05</td>\n",
       "      <td>2.186405e+05</td>\n",
       "      <td>7.395725e+05</td>\n",
       "      <td>5.602693e+05</td>\n",
       "      <td>5.414780e+08</td>\n",
       "      <td>3.820031e+08</td>\n",
       "      <td>1.522117e+09</td>\n",
       "      <td>1.817013e+07</td>\n",
       "    </tr>\n",
       "    <tr>\n",
       "      <th>min</th>\n",
       "      <td>0.000000e+00</td>\n",
       "      <td>0.000000e+00</td>\n",
       "      <td>-9.190110e+11</td>\n",
       "      <td>1.000000e+00</td>\n",
       "      <td>0.000000e+00</td>\n",
       "      <td>0.000000e+00</td>\n",
       "      <td>0.000000e+00</td>\n",
       "      <td>0.000000e+00</td>\n",
       "      <td>0.000000e+00</td>\n",
       "      <td>0.000000e+00</td>\n",
       "      <td>...</td>\n",
       "      <td>0.000000e+00</td>\n",
       "      <td>0.000000e+00</td>\n",
       "      <td>0.000000e+00</td>\n",
       "      <td>0.000000e+00</td>\n",
       "      <td>0.000000e+00</td>\n",
       "      <td>0.000000e+00</td>\n",
       "      <td>0.000000e+00</td>\n",
       "      <td>0.000000e+00</td>\n",
       "      <td>0.000000e+00</td>\n",
       "      <td>0.000000e+00</td>\n",
       "    </tr>\n",
       "    <tr>\n",
       "      <th>25%</th>\n",
       "      <td>2.200000e+01</td>\n",
       "      <td>6.000000e+00</td>\n",
       "      <td>7.000000e+00</td>\n",
       "      <td>1.000000e+00</td>\n",
       "      <td>1.000000e+00</td>\n",
       "      <td>0.000000e+00</td>\n",
       "      <td>0.000000e+00</td>\n",
       "      <td>0.000000e+00</td>\n",
       "      <td>0.000000e+00</td>\n",
       "      <td>0.000000e+00</td>\n",
       "      <td>...</td>\n",
       "      <td>0.000000e+00</td>\n",
       "      <td>2.000000e+01</td>\n",
       "      <td>0.000000e+00</td>\n",
       "      <td>0.000000e+00</td>\n",
       "      <td>0.000000e+00</td>\n",
       "      <td>0.000000e+00</td>\n",
       "      <td>0.000000e+00</td>\n",
       "      <td>0.000000e+00</td>\n",
       "      <td>0.000000e+00</td>\n",
       "      <td>0.000000e+00</td>\n",
       "    </tr>\n",
       "    <tr>\n",
       "      <th>50%</th>\n",
       "      <td>5.300000e+01</td>\n",
       "      <td>6.000000e+00</td>\n",
       "      <td>1.023000e+03</td>\n",
       "      <td>2.000000e+00</td>\n",
       "      <td>1.000000e+00</td>\n",
       "      <td>3.600000e+01</td>\n",
       "      <td>5.500000e+01</td>\n",
       "      <td>3.400000e+01</td>\n",
       "      <td>0.000000e+00</td>\n",
       "      <td>2.566667e+01</td>\n",
       "      <td>...</td>\n",
       "      <td>0.000000e+00</td>\n",
       "      <td>2.000000e+01</td>\n",
       "      <td>0.000000e+00</td>\n",
       "      <td>0.000000e+00</td>\n",
       "      <td>0.000000e+00</td>\n",
       "      <td>0.000000e+00</td>\n",
       "      <td>0.000000e+00</td>\n",
       "      <td>0.000000e+00</td>\n",
       "      <td>0.000000e+00</td>\n",
       "      <td>0.000000e+00</td>\n",
       "    </tr>\n",
       "    <tr>\n",
       "      <th>75%</th>\n",
       "      <td>4.430000e+02</td>\n",
       "      <td>6.000000e+00</td>\n",
       "      <td>4.066690e+05</td>\n",
       "      <td>7.000000e+00</td>\n",
       "      <td>6.000000e+00</td>\n",
       "      <td>4.550000e+02</td>\n",
       "      <td>7.680000e+02</td>\n",
       "      <td>1.990000e+02</td>\n",
       "      <td>0.000000e+00</td>\n",
       "      <td>5.550000e+01</td>\n",
       "      <td>...</td>\n",
       "      <td>4.000000e+00</td>\n",
       "      <td>3.200000e+01</td>\n",
       "      <td>0.000000e+00</td>\n",
       "      <td>0.000000e+00</td>\n",
       "      <td>0.000000e+00</td>\n",
       "      <td>0.000000e+00</td>\n",
       "      <td>0.000000e+00</td>\n",
       "      <td>0.000000e+00</td>\n",
       "      <td>0.000000e+00</td>\n",
       "      <td>0.000000e+00</td>\n",
       "    </tr>\n",
       "    <tr>\n",
       "      <th>max</th>\n",
       "      <td>6.553300e+04</td>\n",
       "      <td>1.700000e+01</td>\n",
       "      <td>1.200000e+08</td>\n",
       "      <td>5.115000e+03</td>\n",
       "      <td>9.198000e+03</td>\n",
       "      <td>8.591554e+06</td>\n",
       "      <td>1.339773e+07</td>\n",
       "      <td>6.444000e+04</td>\n",
       "      <td>1.460000e+03</td>\n",
       "      <td>1.121703e+04</td>\n",
       "      <td>...</td>\n",
       "      <td>1.031000e+03</td>\n",
       "      <td>4.800000e+01</td>\n",
       "      <td>1.102401e+08</td>\n",
       "      <td>5.723446e+07</td>\n",
       "      <td>1.102401e+08</td>\n",
       "      <td>1.102401e+08</td>\n",
       "      <td>3.394503e+11</td>\n",
       "      <td>2.432682e+11</td>\n",
       "      <td>9.797810e+11</td>\n",
       "      <td>1.260300e+10</td>\n",
       "    </tr>\n",
       "  </tbody>\n",
       "</table>\n",
       "<p>8 rows × 78 columns</p>\n",
       "</div>"
      ],
      "text/plain": [
       "           Dst_Port      Protocol  Flow_Duration  Tot_Fwd_Pkts  Tot_Bwd_Pkts  \\\n",
       "count  1.048575e+06  1.048575e+06   1.048575e+06  1.048575e+06  1.048575e+06   \n",
       "mean   4.876262e+03  8.107557e+00   6.255555e+06  6.206622e+00  7.211191e+00   \n",
       "std    1.444344e+04  4.460625e+00   1.260291e+09  4.447851e+01  1.048682e+02   \n",
       "min    0.000000e+00  0.000000e+00  -9.190110e+11  1.000000e+00  0.000000e+00   \n",
       "25%    2.200000e+01  6.000000e+00   7.000000e+00  1.000000e+00  1.000000e+00   \n",
       "50%    5.300000e+01  6.000000e+00   1.023000e+03  2.000000e+00  1.000000e+00   \n",
       "75%    4.430000e+02  6.000000e+00   4.066690e+05  7.000000e+00  6.000000e+00   \n",
       "max    6.553300e+04  1.700000e+01   1.200000e+08  5.115000e+03  9.198000e+03   \n",
       "\n",
       "       TotLen_Fwd_Pkts  TotLen_Bwd_Pkts  Fwd_Pkt_Len_Max  Fwd_Pkt_Len_Min  \\\n",
       "count     1.048575e+06     1.048575e+06     1.048575e+06     1.048575e+06   \n",
       "mean      4.479936e+02     4.521803e+03     1.745736e+02     8.389535e+00   \n",
       "std       1.573541e+04     1.515021e+05     2.876713e+02     1.948279e+01   \n",
       "min       0.000000e+00     0.000000e+00     0.000000e+00     0.000000e+00   \n",
       "25%       0.000000e+00     0.000000e+00     0.000000e+00     0.000000e+00   \n",
       "50%       3.600000e+01     5.500000e+01     3.400000e+01     0.000000e+00   \n",
       "75%       4.550000e+02     7.680000e+02     1.990000e+02     0.000000e+00   \n",
       "max       8.591554e+06     1.339773e+07     6.444000e+04     1.460000e+03   \n",
       "\n",
       "       Fwd_Pkt_Len_Mean  ...  Fwd_Act_Data_Pkts  Fwd_Seg_Size_Min  \\\n",
       "count      1.048575e+06  ...       1.048575e+06      1.048575e+06   \n",
       "mean       3.879579e+01  ...       2.793536e+00      2.327970e+01   \n",
       "std        5.331882e+01  ...       5.557106e+00      1.106185e+01   \n",
       "min        0.000000e+00  ...       0.000000e+00      0.000000e+00   \n",
       "25%        0.000000e+00  ...       0.000000e+00      2.000000e+01   \n",
       "50%        2.566667e+01  ...       0.000000e+00      2.000000e+01   \n",
       "75%        5.550000e+01  ...       4.000000e+00      3.200000e+01   \n",
       "max        1.121703e+04  ...       1.031000e+03      4.800000e+01   \n",
       "\n",
       "        Active_Mean    Active_Std    Active_Max    Active_Min     Idle_Mean  \\\n",
       "count  1.048575e+06  1.048575e+06  1.048575e+06  1.048575e+06  1.048575e+06   \n",
       "mean   5.152449e+04  2.136151e+04  8.789157e+04  3.995477e+04  3.101206e+06   \n",
       "std    5.815586e+05  2.186405e+05  7.395725e+05  5.602693e+05  5.414780e+08   \n",
       "min    0.000000e+00  0.000000e+00  0.000000e+00  0.000000e+00  0.000000e+00   \n",
       "25%    0.000000e+00  0.000000e+00  0.000000e+00  0.000000e+00  0.000000e+00   \n",
       "50%    0.000000e+00  0.000000e+00  0.000000e+00  0.000000e+00  0.000000e+00   \n",
       "75%    0.000000e+00  0.000000e+00  0.000000e+00  0.000000e+00  0.000000e+00   \n",
       "max    1.102401e+08  5.723446e+07  1.102401e+08  1.102401e+08  3.394503e+11   \n",
       "\n",
       "           Idle_Std      Idle_Max      Idle_Min  \n",
       "count  1.048575e+06  1.048575e+06  1.048575e+06  \n",
       "mean   7.297218e+05  4.812391e+06  2.126920e+06  \n",
       "std    3.820031e+08  1.522117e+09  1.817013e+07  \n",
       "min    0.000000e+00  0.000000e+00  0.000000e+00  \n",
       "25%    0.000000e+00  0.000000e+00  0.000000e+00  \n",
       "50%    0.000000e+00  0.000000e+00  0.000000e+00  \n",
       "75%    0.000000e+00  0.000000e+00  0.000000e+00  \n",
       "max    2.432682e+11  9.797810e+11  1.260300e+10  \n",
       "\n",
       "[8 rows x 78 columns]"
      ]
     },
     "execution_count": 51,
     "metadata": {},
     "output_type": "execute_result"
    }
   ],
   "source": [
    "IDS2018_BruteForce.describe()"
   ]
  },
  {
   "cell_type": "code",
   "execution_count": 53,
   "id": "c1293e9a-49fe-47a0-9e2a-24e3fcab1469",
   "metadata": {},
   "outputs": [
    {
     "name": "stdout",
     "output_type": "stream",
     "text": [
      "<class 'pandas.core.frame.DataFrame'>\n",
      "RangeIndex: 1048575 entries, 0 to 1048574\n",
      "Data columns (total 80 columns):\n",
      " #   Column             Non-Null Count    Dtype  \n",
      "---  ------             --------------    -----  \n",
      " 0   Dst_Port           1048575 non-null  int64  \n",
      " 1   Protocol           1048575 non-null  int64  \n",
      " 2   Timestamp          1048575 non-null  object \n",
      " 3   Flow_Duration      1048575 non-null  int64  \n",
      " 4   Tot_Fwd_Pkts       1048575 non-null  int64  \n",
      " 5   Tot_Bwd_Pkts       1048575 non-null  int64  \n",
      " 6   TotLen_Fwd_Pkts    1048575 non-null  int64  \n",
      " 7   TotLen_Bwd_Pkts    1048575 non-null  int64  \n",
      " 8   Fwd_Pkt_Len_Max    1048575 non-null  int64  \n",
      " 9   Fwd_Pkt_Len_Min    1048575 non-null  int64  \n",
      " 10  Fwd_Pkt_Len_Mean   1048575 non-null  float64\n",
      " 11  Fwd_Pkt_Len_Std    1048575 non-null  float64\n",
      " 12  Bwd_Pkt_Len_Max    1048575 non-null  int64  \n",
      " 13  Bwd_Pkt_Len_Min    1048575 non-null  int64  \n",
      " 14  Bwd_Pkt_Len_Mean   1048575 non-null  float64\n",
      " 15  Bwd_Pkt_Len_Std    1048575 non-null  float64\n",
      " 16  Flow_Byts/s        1046298 non-null  float64\n",
      " 17  Flow_Pkts/s        1048575 non-null  float64\n",
      " 18  Flow_IAT_Mean      1048575 non-null  float64\n",
      " 19  Flow_IAT_Std       1048575 non-null  float64\n",
      " 20  Flow_IAT_Max       1048575 non-null  int64  \n",
      " 21  Flow_IAT_Min       1048575 non-null  int64  \n",
      " 22  Fwd_IAT_Tot        1048575 non-null  int64  \n",
      " 23  Fwd_IAT_Mean       1048575 non-null  float64\n",
      " 24  Fwd_IAT_Std        1048575 non-null  float64\n",
      " 25  Fwd_IAT_Max        1048575 non-null  int64  \n",
      " 26  Fwd_IAT_Min        1048575 non-null  int64  \n",
      " 27  Bwd_IAT_Tot        1048575 non-null  int64  \n",
      " 28  Bwd_IAT_Mean       1048575 non-null  float64\n",
      " 29  Bwd_IAT_Std        1048575 non-null  float64\n",
      " 30  Bwd_IAT_Max        1048575 non-null  int64  \n",
      " 31  Bwd_IAT_Min        1048575 non-null  int64  \n",
      " 32  Fwd_PSH_Flags      1048575 non-null  int64  \n",
      " 33  Bwd_PSH_Flags      1048575 non-null  int64  \n",
      " 34  Fwd_URG_Flags      1048575 non-null  int64  \n",
      " 35  Bwd_URG_Flags      1048575 non-null  int64  \n",
      " 36  Fwd_Header_Len     1048575 non-null  int64  \n",
      " 37  Bwd_Header_Len     1048575 non-null  int64  \n",
      " 38  Fwd_Pkts/s         1048575 non-null  float64\n",
      " 39  Bwd_Pkts/s         1048575 non-null  float64\n",
      " 40  Pkt_Len_Min        1048575 non-null  int64  \n",
      " 41  Pkt_Len_Max        1048575 non-null  int64  \n",
      " 42  Pkt_Len_Mean       1048575 non-null  float64\n",
      " 43  Pkt_Len_Std        1048575 non-null  float64\n",
      " 44  Pkt_Len_Var        1048575 non-null  float64\n",
      " 45  FIN_Flag_Cnt       1048575 non-null  int64  \n",
      " 46  SYN_Flag_Cnt       1048575 non-null  int64  \n",
      " 47  RST_Flag_Cnt       1048575 non-null  int64  \n",
      " 48  PSH_Flag_Cnt       1048575 non-null  int64  \n",
      " 49  ACK_Flag_Cnt       1048575 non-null  int64  \n",
      " 50  URG_Flag_Cnt       1048575 non-null  int64  \n",
      " 51  CWE_Flag_Count     1048575 non-null  int64  \n",
      " 52  ECE_Flag_Cnt       1048575 non-null  int64  \n",
      " 53  Down/Up_Ratio      1048575 non-null  int64  \n",
      " 54  Pkt_Size_Avg       1048575 non-null  float64\n",
      " 55  Fwd_Seg_Size_Avg   1048575 non-null  float64\n",
      " 56  Bwd_Seg_Size_Avg   1048575 non-null  float64\n",
      " 57  Fwd_Byts/b_Avg     1048575 non-null  int64  \n",
      " 58  Fwd_Pkts/b_Avg     1048575 non-null  int64  \n",
      " 59  Fwd_Blk_Rate_Avg   1048575 non-null  int64  \n",
      " 60  Bwd_Byts/b_Avg     1048575 non-null  int64  \n",
      " 61  Bwd_Pkts/b_Avg     1048575 non-null  int64  \n",
      " 62  Bwd_Blk_Rate_Avg   1048575 non-null  int64  \n",
      " 63  Subflow_Fwd_Pkts   1048575 non-null  int64  \n",
      " 64  Subflow_Fwd_Byts   1048575 non-null  int64  \n",
      " 65  Subflow_Bwd_Pkts   1048575 non-null  int64  \n",
      " 66  Subflow_Bwd_Byts   1048575 non-null  int64  \n",
      " 67  Init_Fwd_Win_Byts  1048575 non-null  int64  \n",
      " 68  Init_Bwd_Win_Byts  1048575 non-null  int64  \n",
      " 69  Fwd_Act_Data_Pkts  1048575 non-null  int64  \n",
      " 70  Fwd_Seg_Size_Min   1048575 non-null  int64  \n",
      " 71  Active_Mean        1048575 non-null  float64\n",
      " 72  Active_Std         1048575 non-null  float64\n",
      " 73  Active_Max         1048575 non-null  int64  \n",
      " 74  Active_Min         1048575 non-null  int64  \n",
      " 75  Idle_Mean          1048575 non-null  float64\n",
      " 76  Idle_Std           1048575 non-null  float64\n",
      " 77  Idle_Max           1048575 non-null  int64  \n",
      " 78  Idle_Min           1048575 non-null  int64  \n",
      " 79  Label              1048575 non-null  object \n",
      "dtypes: float64(24), int64(54), object(2)\n",
      "memory usage: 640.0+ MB\n"
     ]
    }
   ],
   "source": [
    "IDS2018_BruteForce.info()"
   ]
  },
  {
   "cell_type": "markdown",
   "id": "c835fff4-72dd-443a-9c90-149b39482c3b",
   "metadata": {
    "jp-MarkdownHeadingCollapsed": true
   },
   "source": [
    "### 1.2 Limpieza de datos"
   ]
  },
  {
   "cell_type": "markdown",
   "id": "b2b93dda-5295-43f7-89b7-d6983feda4f9",
   "metadata": {},
   "source": [
    "#### 1.2.1 Eliminar Columnas innecesarias"
   ]
  },
  {
   "cell_type": "markdown",
   "id": "c5edf558-3f0c-4b41-b4d9-b8fd2d91d58b",
   "metadata": {},
   "source": [
    "En este análisis, la variable de tiempo no es relevante. Aunque es posible que ciertos ataques ocurran en horas similares del día, nuestro enfoque se centra en detectar los ataques en función de sus características intrínsecas, independientemente del momento en que se produzcan. Es decir, al eliminar la variable de tiempo damos a entender que no nos interesa predecir cuando va a ocurrir un ataque sino que queremos detectar y clasificar los ataques."
   ]
  },
  {
   "cell_type": "code",
   "execution_count": 54,
   "id": "a0c9039c-ce54-4a4e-8441-dba9b7617d02",
   "metadata": {},
   "outputs": [],
   "source": [
    "IDS2018_BruteForce_v0 = IDS2018_BruteForce.drop('Timestamp', axis=1)"
   ]
  },
  {
   "cell_type": "markdown",
   "id": "8e846f96-432d-4412-96f6-f77e5010028e",
   "metadata": {},
   "source": [
    "La base de datos contiene columnas que toman el mismo valor para cada registro, esto hace que no sean interesantes a la hora de crear nuestro modelo."
   ]
  },
  {
   "cell_type": "code",
   "execution_count": 56,
   "id": "81089679-a6fe-4618-bfcf-36c8139e007e",
   "metadata": {},
   "outputs": [
    {
     "data": {
      "text/plain": [
       "79"
      ]
     },
     "execution_count": 56,
     "metadata": {},
     "output_type": "execute_result"
    }
   ],
   "source": [
    "len(IDS2018_BruteForce_v0.columns)"
   ]
  },
  {
   "cell_type": "markdown",
   "id": "b6e66873-8710-4911-b67e-108859f60267",
   "metadata": {},
   "source": [
    "Eliminamos las variables que no aportan variabilidad."
   ]
  },
  {
   "cell_type": "code",
   "execution_count": 57,
   "id": "f32f8cee-2e41-46ce-bfa6-b96415ecafc1",
   "metadata": {},
   "outputs": [
    {
     "name": "stdout",
     "output_type": "stream",
     "text": [
      "La columna \"Bwd_PSH_Flags\" tiene el mismo valor en todos los registros:[0] y ha sido eliminada de la base de datos\n",
      "La columna \"Fwd_URG_Flags\" tiene el mismo valor en todos los registros:[0] y ha sido eliminada de la base de datos\n",
      "La columna \"Bwd_URG_Flags\" tiene el mismo valor en todos los registros:[0] y ha sido eliminada de la base de datos\n",
      "La columna \"CWE_Flag_Count\" tiene el mismo valor en todos los registros:[0] y ha sido eliminada de la base de datos\n",
      "La columna \"Fwd_Byts/b_Avg\" tiene el mismo valor en todos los registros:[0] y ha sido eliminada de la base de datos\n",
      "La columna \"Fwd_Pkts/b_Avg\" tiene el mismo valor en todos los registros:[0] y ha sido eliminada de la base de datos\n",
      "La columna \"Fwd_Blk_Rate_Avg\" tiene el mismo valor en todos los registros:[0] y ha sido eliminada de la base de datos\n",
      "La columna \"Bwd_Byts/b_Avg\" tiene el mismo valor en todos los registros:[0] y ha sido eliminada de la base de datos\n",
      "La columna \"Bwd_Pkts/b_Avg\" tiene el mismo valor en todos los registros:[0] y ha sido eliminada de la base de datos\n",
      "La columna \"Bwd_Blk_Rate_Avg\" tiene el mismo valor en todos los registros:[0] y ha sido eliminada de la base de datos\n"
     ]
    }
   ],
   "source": [
    "for column in IDS2018_BruteForce_v0.columns:\n",
    "    unique_vals = IDS2018_BruteForce_v0[column].unique()\n",
    "    if len(unique_vals)==1:\n",
    "        IDS2018_BruteForce_v0 = IDS2018_BruteForce_v0.drop(column, axis=1)\n",
    "        print(f'La columna \"{column}\" tiene el mismo valor en todos los registros:{unique_vals} y ha sido eliminada de la base de datos')"
   ]
  },
  {
   "cell_type": "code",
   "execution_count": 58,
   "id": "0294b3e2-22e5-408c-b73a-58e5548d86ea",
   "metadata": {},
   "outputs": [
    {
     "data": {
      "text/plain": [
       "69"
      ]
     },
     "execution_count": 58,
     "metadata": {},
     "output_type": "execute_result"
    }
   ],
   "source": [
    "len(IDS2018_BruteForce_v0.columns)"
   ]
  },
  {
   "cell_type": "markdown",
   "id": "d12ef376-6463-4391-b40f-84703bcca601",
   "metadata": {
    "jp-MarkdownHeadingCollapsed": true
   },
   "source": [
    "#### 1.2.2 Eliminar filas con registros invalidos: nulos, infinitos y valores negativos"
   ]
  },
  {
   "cell_type": "markdown",
   "id": "be1d05d6-4527-40ff-bb54-00e082448740",
   "metadata": {},
   "source": [
    "Detectamos valores nulos."
   ]
  },
  {
   "cell_type": "code",
   "execution_count": 61,
   "id": "1f84db39-1cf1-4f7e-a140-a86a4661d887",
   "metadata": {},
   "outputs": [
    {
     "name": "stdout",
     "output_type": "stream",
     "text": [
      "Column \"Flow_Byts/s\" has 2277 null values\n"
     ]
    }
   ],
   "source": [
    "# Analizamos si nuestra base de datos tiene valores nulos\n",
    "for column in IDS2018_BruteForce_v0.columns:\n",
    "    num_null = IDS2018_BruteForce_v0[column].isna().sum()\n",
    "    if num_null>0:\n",
    "        print(f'Column \"{column}\" has {num_null} null values')"
   ]
  },
  {
   "cell_type": "markdown",
   "id": "58d3c52c-00a3-4c5f-8308-3ce034321549",
   "metadata": {},
   "source": [
    "Vemos que una única columna tiene valores nulos, que representan un 0,2% del total de rgistros de la misma. Al ser un porcentaje tan bajo se ha decidido eliminar estos registros."
   ]
  },
  {
   "cell_type": "code",
   "execution_count": 63,
   "id": "3aafdb48-6b34-47e5-9d1d-9a3731e3770f",
   "metadata": {},
   "outputs": [],
   "source": [
    "IDS2018_BruteForce_v0.dropna(axis=1, inplace=True)"
   ]
  },
  {
   "cell_type": "markdown",
   "id": "c4f40346-0a46-4118-8cc0-99ae50e2d832",
   "metadata": {},
   "source": [
    "Valores invalidos como negativos o infinitos.\\\n",
    "Los valores infinitos y negativos no son válidos porque no representan situaciones realistas en el contexto de tráfico de red, y su presencia puede afectar negativamente la precisión y efectividad de los modelos de detección de intrusiones. Por tanto, es necesario eliminarlos o tratarlos."
   ]
  },
  {
   "cell_type": "code",
   "execution_count": 65,
   "id": "08897603-2206-43a1-be8e-4c3e449d3549",
   "metadata": {},
   "outputs": [
    {
     "data": {
      "text/plain": [
       "(1048575, 68)"
      ]
     },
     "execution_count": 65,
     "metadata": {},
     "output_type": "execute_result"
    }
   ],
   "source": [
    "IDS2018_BruteForce_v0.shape"
   ]
  },
  {
   "cell_type": "code",
   "execution_count": 66,
   "id": "529fbdaa-1a5e-48a2-b3c4-cb9d44c238de",
   "metadata": {},
   "outputs": [],
   "source": [
    "# Reemplazar los valores infinitos (np.inf, -np.inf) con NaN\n",
    "IDS2018_BruteForce_v0.replace([np.inf, -np.inf], np.nan, inplace=True)\n",
    "\n",
    "# Eliminar las filas que tienen valores NaN (que eran originalmente infinitos)\n",
    "IDS2018_BruteForce_v0.dropna(inplace=True)"
   ]
  },
  {
   "cell_type": "code",
   "execution_count": 67,
   "id": "e6189bc1-62e5-4845-958e-cd9c2f9659c5",
   "metadata": {},
   "outputs": [
    {
     "data": {
      "text/plain": [
       "(1044751, 68)"
      ]
     },
     "execution_count": 67,
     "metadata": {},
     "output_type": "execute_result"
    }
   ],
   "source": [
    "IDS2018_BruteForce_v0.shape\n",
    "# Se han eliminado 3.824 registros"
   ]
  },
  {
   "cell_type": "code",
   "execution_count": 68,
   "id": "19295bdb-9764-4913-a12b-f0cadde21f09",
   "metadata": {},
   "outputs": [
    {
     "name": "stdout",
     "output_type": "stream",
     "text": [
      "La columna \"Flow_Duration\" tiene 5 valores negativos\n",
      "La columna \"Flow_Pkts/s\" tiene 5 valores negativos\n",
      "La columna \"Flow_IAT_Mean\" tiene 5 valores negativos\n",
      "La columna \"Flow_IAT_Max\" tiene 2 valores negativos\n",
      "La columna \"Flow_IAT_Min\" tiene 5 valores negativos\n",
      "La columna \"Fwd_IAT_Tot\" tiene 5 valores negativos\n",
      "La columna \"Fwd_IAT_Mean\" tiene 5 valores negativos\n",
      "La columna \"Fwd_IAT_Max\" tiene 2 valores negativos\n",
      "La columna \"Fwd_IAT_Min\" tiene 5 valores negativos\n",
      "La columna \"Init_Fwd_Win_Byts\" tiene 219266 valores negativos\n",
      "La columna \"Init_Bwd_Win_Byts\" tiene 343608 valores negativos\n"
     ]
    }
   ],
   "source": [
    "# Seleccionar solo las columnas numéricas\n",
    "numeric_columns = IDS2018_BruteForce_v0.select_dtypes(include=[int, float]).columns\n",
    "\n",
    "# Recorrer cada columna numérica del DataFrame\n",
    "for column in numeric_columns:\n",
    "    # Contar la cantidad de valores negativos en la columna actual\n",
    "    num_neg = (IDS2018_BruteForce_v0[column] < 0).sum()\n",
    "    \n",
    "    # Filtrar las filas que tienen valores negativos en la columna actual\n",
    "    bbdd = IDS2018_BruteForce_v0[IDS2018_BruteForce_v0[column] < 0]\n",
    "    \n",
    "    # Si la columna tiene valores negativos, imprimir el resultado\n",
    "    if num_neg > 0:\n",
    "        print(f'La columna \"{column}\" tiene {num_neg} valores negativos')"
   ]
  },
  {
   "cell_type": "markdown",
   "id": "72692c4e-b41e-4759-b711-8bc4a20164c4",
   "metadata": {},
   "source": [
    "**Flow_Duration**: Duración total del flujo de red en microsegundos. Un valor negativo es ilógico, ya que el tiempo de duración no puede ser negativo.\\\n",
    "**Flow_Pkts/s**: Número de paquetes por segundo en el flujo. No tiene sentido que esta tasa sea negativa, ya que se refiere a una cantidad de eventos por unidad de tiempo.\\\n",
    "**Flow_IAT_Mean, Flow_IAT_Max, Flow_IAT_Min, Fwd_IAT_Tot, Fwd_IAT_Mean, Fwd_IAT_Max, Fwd_IAT_Min**: Estadísticas de los tiempos entre paquetes (Inter Arrival Time) en el flujo. Estos valores indican intervalos de tiempo, por lo que deben ser positivos.\\\n",
    "**Init_Fwd_Win_Byts y Init_Bwd_Win_Byts**: Tamaño inicial de la ventana en bytes en ambas direcciones (forward y backward). Los valores negativos en estas columnas no tienen sentido lógico. El tamaño de la ventana de bytes es una métrica que siempre debería ser un número positivo o cero, ya que representa una cantidad de datos permitidos en el flujo TCP. "
   ]
  },
  {
   "cell_type": "markdown",
   "id": "ee3f53c8-41f7-4d77-a492-28dfa01ea95f",
   "metadata": {},
   "source": [
    "En este caso tenemos tres protocolos diferentes: 0, 6 (TPT) y 17. Entonces si el protocolo es 6 Init_Fwd_Win_Byts y Init_Bwd_Win_Byts tienen que ser positivos o cero. Si no es 6, no se tiene este campo informado y por eso viene como '-1' "
   ]
  },
  {
   "cell_type": "code",
   "execution_count": 71,
   "id": "46bc9a34-69fa-41e2-a3dc-60c76aed0061",
   "metadata": {},
   "outputs": [
    {
     "name": "stdout",
     "output_type": "stream",
     "text": [
      "    Protocol  Init_Fwd_Win_Byts  Init_Bwd_Win_Byts   Label\n",
      "0          0                 -1                 -1  Benign\n",
      "57        17                 -1                 -1  Benign\n"
     ]
    }
   ],
   "source": [
    "# Filtrar filas donde 'Init_Fwd_Win_Byts' es menor que 0\n",
    "filtered_df = IDS2018_BruteForce_v0[IDS2018_BruteForce_v0['Init_Fwd_Win_Byts'] < 0]\n",
    "\n",
    "# Seleccionar las columnas de interés y obtener filas únicas\n",
    "unique_values = filtered_df[['Protocol', 'Init_Fwd_Win_Byts', 'Init_Bwd_Win_Byts','Label']].drop_duplicates()\n",
    "\n",
    "# Mostrar el resultado\n",
    "print(unique_values)"
   ]
  },
  {
   "cell_type": "code",
   "execution_count": 72,
   "id": "f9ce75de-848e-494f-98ca-837b55b97bca",
   "metadata": {},
   "outputs": [
    {
     "name": "stdout",
     "output_type": "stream",
     "text": [
      "         Protocol  Init_Fwd_Win_Byts  Init_Bwd_Win_Byts           Label\n",
      "0               0                 -1                 -1          Benign\n",
      "57             17                 -1                 -1          Benign\n",
      "189577          6                241                 -1  SSH-Bruteforce\n",
      "196108          6                 29                 -1          Benign\n",
      "365715          6              26883                 -1          Benign\n",
      "...           ...                ...                ...             ...\n",
      "1047725         6               3165                 -1          Benign\n",
      "1047727         6               3370                 -1          Benign\n",
      "1047788         6                385                 -1          Benign\n",
      "1047829         6               3635                 -1          Benign\n",
      "1048239         6                 54                 -1          Benign\n",
      "\n",
      "[1896 rows x 4 columns]\n"
     ]
    }
   ],
   "source": [
    "# Filtrar filas donde 'Init_Fwd_Win_Byts' es menor que 0\n",
    "filtered_df = IDS2018_BruteForce_v0[IDS2018_BruteForce_v0['Init_Bwd_Win_Byts'] < 0]\n",
    "\n",
    "# Seleccionar las columnas de interés y obtener filas únicas\n",
    "unique_values = filtered_df[['Protocol', 'Init_Fwd_Win_Byts', 'Init_Bwd_Win_Byts','Label']].drop_duplicates()\n",
    "\n",
    "# Mostrar el resultado\n",
    "print(unique_values)"
   ]
  },
  {
   "cell_type": "markdown",
   "id": "bff60331-7b6e-4d95-adf3-2384217b7030",
   "metadata": {},
   "source": [
    "Protocolo 0 y Protocolo 17 (UDP):\n",
    "\n",
    "\n",
    "    No utilizan control de flujo como TCP, por lo que no tienen un tamaño de ventana. El valor -1 tiene sentido aquí, indicando que no se aplica el concepto de tamaño de ventana para este protocolo.\n",
    "\n",
    "Protocolo 6 (TCP):\n",
    "\n",
    "    Los valores positivos (241, 29, 26883) en Init_Fwd_Win_Byts son normales y muestran tamaños de ventana inicial capturados correctamente. EL valor -1 en Init_Bwd_Win_Byts con TCP podría indicar un problema en la captura de datos o una conexión incompleta, especialmente si Init_Fwd_Win_Byts tiene un valor positivo mientras que Init_Bwd_Win_Byts es -1."
   ]
  },
  {
   "cell_type": "markdown",
   "id": "72690c24-bf15-4f2b-b6ba-87eb96b83ef9",
   "metadata": {},
   "source": [
    "Por tanto, entendemos que este valor '-1' no es erroneo y no lo contamos como valor negativo"
   ]
  },
  {
   "cell_type": "code",
   "execution_count": 76,
   "id": "a6ef3a0b-ab03-496d-9ccd-a247bcc2305d",
   "metadata": {},
   "outputs": [
    {
     "data": {
      "text/plain": [
       "(1044751, 68)"
      ]
     },
     "execution_count": 76,
     "metadata": {},
     "output_type": "execute_result"
    }
   ],
   "source": [
    "IDS2018_BruteForce_v0.shape"
   ]
  },
  {
   "cell_type": "code",
   "execution_count": 79,
   "id": "ad34ca98-2583-42f7-878a-fe000186d3d3",
   "metadata": {},
   "outputs": [],
   "source": [
    "IDS2018_BruteForce_v1 = IDS2018_BruteForce_v0.copy()\n",
    "# Recorrer cada columna numérica del DataFrame\n",
    "for column in numeric_columns:\n",
    "    if column not in ['Init_Fwd_Win_Byts','Init_Bwd_Win_Byts']:\n",
    "        IDS2018_BruteForce_v1 = IDS2018_BruteForce_v1[IDS2018_BruteForce_v1[column] >= 0]"
   ]
  },
  {
   "cell_type": "markdown",
   "id": "8bd684d7-b0cb-4bc8-a5e3-fdeb8f10f91f",
   "metadata": {
    "jp-MarkdownHeadingCollapsed": true
   },
   "source": [
    "#### 1.2.3 Eliminar registros duplicados"
   ]
  },
  {
   "cell_type": "code",
   "execution_count": 83,
   "id": "5ea6d192-e40b-4a74-95ca-9c134040ff76",
   "metadata": {},
   "outputs": [],
   "source": [
    "# Eliminar duplicados\n",
    "IDS2018_BruteForce_v1 = IDS2018_BruteForce_v1.drop_duplicates()"
   ]
  },
  {
   "cell_type": "markdown",
   "id": "85535514-378a-44f0-be06-345cba247f95",
   "metadata": {},
   "source": [
    "#### 1.2.3 Comparativa de registros antes y después de la limpieza"
   ]
  },
  {
   "cell_type": "code",
   "execution_count": 85,
   "id": "95343378-6df4-4f7d-a681-e3aea0ffb869",
   "metadata": {
    "scrolled": true
   },
   "outputs": [
    {
     "name": "stdout",
     "output_type": "stream",
     "text": [
      "Recuento de cada tipo en la columna 'Label':\n",
      "Benign            667626\n",
      "FTP-BruteForce    193360\n",
      "SSH-Bruteforce    187589\n",
      "Name: Label, dtype: int64\n"
     ]
    }
   ],
   "source": [
    "# ANTES DE LA LIMPUEZA\n",
    "counts = IDS2018_BruteForce['Label'].value_counts()\n",
    "# Mostrar el recuento de cada categoría en la columna 'Label'\n",
    "print(\"Recuento de cada tipo en la columna 'Label':\")\n",
    "print(counts)"
   ]
  },
  {
   "cell_type": "code",
   "execution_count": 86,
   "id": "ffb99c34-07b5-4bc7-87d3-591f3ff858d2",
   "metadata": {},
   "outputs": [
    {
     "name": "stdout",
     "output_type": "stream",
     "text": [
      "Recuento de cada tipo en la columna 'Label':\n",
      "Benign            577032\n",
      "SSH-Bruteforce     94048\n",
      "FTP-BruteForce        53\n",
      "Name: Label, dtype: int64\n"
     ]
    }
   ],
   "source": [
    "# DESPUÉS DE LA LIMPIEZA\n",
    "counts = IDS2018_BruteForce_v1['Label'].value_counts()\n",
    "# Mostrar el recuento de cada categoría en la columna 'Label'\n",
    "print(\"Recuento de cada tipo en la columna 'Label':\")\n",
    "print(counts)"
   ]
  },
  {
   "cell_type": "markdown",
   "id": "ebe58bd7-3c04-4bc0-947e-ebe41035256b",
   "metadata": {
    "jp-MarkdownHeadingCollapsed": true
   },
   "source": [
    "#### 1.2.3 Outliers"
   ]
  },
  {
   "cell_type": "markdown",
   "id": "6709f069-2168-4ed8-8198-bc2e195e7efe",
   "metadata": {},
   "source": [
    "Al aplicar algoritmos de detección de anomalías, no tiene sentido eliminar los outliers de antemano, ya que estos algoritmos están diseñados precisamente para identificar y manejar datos atípicos o anómalos. "
   ]
  },
  {
   "cell_type": "markdown",
   "id": "4a10cd0a-a9fc-4b89-99dc-b51fb20f71a1",
   "metadata": {},
   "source": [
    "### 1.3 Transformación de datos"
   ]
  },
  {
   "cell_type": "markdown",
   "id": "fd415c3a-520c-4198-a583-fecba40ee371",
   "metadata": {},
   "source": [
    "#### 1.3.1 Pasar las columnas categorícas a numericas"
   ]
  },
  {
   "cell_type": "markdown",
   "id": "b5710d7a-57b8-4979-9bef-607e0418f8e3",
   "metadata": {},
   "source": [
    "Para evitar posibles errores en el código, hemos transformado la variable categórica 'Label', la variable clase/etiqueta, en una variable numérica utilizando la técnica de Label Encoding. \n",
    "\n",
    "Dado que la variable 'Label' es categórica y está en formato de cadena de texto, complica el análisis directo. Por esta razón, se ha optado por aplicar Label Encoding para convertirla en una variable numérica. Al pasar la variable a númerica, corremos el riesgo de que se interprete un orden inexistente entre las categorías de la variable. Por ello, nos aseguraremos que los algoritmos de ml sean no ordinales."
   ]
  },
  {
   "cell_type": "code",
   "execution_count": 99,
   "id": "875c83f6-694f-4cdf-a5eb-8f45a73202b9",
   "metadata": {},
   "outputs": [],
   "source": [
    "map_target_class_label = {'Benign': 0, 'FTP-BruteForce': 1, 'SSH-Bruteforce': 2}\n",
    "IDS2018_BruteForce_v1['label_num'] = IDS2018_BruteForce_v1['Label'].map(map_target_class_label)\n",
    "IDS2018_BruteForce_v1 = IDS2018_BruteForce_v1.drop('Label', axis=1)"
   ]
  },
  {
   "cell_type": "markdown",
   "id": "47ad2a9f-154b-4480-a6e8-ccea47994557",
   "metadata": {
    "jp-MarkdownHeadingCollapsed": true
   },
   "source": [
    "#### 1.3.2 Normalización"
   ]
  },
  {
   "cell_type": "markdown",
   "id": "f9855e97-7a7d-41bb-98fe-7cdbf4026e2e",
   "metadata": {},
   "source": [
    "La normalización de datos es una técnica fundamental en el preprocesamiento para el aprendizaje automático, especialmente en el contexto de los sistemas de detección de intrusiones en redes (NIDS). Este proceso convierte las columnas numéricas a una escala común, lo que es crucial cuando las características tienen valores muy diferentes entre sí. Esto evita que las características con valores más altos dominen el proceso de aprendizaje, asegurando que todas las variables tengan un impacto similar en el modelo. Entre las técnicas de normalización más comunes están el escalado min-max y la normalización Z-score.\n",
    "\n",
    "El escalado min-max reescala los datos dentro de un rango fijo, generalmente de 0 a 1, lo cual es útil para mantener la interpretabilidad de los valores de las características. Por otro lado, la normalización Z-score es más resistente a valores atípicos, lo que la hace especialmente adecuada para conjuntos de datos de ciberseguridad como el CSE-CIC-IDS-2018, donde los valores extremos son comunes. En el contexto de detección de anomalías, hay otro método interesante. Robust Scaler está diseñado específicamente para ser resistente a los valores atípicos, ya que utiliza la mediana y el rango intercuartílico (IQR) para el escalado. Al centrarse en estos estadísticos robustos, Robust Scaler no se ve afectado por valores extremos, lo que lo hace más adecuado para detectar anomalías, que suelen representar desviaciones extremas en los datos. Dado que mi objetivo es entrenar algoritmos de clasificación para la detección de anomalías, el uso de Robust Scaler es preferible porque preserva mejor la estructura interna de los datos, ignorando los valores extremos y centrando la distribución en las características más representativas."
   ]
  },
  {
   "cell_type": "code",
   "execution_count": 103,
   "id": "65769c3b-df12-4bb6-b03b-77a686cc72a4",
   "metadata": {},
   "outputs": [],
   "source": [
    "IDS2018_RobustScaler = IDS2018_BruteForce_v1.copy()"
   ]
  },
  {
   "cell_type": "code",
   "execution_count": 102,
   "id": "67045b20-aed5-48d0-8114-a5ffe28b9981",
   "metadata": {},
   "outputs": [],
   "source": [
    "columns_to_scale = ['Dst_Port', 'Protocol', 'Flow_Duration', 'Tot_Fwd_Pkts', 'Tot_Bwd_Pkts',\n",
    "       'TotLen_Fwd_Pkts', 'TotLen_Bwd_Pkts', 'Fwd_Pkt_Len_Max',\n",
    "       'Fwd_Pkt_Len_Min', 'Fwd_Pkt_Len_Mean', 'Fwd_Pkt_Len_Std',\n",
    "       'Bwd_Pkt_Len_Max', 'Bwd_Pkt_Len_Min', 'Bwd_Pkt_Len_Mean',\n",
    "       'Bwd_Pkt_Len_Std', 'Flow_Pkts/s', 'Flow_IAT_Mean', 'Flow_IAT_Std',\n",
    "       'Flow_IAT_Max', 'Flow_IAT_Min', 'Fwd_IAT_Tot', 'Fwd_IAT_Mean',\n",
    "       'Fwd_IAT_Std', 'Fwd_IAT_Max', 'Fwd_IAT_Min', 'Bwd_IAT_Tot',\n",
    "       'Bwd_IAT_Mean', 'Bwd_IAT_Std', 'Bwd_IAT_Max', 'Bwd_IAT_Min',\n",
    "       'Fwd_PSH_Flags', 'Fwd_Header_Len', 'Bwd_Header_Len', 'Fwd_Pkts/s',\n",
    "       'Bwd_Pkts/s', 'Pkt_Len_Min', 'Pkt_Len_Max', 'Pkt_Len_Mean',\n",
    "       'Pkt_Len_Std', 'Pkt_Len_Var', 'FIN_Flag_Cnt', 'SYN_Flag_Cnt',\n",
    "       'RST_Flag_Cnt', 'PSH_Flag_Cnt', 'ACK_Flag_Cnt', 'URG_Flag_Cnt',\n",
    "       'ECE_Flag_Cnt', 'Down/Up_Ratio', 'Pkt_Size_Avg', 'Fwd_Seg_Size_Avg',\n",
    "       'Bwd_Seg_Size_Avg', 'Subflow_Fwd_Pkts', 'Subflow_Fwd_Byts',\n",
    "       'Subflow_Bwd_Pkts', 'Subflow_Bwd_Byts', 'Init_Fwd_Win_Byts',\n",
    "       'Init_Bwd_Win_Byts', 'Fwd_Act_Data_Pkts', 'Fwd_Seg_Size_Min',\n",
    "       'Active_Mean', 'Active_Std', 'Active_Max', 'Active_Min', 'Idle_Mean',\n",
    "       'Idle_Std', 'Idle_Max', 'Idle_Min']"
   ]
  },
  {
   "cell_type": "code",
   "execution_count": 104,
   "id": "070689f1-06e5-4921-b6e1-3c431f377bc0",
   "metadata": {},
   "outputs": [],
   "source": [
    "# Es necesario importar el módulo RobustScaler de sklearn.preprocessing\n",
    "# La sentencia para importarlo es: from sklearn.preprocessing import RobustScaler\n",
    "# columns_to_scale son todas las columnas que queremos escalar (todas menos la variable clase)\n",
    "\n",
    "RobustScaler = RobustScaler()\n",
    "IDS2018_RobustScaler[columns_to_scale] = RobustScaler.fit_transform(IDS2018_RobustScaler[columns_to_scale])"
   ]
  },
  {
   "cell_type": "markdown",
   "id": "4c117f0a-2a22-4514-b396-82df1b163a7f",
   "metadata": {},
   "source": [
    "#### 1.3.3 Guardado intermedio 1"
   ]
  },
  {
   "cell_type": "code",
   "execution_count": 106,
   "id": "9c417edc-eb24-4fd9-bcad-698cca4c647f",
   "metadata": {},
   "outputs": [],
   "source": [
    "# Guardamos el dataset limpio y normalizado"
   ]
  },
  {
   "cell_type": "code",
   "execution_count": 107,
   "id": "dc8418ca-e6e1-4050-9e6b-eec9c4c5afff",
   "metadata": {},
   "outputs": [],
   "source": [
    "IDS2018_RobustScaler.to_csv('clean_dataset.csv', sep=';', index=False, header=True)"
   ]
  },
  {
   "cell_type": "markdown",
   "id": "25b3ae2b-79bc-44ed-8ca3-4f415573e1c4",
   "metadata": {},
   "source": [
    "### 1.4 Selección de características"
   ]
  },
  {
   "cell_type": "markdown",
   "id": "1b490624-35ae-4b61-b74d-da6f6cf05c05",
   "metadata": {},
   "source": [
    "Leemos los csv-s obtenidos en sección anterior."
   ]
  },
  {
   "cell_type": "code",
   "execution_count": 7,
   "id": "ffffc7ea-1586-433f-bcba-799f61bb88c6",
   "metadata": {},
   "outputs": [],
   "source": [
    "# Leemos el csv\n",
    "IDS2018_RobustScaler = pd.read_csv(ruta_intermedia + 'clean_dataset.csv', sep =';')"
   ]
  },
  {
   "cell_type": "markdown",
   "id": "f930d148-dac1-4df9-9265-f66fcaaf40e8",
   "metadata": {},
   "source": [
    "Analizamos la correlación de las variables."
   ]
  },
  {
   "cell_type": "code",
   "execution_count": 112,
   "id": "de58b52c-cf43-4b9a-a563-f34a01e9302e",
   "metadata": {},
   "outputs": [
    {
     "data": {
      "text/plain": [
       "<Axes: >"
      ]
     },
     "execution_count": 112,
     "metadata": {},
     "output_type": "execute_result"
    },
    {
     "data": {
      "image/png": "[encoded data removed]",
      "text/plain": [
       "<Figure size 1200x1000 with 2 Axes>"
      ]
     },
     "metadata": {},
     "output_type": "display_data"
    }
   ],
   "source": [
    "train_corr = IDS2018_RobustScaler.corr(method='spearman')\n",
    "plt.figure(figsize=(12, 10))\n",
    "\n",
    "sns.heatmap(train_corr,\n",
    "            xticklabels=train_corr.columns,\n",
    "            yticklabels=train_corr.columns,\n",
    "            cmap=\"coolwarm\")"
   ]
  },
  {
   "cell_type": "markdown",
   "id": "72973547-189c-4468-ba0e-43175d515f20",
   "metadata": {},
   "source": [
    "A simple vista vemos que hay un gran número de variables correlacionadas altamente entre sí."
   ]
  },
  {
   "cell_type": "markdown",
   "id": "f76e8cde-b9ac-45f7-b875-0c319661266c",
   "metadata": {},
   "source": [
    "Para llevar a cabo la selección de características, hemos utilizado recursos online para optimizar nuestro código y aprovechar las ventajas de librerías externas que facilitan la exploración y análisis de nuestro dataset. En particular, hemos empleado la librería autofeatselect de Python, que ofrece herramientas avanzadas para automatizar y acelerar el proceso de selección de variables. "
   ]
  },
  {
   "cell_type": "code",
   "execution_count": 114,
   "id": "5be694b8-ec7d-4e07-989a-dc1df4047c54",
   "metadata": {},
   "outputs": [],
   "source": [
    "X = IDS2018_RobustScaler.drop(columns=['label_num'])\n",
    "y = IDS2018_RobustScaler['label_num']"
   ]
  },
  {
   "cell_type": "code",
   "execution_count": 115,
   "id": "6f7a5bc2-736d-4fc4-86b0-28ed10b89c38",
   "metadata": {},
   "outputs": [],
   "source": [
    "# Dividir el conjunto de datos en entrenamiento y prueba\n",
    "X_train, X_test, y_train, y_test = train_test_split(X, y , test_size=0.3, random_state=seed)"
   ]
  },
  {
   "cell_type": "code",
   "execution_count": 116,
   "id": "1bbb0406-1ca8-490a-bba5-e7e70f27f420",
   "metadata": {},
   "outputs": [],
   "source": [
    "# Inicializar el selector de características para clasificación\n",
    "feat_selector = AutoFeatureSelect(modeling_type='classification', \n",
    "                                  X_train=X_train, \n",
    "                                  y_train=y_train, \n",
    "                                  X_test=X_test, \n",
    "                                  y_test=y_test, \n",
    "                                  numeric_columns=X.columns.tolist(), \n",
    "                                  categorical_columns=[],  # No hay variables categóricas\n",
    "                                  seed=seed)"
   ]
  },
  {
   "cell_type": "code",
   "execution_count": 117,
   "id": "8f3e0d6c-4b9d-432e-8833-518ae9b21ea2",
   "metadata": {},
   "outputs": [],
   "source": [
    "# Detectamos variables altamente correlacionadas\n",
    "corr_feat_selector  = feat_selector.calculate_correlated_features(static_features=None,\n",
    "                                                            num_threshold=0.9,\n",
    "                                                            cat_threshold=0.9)"
   ]
  },
  {
   "cell_type": "code",
   "execution_count": 118,
   "id": "b6cd6b38-b665-4fec-9307-1fc6836df31b",
   "metadata": {},
   "outputs": [
    {
     "data": {
      "text/plain": [
       "['Tot_Bwd_Pkts',\n",
       " 'Fwd_PSH_Flags',\n",
       " 'TotLen_Fwd_Pkts',\n",
       " 'Tot_Fwd_Pkts',\n",
       " 'TotLen_Bwd_Pkts',\n",
       " 'Fwd_Pkt_Len_Mean',\n",
       " 'Bwd_Pkt_Len_Mean',\n",
       " 'RST_Flag_Cnt',\n",
       " 'Bwd_Header_Len',\n",
       " 'Subflow_Bwd_Pkts',\n",
       " 'Flow_Pkts/s',\n",
       " 'Idle_Mean',\n",
       " 'Pkt_Len_Mean',\n",
       " 'Flow_Duration',\n",
       " 'Flow_IAT_Min',\n",
       " 'Fwd_Header_Len',\n",
       " 'Flow_IAT_Mean',\n",
       " 'Fwd_IAT_Mean',\n",
       " 'Bwd_Pkt_Len_Max',\n",
       " 'Flow_IAT_Max',\n",
       " 'Idle_Max',\n",
       " 'Active_Mean',\n",
       " 'Fwd_Pkt_Len_Min',\n",
       " 'Pkt_Size_Avg',\n",
       " 'Bwd_Pkt_Len_Std',\n",
       " 'Fwd_Pkt_Len_Max',\n",
       " 'Pkt_Len_Max',\n",
       " 'Bwd_IAT_Std']"
      ]
     },
     "execution_count": 118,
     "metadata": {},
     "output_type": "execute_result"
    }
   ],
   "source": [
    "corr_feat_selector"
   ]
  },
  {
   "cell_type": "code",
   "execution_count": 119,
   "id": "9e3b5570-698c-4ee1-ac59-a0c78cd392f0",
   "metadata": {},
   "outputs": [
    {
     "data": {
      "text/plain": [
       "28"
      ]
     },
     "execution_count": 119,
     "metadata": {},
     "output_type": "execute_result"
    }
   ],
   "source": [
    "len(corr_feat_selector)"
   ]
  },
  {
   "cell_type": "code",
   "execution_count": 120,
   "id": "ea620354-0cd6-4c65-9c50-9d1c7f6d8e46",
   "metadata": {},
   "outputs": [],
   "source": [
    "# Eliminamos las variables con correlación alta\n",
    "feat_selector.drop_correlated_features()"
   ]
  },
  {
   "cell_type": "markdown",
   "id": "3ff6cf2b-bc53-41a4-aba3-e32183bbd144",
   "metadata": {},
   "source": [
    "Para identificar las características más importantes entre las restantes, se ha utilizado LightGBM, un método de boosting por gradiente basado en árboles. Hemos escogido LightGBM por su eficiencia, rapidez de entrenamiento, bajo consumo de memoria y capacidad para gestionar grandes volúmenes de datos. Además, aunque sacrificamos algo de interpretabilidad, su capacidad para manejar el desbalanceo de clases es especialmente apropiada para nuestro caso."
   ]
  },
  {
   "cell_type": "code",
   "execution_count": 122,
   "id": "68df5df5-921e-486e-94c1-21bc83b75441",
   "metadata": {},
   "outputs": [
    {
     "data": {
      "image/png": "[encoded data removed]",
      "text/plain": [
       "<Figure size 2000x1000 with 1 Axes>"
      ]
     },
     "metadata": {},
     "output_type": "display_data"
    }
   ],
   "source": [
    "lgbm_importance_df = feat_selector.lgbm_importance(hyperparam_dict=None,\n",
    "                                                   objective=None,\n",
    "                                                   return_plot=True)"
   ]
  },
  {
   "cell_type": "code",
   "execution_count": 173,
   "id": "f32b3b47-7fe2-406d-9126-7580a2a66452",
   "metadata": {},
   "outputs": [
    {
     "data": {
      "image/png": "[encoded data removed]",
      "text/plain": [
       "<Figure size 1000x600 with 1 Axes>"
      ]
     },
     "metadata": {},
     "output_type": "display_data"
    }
   ],
   "source": [
    "# Crear el gráfico de barras horizontales para la importancia de las características, el top 10\n",
    "\n",
    "top_10_features = lgbm_importance_df.nlargest(10, 'importance')\n",
    "\n",
    "plt.figure(figsize=(10, 6))\n",
    "ax = sns.barplot(y='feature', x='importance', data=top_10_features, palette='pastel')\n",
    "\n",
    "plt.title('Top 10 Características más Importantes del Modelo LGBM', fontsize=16)\n",
    "\n",
    "\n",
    "plt.xlabel('Importancia', fontsize=14)\n",
    "plt.ylabel('Características', fontsize=14)\n",
    "\n",
    "\n",
    "ax.tick_params(labelsize=12)\n",
    "sns.despine()\n",
    "plt.savefig('lgbm.png', dpi=300, bbox_inches='tight')\n",
    "plt.show()"
   ]
  },
  {
   "cell_type": "markdown",
   "id": "ef222891-e4bc-4bc1-8112-12f45ba7d4f0",
   "metadata": {},
   "source": [
    "Usamos más métodos, para seleccionar las variables segun diferentes criterios"
   ]
  },
  {
   "cell_type": "code",
   "execution_count": 136,
   "id": "9eb5d594-328f-4187-b67c-a88e1d4f791a",
   "metadata": {},
   "outputs": [
    {
     "name": "stdout",
     "output_type": "stream",
     "text": [
      "LightGBM Feature Importance is finished\n",
      "XGBoost Feature Importance is finished\n",
      "Random Forest Feature Importance is finished\n"
     ]
    },
    {
     "data": {
      "text/html": [
       "<div>\n",
       "<style scoped>\n",
       "    .dataframe tbody tr th:only-of-type {\n",
       "        vertical-align: middle;\n",
       "    }\n",
       "\n",
       "    .dataframe tbody tr th {\n",
       "        vertical-align: top;\n",
       "    }\n",
       "\n",
       "    .dataframe thead th {\n",
       "        text-align: right;\n",
       "    }\n",
       "</style>\n",
       "<table border=\"1\" class=\"dataframe\">\n",
       "  <thead>\n",
       "    <tr style=\"text-align: right;\">\n",
       "      <th></th>\n",
       "      <th>feature</th>\n",
       "      <th>lgbm_importance</th>\n",
       "      <th>xgb_importance</th>\n",
       "      <th>rf_importance</th>\n",
       "    </tr>\n",
       "  </thead>\n",
       "  <tbody>\n",
       "    <tr>\n",
       "      <th>0</th>\n",
       "      <td>Flow_IAT_Std</td>\n",
       "      <td>1.036225e+13</td>\n",
       "      <td>3.015803e-05</td>\n",
       "      <td>0.009819</td>\n",
       "    </tr>\n",
       "    <tr>\n",
       "      <th>1</th>\n",
       "      <td>Fwd_Seg_Size_Avg</td>\n",
       "      <td>1.425036e+12</td>\n",
       "      <td>0.000000e+00</td>\n",
       "      <td>0.023021</td>\n",
       "    </tr>\n",
       "    <tr>\n",
       "      <th>2</th>\n",
       "      <td>Fwd_IAT_Min</td>\n",
       "      <td>1.173499e+12</td>\n",
       "      <td>4.806105e-06</td>\n",
       "      <td>0.002150</td>\n",
       "    </tr>\n",
       "    <tr>\n",
       "      <th>3</th>\n",
       "      <td>Fwd_Pkts/s</td>\n",
       "      <td>7.720403e+11</td>\n",
       "      <td>1.810822e-03</td>\n",
       "      <td>0.011372</td>\n",
       "    </tr>\n",
       "    <tr>\n",
       "      <th>4</th>\n",
       "      <td>Bwd_Pkts/s</td>\n",
       "      <td>3.095250e+11</td>\n",
       "      <td>1.071789e-05</td>\n",
       "      <td>0.026514</td>\n",
       "    </tr>\n",
       "    <tr>\n",
       "      <th>5</th>\n",
       "      <td>Fwd_IAT_Max</td>\n",
       "      <td>2.617340e+11</td>\n",
       "      <td>4.924096e-07</td>\n",
       "      <td>0.005723</td>\n",
       "    </tr>\n",
       "  </tbody>\n",
       "</table>\n",
       "</div>"
      ],
      "text/plain": [
       "            feature  lgbm_importance  xgb_importance  rf_importance\n",
       "0      Flow_IAT_Std     1.036225e+13    3.015803e-05       0.009819\n",
       "1  Fwd_Seg_Size_Avg     1.425036e+12    0.000000e+00       0.023021\n",
       "2       Fwd_IAT_Min     1.173499e+12    4.806105e-06       0.002150\n",
       "3        Fwd_Pkts/s     7.720403e+11    1.810822e-03       0.011372\n",
       "4        Bwd_Pkts/s     3.095250e+11    1.071789e-05       0.026514\n",
       "5       Fwd_IAT_Max     2.617340e+11    4.924096e-07       0.005723"
      ]
     },
     "execution_count": 136,
     "metadata": {},
     "output_type": "execute_result"
    }
   ],
   "source": [
    "#Determine Selection Methods to Apply\n",
    "#Options: 'lgbm', 'xgb', 'rf','perimp', 'rfecv', 'boruta', 'lassocv'\n",
    "#Note: Hyperparameters of all methods can be changed\n",
    "selection_methods = ['lgbm', 'xgb', 'rf']\n",
    "final_importance  = feat_selector.apply_feature_selection(selection_methods=selection_methods,\n",
    "                                                            lgbm_hyperparams=None,\n",
    "                                                            xgb_hyperparams=None,\n",
    "                                                            rf_hyperparams=None)\n",
    "\n",
    "#Print Results\n",
    "final_importance.head(6)"
   ]
  },
  {
   "cell_type": "markdown",
   "id": "f45c4c81-3416-41b6-972d-654d7688eee0",
   "metadata": {},
   "source": [
    "Los modelos que estás usando son muy eficaces para manejar problemas multiclase. Todos ellos soportan tanto la clasificación binaria como multiclase. De hecho, XGBoost y LightGBM tienen configuraciones específicas para clasificación multiclase, lo que los hace muy adecuados para este tipo de problemas."
   ]
  },
  {
   "cell_type": "code",
   "execution_count": 138,
   "id": "0ae5ccc8-2aa3-4580-b6f9-bdd77c49ed72",
   "metadata": {
    "scrolled": true
   },
   "outputs": [
    {
     "name": "stdout",
     "output_type": "stream",
     "text": [
      "LGBM Importance sorted:\n",
      "             feature  lgbm_importance\n",
      "0      Flow_IAT_Std     1.036225e+13\n",
      "1  Fwd_Seg_Size_Avg     1.425036e+12\n",
      "2       Fwd_IAT_Min     1.173499e+12\n",
      "3        Fwd_Pkts/s     7.720403e+11\n",
      "4        Bwd_Pkts/s     3.095250e+11\n",
      "5       Fwd_IAT_Max     2.617340e+11\n",
      "6  Subflow_Fwd_Byts     1.913279e+11\n",
      "7       Pkt_Len_Std     1.390842e+11\n",
      "XGBoost Importance sorted:\n",
      "               feature  xgb_importance\n",
      "21   Fwd_Seg_Size_Min        0.964503\n",
      "26   Subflow_Bwd_Byts        0.029512\n",
      "15           Dst_Port        0.003202\n",
      "3          Fwd_Pkts/s        0.001811\n",
      "14  Init_Bwd_Win_Byts        0.000644\n",
      "8         Fwd_IAT_Tot        0.000115\n",
      "Random Forest Importance sorted:\n",
      "               feature  rf_importance\n",
      "15           Dst_Port       0.185296\n",
      "10  Fwd_Act_Data_Pkts       0.181553\n",
      "21   Fwd_Seg_Size_Min       0.134910\n",
      "6    Subflow_Fwd_Byts       0.086725\n",
      "20  Init_Fwd_Win_Byts       0.081009\n",
      "22   Subflow_Fwd_Pkts       0.080891\n"
     ]
    }
   ],
   "source": [
    "lgbm_df  = final_importance[['feature', 'lgbm_importance']].sort_values(by='lgbm_importance', ascending=False)\n",
    "xgb_df  = final_importance[['feature', 'xgb_importance']].sort_values(by='xgb_importance', ascending=False)\n",
    "rf_df  = final_importance[['feature', 'rf_importance']].sort_values(by='rf_importance', ascending=False)\n",
    "\n",
    "# Imprimir los primeros resultados para cada uno\n",
    "print(\"LGBM Importance sorted:\\n\", lgbm_df.head(8))\n",
    "print(\"XGBoost Importance sorted:\\n\", xgb_df.head(6))\n",
    "print(\"Random Forest Importance sorted:\\n\", rf_df.head(6))"
   ]
  },
  {
   "cell_type": "code",
   "execution_count": 8,
   "id": "d53bee1e-22c8-4fa8-817e-9c61e6c3fb46",
   "metadata": {},
   "outputs": [],
   "source": [
    "# Se han seleccionado las 7 variables más importantes del método LGBM\n",
    "selectedLGBM_var7 =  IDS2018_RobustScaler[['label_num',\n",
    "                                        'Fwd_Pkts/s','Flow_IAT_Std','Subflow_Bwd_Byts','Fwd_Pkt_Len_Std',\n",
    "                                        'Init_Fwd_Win_Byts','Dst_Port',\n",
    "                                        'Fwd_IAT_Min']]"
   ]
  },
  {
   "cell_type": "code",
   "execution_count": 141,
   "id": "5012bb1c-917e-4891-873f-61210e5c8f07",
   "metadata": {},
   "outputs": [
    {
     "data": {
      "text/plain": [
       "<Axes: >"
      ]
     },
     "execution_count": 141,
     "metadata": {},
     "output_type": "execute_result"
    },
    {
     "data": {
      "image/png": "[encoded data removed]",
      "text/plain": [
       "<Figure size 500x400 with 2 Axes>"
      ]
     },
     "metadata": {},
     "output_type": "display_data"
    }
   ],
   "source": [
    "# Correlaciones de las variables seleccionadas\n",
    "train_corr = selectedLGBM_var7.corr(method='spearman')\n",
    "plt.figure(figsize=(5,4))\n",
    "\n",
    "sns.heatmap(train_corr,\n",
    "            xticklabels=train_corr.columns,\n",
    "            yticklabels=train_corr.columns,\n",
    "            cmap=\"coolwarm\")"
   ]
  },
  {
   "cell_type": "markdown",
   "id": "946d1798-a09e-4d0e-9089-69e212a63297",
   "metadata": {
    "jp-MarkdownHeadingCollapsed": true
   },
   "source": [
    "## 2. KDD - Mineria de datos"
   ]
  },
  {
   "cell_type": "markdown",
   "id": "a9162c68-30f8-463d-8158-09bfb032cf64",
   "metadata": {},
   "source": [
    "### 2.1 Separamos en train, validation y test"
   ]
  },
  {
   "cell_type": "markdown",
   "id": "22121c36-d5f0-41fa-8aa1-001c303bc614",
   "metadata": {},
   "source": [
    "Dividimos antes de aplicar técnicas de desbalanceo para evitar el sesgo en los conjuntos que se usan para validar. Si aplicamos técnicas de manejo del desbalanceo (downsampling o upsampling) antes de dividir el dataset en entrenamiento y prueba, estaríamos modificando también el conjunto de prueba. Esto puede llevar a varios problemas, como obtener un conjunto de prueba no representativo o sobreestimar el rendimiento del modelo."
   ]
  },
  {
   "cell_type": "code",
   "execution_count": 11,
   "id": "d8a65c89-ad34-4507-8118-05d58e369f2a",
   "metadata": {},
   "outputs": [
    {
     "name": "stdout",
     "output_type": "stream",
     "text": [
      "Train shape: (375834, 7)\n",
      "Validation shape: (93959, 7)\n",
      "Test shape: (201340, 7)\n"
     ]
    }
   ],
   "source": [
    "\n",
    "# Separar características y etiquetas\n",
    "X = selectedLGBM_var7.drop('label_num', axis=1)\n",
    "y = selectedLGBM_var7['label_num']\n",
    "\n",
    "# Primero, dividimos en conjunto de prueba (30%) y un conjunto combinado de entrenamiento/validación (70%)\n",
    "X_train_val, X_test, y_train_val, y_test = train_test_split(X, y, test_size=0.3, random_state=seed, stratify=y)\n",
    "\n",
    "# Luego, dividimos el conjunto de entrenamiento/validación en 80% para entrenamiento y 20% para validación\n",
    "X_train, X_val, y_train, y_val = train_test_split(X_train_val, y_train_val, test_size=0.2, random_state=seed, stratify=y_train_val)\n",
    "\n",
    "# Mostramos el tamaño de los conjuntos\n",
    "print(f\"Train shape: {X_train.shape}\")\n",
    "print(f\"Validation shape: {X_val.shape}\")\n",
    "print(f\"Test shape: {X_test.shape}\")\n",
    "\n",
    "# Concatenamos X_train y y_train para manipular el dataset completo (para aplicar downsampling/upsampling)\n",
    "train_data = pd.concat([X_train, y_train], axis=1)\n",
    "val_data = pd.concat([X_val, y_val], axis=1)\n",
    "test_data = pd.concat([X_test, y_test], axis=1)"
   ]
  },
  {
   "cell_type": "markdown",
   "id": "169e3fb9-5e54-49c0-8d12-91ecbb3c9c7a",
   "metadata": {},
   "source": [
    "### 2.2 Tratamiento Desbalanceo de la clase"
   ]
  },
  {
   "cell_type": "code",
   "execution_count": 238,
   "id": "bf9ae984-4226-40f3-9544-dc1f925c0bc8",
   "metadata": {},
   "outputs": [],
   "source": [
    "# MÉTODO 1: Mantener el desbalance de clases\n",
    "# Este es el conjunto original de entrenamiento (sin cambios)\n",
    "train_imbalanced = train_data"
   ]
  },
  {
   "cell_type": "code",
   "execution_count": 254,
   "id": "f3a7b795-ccfa-46b8-bd1b-1774eb9c3d1f",
   "metadata": {},
   "outputs": [
    {
     "name": "stdout",
     "output_type": "stream",
     "text": [
      "Recuento de cada tipo en la columna 'Label':\n",
      "0    323137\n",
      "2     52667\n",
      "1        30\n",
      "Name: label_num, dtype: int64\n"
     ]
    }
   ],
   "source": [
    "#Conteo de la clase\n",
    "counts = train_imbalanced['label_num'].value_counts()\n",
    "# Mostrar el recuento de cada categoría en la columna 'Label'\n",
    "print(\"Recuento de cada tipo en la columna 'Label':\")\n",
    "print(counts)"
   ]
  },
  {
   "cell_type": "code",
   "execution_count": 32,
   "id": "577949a8-3b4f-42dd-9681-01d99582a0ec",
   "metadata": {},
   "outputs": [],
   "source": [
    "# Dataset por clases\n",
    "benign = train_data[train_data['label_num'] == 0]\n",
    "attack_ftp = train_data[train_data['label_num'] == 1]\n",
    "attack_ssh = train_data[train_data['label_num'] == 2]"
   ]
  },
  {
   "cell_type": "code",
   "execution_count": 244,
   "id": "dcba6193-60d1-40f0-8388-cf50c272e419",
   "metadata": {},
   "outputs": [],
   "source": [
    "# MÉTODO 2: Downsampling (reducir la clase mayoritaria a la clase minoritaria)\n",
    "# Hacemos downsampling de benignos (clase 0) y SSH (clase 2) al nivel de FTP (clase 1)\n",
    "benign_downsampled = resample(benign, replace=False, n_samples=len(attack_ftp), random_state=seed)\n",
    "attack_ssh_downsampled = resample(attack_ssh, replace=False, n_samples=len(attack_ftp), random_state=seed)\n",
    "\n",
    "# Crear nuevo dataset balanceado (downsampling)\n",
    "train_downsampled = pd.concat([benign_downsampled, attack_ftp, attack_ssh_downsampled])"
   ]
  },
  {
   "cell_type": "code",
   "execution_count": 256,
   "id": "532b33e5-f7a8-460c-b017-b0030d768b53",
   "metadata": {},
   "outputs": [
    {
     "name": "stdout",
     "output_type": "stream",
     "text": [
      "Recuento de cada tipo en la columna 'Label':\n",
      "0    30\n",
      "1    30\n",
      "2    30\n",
      "Name: label_num, dtype: int64\n"
     ]
    }
   ],
   "source": [
    "#Conteo de la clase\n",
    "counts = train_downsampled['label_num'].value_counts()\n",
    "# Mostrar el recuento de cada categoría en la columna 'Label'\n",
    "print(\"Recuento de cada tipo en la columna 'Label':\")\n",
    "print(counts)"
   ]
  },
  {
   "cell_type": "code",
   "execution_count": 40,
   "id": "671bac71-d3d5-4cd3-9432-f063cdad7ad3",
   "metadata": {},
   "outputs": [],
   "source": [
    "# MÉTODO 3 A: Upsampling (aumentar las clases minoritarias al tamaño de la mayoritaria)\n",
    "# Hacemos upsampling de FTP (clase 1) y SSH (clase 2) al nivel de benigno (clase 0)\n",
    "attack_ftp_upsampled = resample(attack_ftp, replace=True, n_samples=len(benign), random_state=seed)\n",
    "attack_ssh_upsampled = resample(attack_ssh, replace=True, n_samples=len(benign), random_state=seed)\n",
    "\n",
    "# Crear nuevo dataset balanceado (upsampling)\n",
    "train_upsampled = pd.concat([benign, attack_ftp_upsampled, attack_ssh_upsampled])"
   ]
  },
  {
   "cell_type": "code",
   "execution_count": 258,
   "id": "0694bc54-3cac-454d-b166-c84ae857001e",
   "metadata": {},
   "outputs": [
    {
     "name": "stdout",
     "output_type": "stream",
     "text": [
      "Recuento de cada tipo en la columna 'Label':\n",
      "0    323137\n",
      "1    323137\n",
      "2    323137\n",
      "Name: label_num, dtype: int64\n"
     ]
    }
   ],
   "source": [
    "#Conteo de la clase\n",
    "counts = train_upsampled['label_num'].value_counts()\n",
    "# Mostrar el recuento de cada categoría en la columna 'Label'\n",
    "print(\"Recuento de cada tipo en la columna 'Label':\")\n",
    "print(counts)"
   ]
  },
  {
   "cell_type": "code",
   "execution_count": 26,
   "id": "99fad1d5-a29f-47aa-86ba-a274f8221f22",
   "metadata": {},
   "outputs": [],
   "source": [
    "# MÉTODO 3 B: Upsampling (aumentar las clases minoritarias al tamaño de la mayoritaria) CON SMOTE\n",
    "# Hacemos upsampling de FTP (clase 1) y SSH (clase 2) al nivel de benigno (clase 0)\n",
    "\n",
    "# Aplicar SMOTE para aumentar las clases minoritarias\n",
    "smote = SMOTE(random_state=seed)\n",
    "X_resampled, y_resampled = smote.fit_resample(train_data.drop('label_num', axis=1), train_data['label_num'])\n",
    "\n",
    "# Convertimos X_resampled y y_resampled de nuevo en DataFrames para poder concatenarlos si es necesario\n",
    "X_resampled_df = pd.DataFrame(X_resampled, columns=train_data.drop('label_num', axis=1).columns)  # Asegurar que usamos las mismas columnas de 'train_data'\n",
    "y_resampled_df = pd.DataFrame(y_resampled, columns=['label_num'])\n",
    "\n",
    "# Crear nuevo dataset balanceado\n",
    "train_upsampled_smote = pd.concat([X_resampled_df, y_resampled_df], axis=1)"
   ]
  },
  {
   "cell_type": "code",
   "execution_count": 27,
   "id": "94fdfee4-d5a6-4fdd-8bf7-af458977a37e",
   "metadata": {},
   "outputs": [
    {
     "name": "stdout",
     "output_type": "stream",
     "text": [
      "Recuento de cada tipo en la columna 'Label':\n",
      "0    323137\n",
      "2    323137\n",
      "1    323137\n",
      "Name: label_num, dtype: int64\n"
     ]
    }
   ],
   "source": [
    "#Conteo de la clase\n",
    "counts = train_upsampled_smote['label_num'].value_counts()\n",
    "# Mostrar el recuento de cada categoría en la columna 'Label'\n",
    "print(\"Recuento de cada tipo en la columna 'Label':\")\n",
    "print(counts)"
   ]
  },
  {
   "cell_type": "code",
   "execution_count": 25,
   "id": "1af0ee46-4dbe-4278-aa25-7ba01296b733",
   "metadata": {},
   "outputs": [],
   "source": [
    "# MÉTODO 4 A: Upsampling (aumentar las clases minoritaria al tamaño de la mediana), Downsampling (mayoritaria a la mediana)\n",
    "# Hacemos upsampling de FTP (clase 1) y SSH (clase 2) al nivel de benigno (clase 0)\n",
    "attack_ftp_upsampled = resample(attack_ftp, replace=True, n_samples=len(attack_ssh), random_state=seed)\n",
    "benign_downsampled = resample(benign, replace=False, n_samples=len(attack_ssh), random_state=seed)\n",
    "# Crear nuevo dataset balanceado (upsampling)\n",
    "train_mix = pd.concat([benign_downsampled, attack_ftp_upsampled, attack_ssh])"
   ]
  },
  {
   "cell_type": "code",
   "execution_count": 27,
   "id": "5eb5a772-b2dc-4e5f-ab3b-0b06b0344e40",
   "metadata": {},
   "outputs": [
    {
     "name": "stdout",
     "output_type": "stream",
     "text": [
      "Recuento de cada tipo en la columna 'Label':\n",
      "0    52667\n",
      "1    52667\n",
      "2    52667\n",
      "Name: label_num, dtype: int64\n"
     ]
    }
   ],
   "source": [
    "#Conteo de la clase\n",
    "counts = train_mix['label_num'].value_counts()\n",
    "# Mostrar el recuento de cada categoría en la columna 'Label'\n",
    "print(\"Recuento de cada tipo en la columna 'Label':\")\n",
    "print(counts)"
   ]
  },
  {
   "cell_type": "markdown",
   "id": "79f9bd79-53fe-4549-97a3-a3d3120aff57",
   "metadata": {},
   "source": [
    "#### 2.2.1 Guardado intermedio 2"
   ]
  },
  {
   "cell_type": "code",
   "execution_count": 252,
   "id": "86ff8bac-0e9c-4a3e-9a3c-4fc20d72cb8d",
   "metadata": {},
   "outputs": [],
   "source": [
    "train_imbalanced.to_csv('train_imbalanced.csv', sep=';', index=False, header=True)\n",
    "train_downsampled.to_csv('train_downsampled.csv', sep=';', index=False, header=True)\n",
    "train_upsampled.to_csv('train_upsampled.csv', sep=';', index=False, header=True)\n",
    "train_upsampled_smote.to_csv('train_upsampled.csv', sep=';', index=False, header=True)\n",
    "train_mix.to_csv('train_mix.csv', sep=';', index=False, header=True)\n",
    "val_data.to_csv('val_data_LGBM_var7.csv', sep=';', index=False, header=True)\n",
    "test_data.to_csv('test_data_var7.csv', sep=';', index=False, header=True)"
   ]
  },
  {
   "cell_type": "markdown",
   "id": "2108e736-84e2-430e-bb6b-54a3a975f403",
   "metadata": {},
   "source": [
    "### 2.3 Aplicación de algoritmos ML"
   ]
  },
  {
   "cell_type": "code",
   "execution_count": 100,
   "id": "ffd33b49-71d2-44b6-b307-dc6b3aa541be",
   "metadata": {},
   "outputs": [],
   "source": [
    "#Lecturas\n",
    "train_imbalanced = pd.read_csv(ruta_intermedia + 'train_imbalanced.csv', sep =';')\n",
    "train_downsampled = pd.read_csv(ruta_intermedia + 'train_downsampled.csv', sep =';')\n",
    "train_upsampled = pd.read_csv(ruta_intermedia + 'train_upsampled.csv', sep =';')\n",
    "train_upsampled_smote = pd.read_csv(ruta_intermedia + 'train_upsampled_smote.csv', sep =';')\n",
    "train_mix = pd.read_csv(ruta_intermedia + 'train_mix.csv', sep =';')\n",
    "val_data = pd.read_csv(ruta_intermedia + 'val_data_LGBM_var7.csv', sep =';')\n",
    "test_data = pd.read_csv(ruta_intermedia + 'test_data_var7.csv', sep =';')"
   ]
  },
  {
   "cell_type": "code",
   "execution_count": 101,
   "id": "0384b809-a8d7-4dd7-a875-4e547814c137",
   "metadata": {},
   "outputs": [],
   "source": [
    "# Separar características y etiquetas\n",
    "X_train_inbalanced = train_imbalanced.drop('label_num', axis=1)\n",
    "y_train_inbalanced = train_imbalanced['label_num']\n",
    "\n",
    "\n",
    "X_train_downsampled = train_downsampled.drop('label_num', axis=1)\n",
    "y_train_downsampled = train_downsampled['label_num']\n",
    "\n",
    "\n",
    "X_train_upsampled = train_upsampled.drop('label_num', axis=1)\n",
    "y_train_upsampled = train_upsampled['label_num']\n",
    "\n",
    "X_train_upsampled_smote = train_upsampled_smote.drop('label_num', axis=1)\n",
    "y_train_upsampled_smote = train_upsampled_smote['label_num']\n",
    "\n",
    "X_train_mix = train_mix.drop('label_num', axis=1)\n",
    "y_train_mix = train_mix['label_num']\n",
    "\n",
    "X_val = val_data.drop('label_num', axis=1)\n",
    "y_val = val_data['label_num']\n",
    "\n",
    "\n",
    "X_test = test_data.drop('label_num', axis=1)\n",
    "y_test = test_data['label_num']"
   ]
  },
  {
   "cell_type": "markdown",
   "id": "bd289a76-26f9-48d3-94ac-19fd37182ca8",
   "metadata": {},
   "source": [
    "Cuando se trata de algoritmos que no tienen en cuenta el orden de las clases, es fundamental elegir aquellos que traten las etiquetas como categorías discretas y no numéricas continuas. Algoritmos que NO tienen en cuenta el orden (Categorías Discretas):\n",
    "\n",
    "    DecisionTreeClassifier: Este algoritmo trata las etiquetas como categorías discretas, ya que las decisiones se basan en divisiones de características, no en un orden inherente en la etiqueta.\n",
    "    RandomForestClassifier: Similar a los árboles de decisión, es adecuado porque combina múltiples árboles de decisión que no tienen en cuenta el orden de las etiquetas.\n",
    "    GradientBoostingClassifier: Aunque es un método de boosting, sigue usando árboles de decisión que no consideran el orden de las etiquetas.\n",
    "    LogisticRegression: A pesar del nombre, trata las clases como categorías discretas (multiclase en este caso) y no asume un orden entre ellas.\n",
    "    KNeighborsClassifier: Clasifica en función de la distancia a los vecinos más cercanos, por lo que no asume ningún orden entre las clases.\n",
    "    SVC (Support Vector Classifier): Aunque SVM puede usarse para problemas de regresión, el clasificador en su versión estándar trata las etiquetas como categorías discretas, no ordenadas.\n",
    "\n",
    "Algoritmos que sí tienen en cuenta el orden (NO recomendados):\n",
    "\n",
    "    RidgeClassifier: Utiliza una variante de regresión lineal, lo que implica un tratamiento continuo y considera una relación de orden entre las etiquetas.\n",
    "    LinearSVC: A diferencia de SVC, LinearSVC puede interpretar las etiquetas de manera más continua, dado que optimiza un clasificador lineal que puede verse influido por el valor numérico de las etiquetas.\n",
    "\n",
    "Las características no son independientes entre sí,por tanto descartamos aquellos que asumen independencia entre características, como gaussian_nb."
   ]
  },
  {
   "cell_type": "code",
   "execution_count": 47,
   "id": "64374604-29b5-4cd7-8a82-8d386be5387d",
   "metadata": {},
   "outputs": [],
   "source": [
    "# Lista de clasificadores\n",
    "classifiers = [\n",
    "    ('decision_tree', DecisionTreeClassifier(random_state=seed)),\n",
    "    ('random_forest', RandomForestClassifier(random_state=seed)),\n",
    "    ('gradient_boosting', GradientBoostingClassifier(random_state=seed)),\n",
    "    ('logistic_regression', LogisticRegression(random_state=seed)),\n",
    "    ('knn', KNeighborsClassifier()),\n",
    "    ('svc', SVC())\n",
    "]\n",
    "\n",
    "# Creación de pipelines para cada clasificador\n",
    "pipelines = [(name, Pipeline([(name, clf)])) for name, clf in classifiers]"
   ]
  },
  {
   "cell_type": "markdown",
   "id": "ee7e57ed-26a1-497a-a422-a8ec86455ff3",
   "metadata": {},
   "source": [
    "#### 2.3.1 INBALANCE"
   ]
  },
  {
   "cell_type": "markdown",
   "id": "0eaba96b-826f-4590-9eac-8e1f45df8b9d",
   "metadata": {},
   "source": [
    "##### 2.3.1.1 Elección mejores modelos"
   ]
  },
  {
   "cell_type": "code",
   "execution_count": 216,
   "id": "9054b5e5-8c9c-4b8c-b04f-9c587247e52e",
   "metadata": {},
   "outputs": [
    {
     "name": "stdout",
     "output_type": "stream",
     "text": [
      "\n",
      "decision_tree:\n",
      "  Accuracy = 1.0000\n",
      "  Balanced Accuracy = 0.9999\n",
      "  Precision (weighted) = 1.0000\n",
      "  Recall (weighted) = 1.0000\n",
      "  F1-Score (weighted) = 1.0000\n",
      "  ROC-AUC = 0.9999\n",
      "  Tiempo de entrenamiento = 0.4990 segundos\n",
      "  Matriz de Confusión:\n",
      "[[80785     0     0]\n",
      " [    0     7     0]\n",
      " [    3     1 13163]]\n",
      "\n",
      "random_forest:\n",
      "  Accuracy = 1.0000\n",
      "  Balanced Accuracy = 1.0000\n",
      "  Precision (weighted) = 1.0000\n",
      "  Recall (weighted) = 1.0000\n",
      "  F1-Score (weighted) = 1.0000\n",
      "  ROC-AUC = 1.0000\n",
      "  Tiempo de entrenamiento = 25.1730 segundos\n",
      "  Matriz de Confusión:\n",
      "[[80785     0     0]\n",
      " [    0     7     0]\n",
      " [    0     1 13166]]\n",
      "\n",
      "gradient_boosting:\n",
      "  Accuracy = 1.0000\n",
      "  Balanced Accuracy = 1.0000\n",
      "  Precision (weighted) = 1.0000\n",
      "  Recall (weighted) = 1.0000\n",
      "  F1-Score (weighted) = 1.0000\n",
      "  ROC-AUC = 1.0000\n",
      "  Tiempo de entrenamiento = 223.4246 segundos\n",
      "  Matriz de Confusión:\n",
      "[[80785     0     0]\n",
      " [    0     7     0]\n",
      " [    0     1 13166]]\n"
     ]
    },
    {
     "name": "stderr",
     "output_type": "stream",
     "text": [
      "C:\\Users\\AIZANE\\anaconda3\\Lib\\site-packages\\sklearn\\linear_model\\_logistic.py:469: ConvergenceWarning: lbfgs failed to converge (status=1):\n",
      "STOP: TOTAL NO. of ITERATIONS REACHED LIMIT.\n",
      "\n",
      "Increase the number of iterations (max_iter) or scale the data as shown in:\n",
      "    https://scikit-learn.org/stable/modules/preprocessing.html\n",
      "Please also refer to the documentation for alternative solver options:\n",
      "    https://scikit-learn.org/stable/modules/linear_model.html#logistic-regression\n",
      "  n_iter_i = _check_optimize_result(\n"
     ]
    },
    {
     "name": "stdout",
     "output_type": "stream",
     "text": [
      "\n",
      "logistic_regression:\n",
      "  Accuracy = 0.9968\n",
      "  Balanced Accuracy = 0.6648\n",
      "  Precision (weighted) = 0.9967\n",
      "  Recall (weighted) = 0.9968\n",
      "  F1-Score (weighted) = 0.9967\n",
      "  ROC-AUC = 0.9977\n",
      "  Tiempo de entrenamiento = 18.2411 segundos\n",
      "  Matriz de Confusión:\n",
      "[[80518     1   266]\n",
      " [    7     0     0]\n",
      " [   30     0 13137]]\n",
      "\n",
      "knn:\n",
      "  Accuracy = 0.9996\n",
      "  Balanced Accuracy = 0.8088\n",
      "  Precision (weighted) = 0.9996\n",
      "  Recall (weighted) = 0.9996\n",
      "  F1-Score (weighted) = 0.9996\n",
      "  ROC-AUC = 0.9519\n",
      "  Tiempo de entrenamiento = 2.5680 segundos\n",
      "  Matriz de Confusión:\n",
      "[[80779     1     5]\n",
      " [    4     3     0]\n",
      " [   28     0 13139]]\n",
      "\n",
      "svc:\n",
      "  Accuracy = 0.8598\n",
      "  Balanced Accuracy = 0.3333\n",
      "  Precision (weighted) = 0.7392\n",
      "  Recall (weighted) = 0.8598\n",
      "  F1-Score (weighted) = 0.7950\n",
      "  Tiempo de entrenamiento = 4888.5137 segundos\n",
      "  Matriz de Confusión:\n",
      "[[80785     0     0]\n",
      " [    7     0     0]\n",
      " [13167     0     0]]\n"
     ]
    },
    {
     "name": "stderr",
     "output_type": "stream",
     "text": [
      "C:\\Users\\AIZANE\\anaconda3\\Lib\\site-packages\\sklearn\\metrics\\_classification.py:1509: UndefinedMetricWarning: Precision is ill-defined and being set to 0.0 in labels with no predicted samples. Use `zero_division` parameter to control this behavior.\n",
      "  _warn_prf(average, modifier, f\"{metric.capitalize()} is\", len(result))\n",
      "C:\\Users\\AIZANE\\anaconda3\\Lib\\site-packages\\sklearn\\metrics\\_classification.py:1509: UndefinedMetricWarning: Precision is ill-defined and being set to 0.0 in labels with no predicted samples. Use `zero_division` parameter to control this behavior.\n",
      "  _warn_prf(average, modifier, f\"{metric.capitalize()} is\", len(result))\n",
      "C:\\Users\\AIZANE\\anaconda3\\Lib\\site-packages\\sklearn\\metrics\\_classification.py:1509: UndefinedMetricWarning: Precision is ill-defined and being set to 0.0 in labels with no predicted samples. Use `zero_division` parameter to control this behavior.\n",
      "  _warn_prf(average, modifier, f\"{metric.capitalize()} is\", len(result))\n"
     ]
    }
   ],
   "source": [
    "# Evaluación de los modelos con el conjunto de validación\n",
    "scores = {}\n",
    "times = {}\n",
    "detailed_metrics = {}\n",
    "\n",
    "for name, pipeline in pipelines:\n",
    "    \n",
    "    start_time = time.time()\n",
    "    \n",
    "    # Entrenamiento del modelo\n",
    "    pipeline.fit(X_train_inbalanced, y_train_inbalanced)\n",
    "    \n",
    "    # Medir el tiempo transcurrido desde el inicio del entrenamiento\n",
    "    training_time = time.time() - start_time\n",
    "    \n",
    "    # Predicciones en el conjunto de validación\n",
    "    y_val_pred = pipeline.predict(X_val)\n",
    "    y_val_proba = pipeline.predict_proba(X_val) if hasattr(pipeline, 'predict_proba') else None\n",
    "    \n",
    "    # Evaluación del modelo\n",
    "    accuracy = pipeline.score(X_val, y_val)\n",
    "    balanced_acc = balanced_accuracy_score(y_val, y_val_pred)\n",
    "    class_report = classification_report(y_val, y_val_pred, output_dict=True)  # Obtener como diccionario para analizar mejor\n",
    "    conf_matrix = confusion_matrix(y_val, y_val_pred)\n",
    "    \n",
    "    # Si predict_proba está disponible, calcular ROC-AUC\n",
    "    roc_auc = roc_auc_score(y_val, y_val_proba, multi_class='ovr') if y_val_proba is not None else None\n",
    "\n",
    "    # Guardar las métricas\n",
    "    scores[name] = accuracy\n",
    "    times[name] = training_time\n",
    "    detailed_metrics[name] = {\n",
    "        'Balanced Accuracy': balanced_acc,\n",
    "        'Precision (weighted)': class_report['weighted avg']['precision'],\n",
    "        'Recall (weighted)': class_report['weighted avg']['recall'],\n",
    "        'F1-Score (weighted)': class_report['weighted avg']['f1-score'],\n",
    "        'Confusion Matrix': conf_matrix,\n",
    "        'ROC-AUC': roc_auc\n",
    "    }\n",
    "\n",
    "    # Mostrar resultados\n",
    "    print(f\"\\n{name}:\")\n",
    "    print(f\"  Accuracy = {accuracy:.4f}\")\n",
    "    print(f\"  Balanced Accuracy = {balanced_acc:.4f}\")\n",
    "    print(f\"  Precision (weighted) = {class_report['weighted avg']['precision']:.4f}\")\n",
    "    print(f\"  Recall (weighted) = {class_report['weighted avg']['recall']:.4f}\")\n",
    "    print(f\"  F1-Score (weighted) = {class_report['weighted avg']['f1-score']:.4f}\")\n",
    "    if roc_auc is not None:\n",
    "        print(f\"  ROC-AUC = {roc_auc:.4f}\")\n",
    "    print(f\"  Tiempo de entrenamiento = {training_time:.4f} segundos\")\n",
    "    print(f\"  Matriz de Confusión:\\n{conf_matrix}\")"
   ]
  },
  {
   "cell_type": "markdown",
   "id": "28ec8e09-f482-4621-8324-9695856761f9",
   "metadata": {},
   "source": [
    "##### 2.3.1.2 Ajuste hiperparámetros"
   ]
  },
  {
   "cell_type": "markdown",
   "id": "7870ad9b-add0-4062-880b-fae878ea7119",
   "metadata": {},
   "source": [
    "Seleccionamos los dos mejores modelos Decision Tree y Random Forest; y ajustamos los hiperparametros. "
   ]
  },
  {
   "cell_type": "markdown",
   "id": "a10aa27c-10e8-4329-a0f6-42edfcc6ceb3",
   "metadata": {},
   "source": [
    "Decision Tree "
   ]
  },
  {
   "cell_type": "code",
   "execution_count": 18,
   "id": "4a57f406-7bb9-4574-bf1f-659b5c9eee5d",
   "metadata": {},
   "outputs": [
    {
     "name": "stdout",
     "output_type": "stream",
     "text": [
      "Best parameters found:  {'class_weight': 'balanced', 'criterion': 'gini', 'max_depth': 3, 'min_samples_leaf': 1, 'min_samples_split': 2}\n",
      "Validation accuracy: 1.0000\n"
     ]
    }
   ],
   "source": [
    "# Parrilla de hiperparámetros para Decision Tree\n",
    "param_grid_decisiontree_inbalanced = {\n",
    "    'max_depth': [3, 5, 10, 20],# Profundidad máxima del árbol\n",
    "    'min_samples_split': [2, 5, 10],# Mínimo número de muestras para dividir un nodo\n",
    "    'min_samples_leaf': [1, 2, 4],# Mínimo número de muestras en un nodo hoja\n",
    "    'criterion': ['gini', 'entropy'], # Agregamos los criterios que usa el DecisionTree\n",
    "    'class_weight': ['balanced', None]  # Agregar el parámetro para equilibrar las clases automáticamente\n",
    "}\n",
    "\n",
    "# Realizar GridSearchCV\n",
    "grid_search_decisiontree_inbalanced = GridSearchCV(DecisionTreeClassifier(random_state=seed), param_grid_decisiontree_inbalanced, cv=5, scoring='balanced_accuracy', n_jobs=-1)\n",
    "grid_search_decisiontree_inbalanced.fit(X_train_inbalanced, y_train_inbalanced)\n",
    "\n",
    "# Mejor conjunto de hiperparámetros\n",
    "print(\"Best parameters found: \", grid_search_decisiontree_inbalanced.best_params_)\n",
    "\n",
    "# Evaluar el mejor modelo en el conjunto de validación\n",
    "best_model_decisiontree_inbalanced = grid_search_decisiontree_inbalanced.best_estimator_\n",
    "y_val_pred_decisiontree_inbalanced = best_model_decisiontree_inbalanced.predict(X_val)\n",
    "print(f\"Validation accuracy: {accuracy_score(y_val, y_val_pred_decisiontree_inbalanced):.4f}\")"
   ]
  },
  {
   "cell_type": "code",
   "execution_count": 46,
   "id": "687ea640-d128-41d3-9f81-31b01112b872",
   "metadata": {},
   "outputs": [
    {
     "name": "stdout",
     "output_type": "stream",
     "text": [
      "Modelo guardado con éxito.\n"
     ]
    }
   ],
   "source": [
    "# Guardar el modelo entrenado\n",
    "joblib.dump(best_model_decisiontree_inbalanced, 'decision_tree_inbalanced_model.pkl')\n",
    "print(\"Modelo guardado con éxito.\")"
   ]
  },
  {
   "cell_type": "markdown",
   "id": "9302c656-39a6-45ae-8239-03fac766084f",
   "metadata": {},
   "source": [
    "Random Forest"
   ]
  },
  {
   "cell_type": "code",
   "execution_count": 109,
   "id": "31a6d6e6-2ab1-4b40-9dd9-c1dde6139142",
   "metadata": {},
   "outputs": [
    {
     "name": "stdout",
     "output_type": "stream",
     "text": [
      "Best parameters found:  {'bootstrap': True, 'max_depth': 10, 'min_samples_leaf': 4, 'min_samples_split': 2, 'n_estimators': 20}\n",
      "Validation accuracy: 1.0000\n"
     ]
    }
   ],
   "source": [
    "# Parrilla de hiperparámetros para Random Forest\n",
    "param_grid_rf_inbalanced = {\n",
    "    'n_estimators': [1, 10, 20, 50],  # Número de árboles en el bosque\n",
    "    'max_depth': [3, 5, 10, 15],  # Profundidad máxima de los árboles\n",
    "    'min_samples_split': [2, 5, 10],  # Mínimo número de muestras para dividir un nodo\n",
    "    'min_samples_leaf': [1, 2, 4],    # Mínimo número de muestras en un nodo hoja\n",
    "    'bootstrap': [True, False]        # Usar o no bootstrap\n",
    "}\n",
    "\n",
    "# Realizar GridSearchCV para Random Forest\n",
    "grid_search_rf_inbalanced = GridSearchCV(RandomForestClassifier(random_state=seed), param_grid_rf_inbalanced, cv=5, scoring='balanced_accuracy', n_jobs=-1)\n",
    "grid_search_rf_inbalanced.fit(X_train_inbalanced, y_train_inbalanced)\n",
    "\n",
    "# Mejor conjunto de hiperparámetros\n",
    "print(\"Best parameters found: \", grid_search_rf_inbalanced.best_params_)\n",
    "\n",
    "# Evaluar el mejor modelo en el conjunto de validación\n",
    "best_model_rf_inbalanced = grid_search_rf_inbalanced.best_estimator_\n",
    "y_val_pred_rf_inbalanced = best_model_rf_inbalanced.predict(X_val)\n",
    "print(f\"Validation accuracy: {accuracy_score(y_val, y_val_pred_rf_inbalanced):.4f}\")\n"
   ]
  },
  {
   "cell_type": "code",
   "execution_count": 110,
   "id": "dfb389f6-62fe-4566-9e0e-1131df113eeb",
   "metadata": {},
   "outputs": [
    {
     "name": "stdout",
     "output_type": "stream",
     "text": [
      "Modelo guardado con éxito.\n"
     ]
    }
   ],
   "source": [
    "# Guardar el modelo entrenado\n",
    "joblib.dump(best_model_rf_inbalanced, 'rf_inbalanced_model.pkl')\n",
    "print(\"Modelo guardado con éxito.\")"
   ]
  },
  {
   "cell_type": "markdown",
   "id": "e4ef2bcb-3b27-4ca1-b332-447f9170ea16",
   "metadata": {},
   "source": [
    "#### 2.3.2 DOWNSAMPLIG"
   ]
  },
  {
   "cell_type": "markdown",
   "id": "281fa45b-5229-46e5-8fb1-94239a0a5092",
   "metadata": {},
   "source": [
    "##### 2.3.2.1 Elección mejores modelos"
   ]
  },
  {
   "cell_type": "code",
   "execution_count": 226,
   "id": "fd221c40-d2c4-44fb-bfd9-64ead5fd7bd1",
   "metadata": {},
   "outputs": [
    {
     "name": "stdout",
     "output_type": "stream",
     "text": [
      "\n",
      "decision_tree:\n",
      "  Accuracy = 0.9813\n",
      "  Balanced Accuracy = 0.9927\n",
      "  Precision (weighted) = 0.9990\n",
      "  Recall (weighted) = 0.9813\n",
      "  F1-Score (weighted) = 0.9900\n",
      "  ROC-AUC = 0.9932\n",
      "  Tiempo de entrenamiento = 0.0080 segundos\n",
      "  Matriz de Confusión:\n",
      "[[79031  1667    87]\n",
      " [    0     7     0]\n",
      " [    0     1 13166]]\n",
      "\n",
      "random_forest:\n",
      "  Accuracy = 0.9986\n",
      "  Balanced Accuracy = 0.9988\n",
      "  Precision (weighted) = 0.9993\n",
      "  Recall (weighted) = 0.9986\n",
      "  F1-Score (weighted) = 0.9989\n",
      "  ROC-AUC = 0.9999\n",
      "  Tiempo de entrenamiento = 0.2330 segundos\n",
      "  Matriz de Confusión:\n",
      "[[80687    69    29]\n",
      " [    0     7     0]\n",
      " [   29     1 13137]]\n",
      "\n",
      "gradient_boosting:\n",
      "  Accuracy = 0.9819\n",
      "  Balanced Accuracy = 0.9924\n",
      "  Precision (weighted) = 0.9996\n",
      "  Recall (weighted) = 0.9819\n",
      "  F1-Score (weighted) = 0.9906\n",
      "  ROC-AUC = 0.9902\n",
      "  Tiempo de entrenamiento = 0.4110 segundos\n",
      "  Matriz de Confusión:\n",
      "[[79117  1667     1]\n",
      " [    0     7     0]\n",
      " [   29     1 13137]]\n"
     ]
    },
    {
     "name": "stderr",
     "output_type": "stream",
     "text": [
      "C:\\Users\\AIZANE\\anaconda3\\Lib\\site-packages\\sklearn\\linear_model\\_logistic.py:469: ConvergenceWarning: lbfgs failed to converge (status=1):\n",
      "STOP: TOTAL NO. of ITERATIONS REACHED LIMIT.\n",
      "\n",
      "Increase the number of iterations (max_iter) or scale the data as shown in:\n",
      "    https://scikit-learn.org/stable/modules/preprocessing.html\n",
      "Please also refer to the documentation for alternative solver options:\n",
      "    https://scikit-learn.org/stable/modules/linear_model.html#logistic-regression\n",
      "  n_iter_i = _check_optimize_result(\n"
     ]
    },
    {
     "name": "stdout",
     "output_type": "stream",
     "text": [
      "\n",
      "logistic_regression:\n",
      "  Accuracy = 0.9846\n",
      "  Balanced Accuracy = 0.9934\n",
      "  Precision (weighted) = 0.9886\n",
      "  Recall (weighted) = 0.9846\n",
      "  F1-Score (weighted) = 0.9863\n",
      "  ROC-AUC = 0.9896\n",
      "  Tiempo de entrenamiento = 0.0380 segundos\n",
      "  Matriz de Confusión:\n",
      "[[79369   295  1121]\n",
      " [    0     7     0]\n",
      " [   29     1 13137]]\n",
      "\n",
      "knn:\n",
      "  Accuracy = 0.8746\n",
      "  Balanced Accuracy = 0.9507\n",
      "  Precision (weighted) = 0.9877\n",
      "  Recall (weighted) = 0.8746\n",
      "  F1-Score (weighted) = 0.9259\n",
      "  ROC-AUC = 0.9894\n",
      "  Tiempo de entrenamiento = 0.0100 segundos\n",
      "  Matriz de Confusión:\n",
      "[[69030 10502  1253]\n",
      " [    0     7     0]\n",
      " [    5    25 13137]]\n",
      "\n",
      "svc:\n",
      "  Accuracy = 0.1863\n",
      "  Balanced Accuracy = 0.3512\n",
      "  Precision (weighted) = 0.8806\n",
      "  Recall (weighted) = 0.1863\n",
      "  F1-Score (weighted) = 0.1240\n",
      "  Tiempo de entrenamiento = 0.0070 segundos\n",
      "  Matriz de Confusión:\n",
      "[[ 4341  1057 75387]\n",
      " [    0     0     7]\n",
      " [    0     0 13167]]\n"
     ]
    }
   ],
   "source": [
    "# Evaluación de los modelos con el conjunto de validación\n",
    "scores = {}\n",
    "times = {}\n",
    "detailed_metrics = {}\n",
    "\n",
    "for name, pipeline in pipelines:\n",
    "    # Medir el tiempo de entrenamiento y evaluación\n",
    "    start_time = time.time()\n",
    "    \n",
    "    # Entrenamiento del modelo\n",
    "    pipeline.fit(X_train_downsampled, y_train_downsampled)\n",
    "    \n",
    "    # Medir el tiempo transcurrido desde el inicio del entrenamiento\n",
    "    training_time = time.time() - start_time\n",
    "    \n",
    "    # Predicciones en el conjunto de validación\n",
    "    y_val_pred = pipeline.predict(X_val)\n",
    "    y_val_proba = pipeline.predict_proba(X_val) if hasattr(pipeline, 'predict_proba') else None\n",
    "    \n",
    "    # Evaluación del modelo\n",
    "    accuracy = pipeline.score(X_val, y_val)\n",
    "    balanced_acc = balanced_accuracy_score(y_val, y_val_pred)\n",
    "    class_report = classification_report(y_val, y_val_pred, output_dict=True)  # Obtener como diccionario para analizar mejor\n",
    "    conf_matrix = confusion_matrix(y_val, y_val_pred)\n",
    "    \n",
    "    # Si predict_proba está disponible, calcular ROC-AUC\n",
    "    roc_auc = roc_auc_score(y_val, y_val_proba, multi_class='ovr') if y_val_proba is not None else None\n",
    "\n",
    "    # Guardar las métricas\n",
    "    scores[name] = accuracy\n",
    "    times[name] = training_time\n",
    "    detailed_metrics[name] = {\n",
    "        'Balanced Accuracy': balanced_acc,\n",
    "        'Precision (weighted)': class_report['weighted avg']['precision'],\n",
    "        'Recall (weighted)': class_report['weighted avg']['recall'],\n",
    "        'F1-Score (weighted)': class_report['weighted avg']['f1-score'],\n",
    "        'Confusion Matrix': conf_matrix,\n",
    "        'ROC-AUC': roc_auc\n",
    "    }\n",
    "\n",
    "    # Mostrar resultados\n",
    "    print(f\"\\n{name}:\")\n",
    "    print(f\"  Accuracy = {accuracy:.4f}\")\n",
    "    print(f\"  Balanced Accuracy = {balanced_acc:.4f}\")\n",
    "    print(f\"  Precision (weighted) = {class_report['weighted avg']['precision']:.4f}\")\n",
    "    print(f\"  Recall (weighted) = {class_report['weighted avg']['recall']:.4f}\")\n",
    "    print(f\"  F1-Score (weighted) = {class_report['weighted avg']['f1-score']:.4f}\")\n",
    "    if roc_auc is not None:\n",
    "        print(f\"  ROC-AUC = {roc_auc:.4f}\")\n",
    "    print(f\"  Tiempo de entrenamiento = {training_time:.4f} segundos\")\n",
    "    print(f\"  Matriz de Confusión:\\n{conf_matrix}\")"
   ]
  },
  {
   "cell_type": "markdown",
   "id": "e6012e53-af30-4a93-b88a-d7234b69e79d",
   "metadata": {},
   "source": [
    "##### 2.3.2.2 Ajuste hiperparámetros"
   ]
  },
  {
   "cell_type": "markdown",
   "id": "2eaff563-b175-48fd-87b2-c285c5f2e654",
   "metadata": {},
   "source": [
    "Seleccionamos el mejor modelo Random Forest; y ajustamos los hiperparametros."
   ]
  },
  {
   "cell_type": "code",
   "execution_count": 62,
   "id": "c56fc4ee-f553-4f90-8127-1b87d19951a0",
   "metadata": {},
   "outputs": [
    {
     "name": "stdout",
     "output_type": "stream",
     "text": [
      "Best parameters found:  {'class_weight': 'balanced', 'criterion': 'gini', 'max_depth': 3, 'min_samples_leaf': 1, 'min_samples_split': 2}\n",
      "Validation accuracy: 0.9813\n"
     ]
    }
   ],
   "source": [
    "# Parrilla de hiperparámetros para Decision Tree\n",
    "param_grid_decisiontree_downsampling = {\n",
    "    'max_depth': [3, 5, 10, 20],# Profundidad máxima del árbol\n",
    "    'min_samples_split': [2, 5, 10],# Mínimo número de muestras para dividir un nodo\n",
    "    'min_samples_leaf': [1, 2, 4],# Mínimo número de muestras en un nodo hoja\n",
    "    'criterion': ['gini', 'entropy'], # Agregamos los criterios que usa el DecisionTree\n",
    "    'class_weight': ['balanced', None]  # Agregar el parámetro para equilibrar las clases automáticamente\n",
    "}\n",
    "\n",
    "# Realizar GridSearchCV\n",
    "grid_search_decisiontree_downsampling= GridSearchCV(DecisionTreeClassifier(random_state=seed), param_grid_decisiontree_downsampling, cv=5, scoring='balanced_accuracy', n_jobs=-1)\n",
    "grid_search_decisiontree_downsampling.fit(X_train_downsampled, y_train_downsampled)\n",
    "\n",
    "# Mejor conjunto de hiperparámetros\n",
    "print(\"Best parameters found: \", grid_search_decisiontree_downsampling.best_params_)\n",
    "\n",
    "# Evaluar el mejor modelo en el conjunto de validación\n",
    "best_model_decisiontree_downsampling = grid_search_decisiontree_downsampling.best_estimator_\n",
    "y_val_pred_decisiontree_downsampling= best_model_decisiontree_downsampling.predict(X_val)\n",
    "print(f\"Validation accuracy: {accuracy_score(y_val, y_val_pred_decisiontree_downsampling):.4f}\")"
   ]
  },
  {
   "cell_type": "code",
   "execution_count": 63,
   "id": "09fc4118-ea46-4e7e-9522-6d8ee99f3ba2",
   "metadata": {},
   "outputs": [
    {
     "name": "stdout",
     "output_type": "stream",
     "text": [
      "Modelo guardado con éxito.\n"
     ]
    }
   ],
   "source": [
    "# Guardar el modelo entrenado\n",
    "joblib.dump(best_model_decisiontree_downsampling, 'dtc_downsampled_model.pkl')\n",
    "print(\"Modelo guardado con éxito.\")"
   ]
  },
  {
   "cell_type": "code",
   "execution_count": 69,
   "id": "07c898ab-e4a5-4279-a852-e90430c53641",
   "metadata": {},
   "outputs": [
    {
     "name": "stdout",
     "output_type": "stream",
     "text": [
      "Best parameters found:  {'bootstrap': True, 'max_depth': 3, 'min_samples_leaf': 1, 'min_samples_split': 2, 'n_estimators': 10}\n",
      "Validation accuracy: 0.9781\n"
     ]
    }
   ],
   "source": [
    "# Definir parrilla de hiperparámetros para Random Forest\n",
    "param_grid_rf_downsampling = {\n",
    "    'n_estimators': [1, 10, 20, 50],  # Número de árboles en el bosque\n",
    "    'max_depth': [3, 5, 10, 20],  # Profundidad máxima de los árboles\n",
    "    'min_samples_split': [2, 5, 10],  # Mínimo número de muestras para dividir un nodo\n",
    "    'min_samples_leaf': [1, 2, 4],    # Mínimo número de muestras en un nodo hoja\n",
    "    'bootstrap': [True, False]        # Usar o no bootstrap\n",
    "}\n",
    "\n",
    "# Realizar GridSearchCV para Random Forest\n",
    "grid_search_rf_downsampling = GridSearchCV(RandomForestClassifier(random_state=seed), param_grid_rf_downsampling, cv=5, scoring='balanced_accuracy', n_jobs=-1)\n",
    "grid_search_rf_downsampling.fit(X_train_downsampled, y_train_downsampled)#\n",
    "\n",
    "# Mejor conjunto de hiperparámetros\n",
    "print(\"Best parameters found: \", grid_search_rf_downsampling.best_params_)\n",
    "\n",
    "# Evaluar el mejor modelo en el conjunto de validación\n",
    "best_model_rf_downsampling = grid_search_rf_downsampling.best_estimator_\n",
    "y_val_pred_rf_downsampling = best_model_rf_downsampling.predict(X_val)\n",
    "print(f\"Validation accuracy: {accuracy_score(y_val, y_val_pred_rf_downsampling):.4f}\")\n"
   ]
  },
  {
   "cell_type": "code",
   "execution_count": 70,
   "id": "6929ba8e-dae2-43b4-b89d-a4973d00baca",
   "metadata": {},
   "outputs": [
    {
     "name": "stdout",
     "output_type": "stream",
     "text": [
      "Modelo guardado con éxito.\n"
     ]
    }
   ],
   "source": [
    "# Guardar el modelo entrenado\n",
    "joblib.dump(best_model_rf_downsampling, 'rf_downsampled_model.pkl')\n",
    "print(\"Modelo guardado con éxito.\")"
   ]
  },
  {
   "cell_type": "markdown",
   "id": "16281ea5-54ec-4600-b0d7-3e4d880dfcd5",
   "metadata": {},
   "source": [
    "knn"
   ]
  },
  {
   "cell_type": "code",
   "execution_count": 72,
   "id": "6e7ed1e9-6dc4-471b-84f1-74334dcc629f",
   "metadata": {},
   "outputs": [
    {
     "name": "stdout",
     "output_type": "stream",
     "text": [
      "Best parameters found:  {'metric': 'euclidean', 'n_neighbors': 3, 'p': 1, 'weights': 'distance'}\n",
      "Validation accuracy: 0.9554\n"
     ]
    }
   ],
   "source": [
    "# Parrilla de hiperparámetros para KNN\n",
    "param_grid_knn_downsampling = {\n",
    "    'n_neighbors': [3, 5, 10],       # Número de vecinos\n",
    "    'weights': ['uniform', 'distance'],  # Ponderación de los vecinos\n",
    "    'metric': ['euclidean', 'manhattan', 'minkowski'],  # Métrica de distancia\n",
    "    'p': [1, 2]  # Parámetro para la distancia de Minkowski (p=1: Manhattan, p=2: Euclídea)\n",
    "}\n",
    "\n",
    "# Realizar GridSearchCV para KNN\n",
    "grid_search_knn_downsampling = GridSearchCV(KNeighborsClassifier(), param_grid_knn_downsampling, cv=5, scoring='balanced_accuracy', n_jobs=-1)\n",
    "grid_search_knn_downsampling.fit(X_train_downsampled, y_train_downsampled)\n",
    "\n",
    "# Mejor conjunto de hiperparámetros\n",
    "print(\"Best parameters found: \", grid_search_knn_downsampling.best_params_)\n",
    "\n",
    "# Evaluar el mejor modelo en el conjunto de validación\n",
    "best_model_knn_downsampling = grid_search_knn_downsampling.best_estimator_\n",
    "y_val_pred_knn_downsampling = best_model_knn_downsampling.predict(X_val)\n",
    "print(f\"Validation accuracy: {accuracy_score(y_val, y_val_pred_knn_downsampling):.4f}\")\n"
   ]
  },
  {
   "cell_type": "code",
   "execution_count": 73,
   "id": "2dcc3bb5-66c3-4871-ab97-100e14a41a30",
   "metadata": {},
   "outputs": [
    {
     "name": "stdout",
     "output_type": "stream",
     "text": [
      "Modelo guardado con éxito.\n"
     ]
    }
   ],
   "source": [
    "# Guardar el modelo entrenado\n",
    "joblib.dump(best_model_knn_downsampling, 'best_model_knn_downsampling.pkl')\n",
    "print(\"Modelo guardado con éxito.\")"
   ]
  },
  {
   "cell_type": "markdown",
   "id": "aca4552f-4618-4044-8f20-a9dfdd1a7b1f",
   "metadata": {},
   "source": [
    "#### 2.3.3 UPSAMPLING"
   ]
  },
  {
   "cell_type": "markdown",
   "id": "31618499-f355-4056-8d4a-bab776e0930b",
   "metadata": {},
   "source": [
    "##### 2.3.3.1 Elección mejores modelos"
   ]
  },
  {
   "cell_type": "markdown",
   "id": "9db2c6bf-8821-47e1-8e12-decdac029766",
   "metadata": {},
   "source": [
    "Método A"
   ]
  },
  {
   "cell_type": "code",
   "execution_count": null,
   "id": "a617db9e-9234-4157-ae52-c8ac14420670",
   "metadata": {},
   "outputs": [
    {
     "name": "stdout",
     "output_type": "stream",
     "text": [
      "\n",
      "decision_tree:\n",
      "  Accuracy = 1.0000\n",
      "  Balanced Accuracy = 1.0000\n",
      "  Precision (weighted) = 1.0000\n",
      "  Recall (weighted) = 1.0000\n",
      "  F1-Score (weighted) = 1.0000\n",
      "  ROC-AUC = 1.0000\n",
      "  Tiempo de entrenamiento = 2.3310 segundos\n",
      "  Matriz de Confusión:\n",
      "[[80785     0     0]\n",
      " [    0     7     0]\n",
      " [    0     1 13166]]\n",
      "\n",
      "random_forest:\n",
      "  Accuracy = 1.0000\n",
      "  Balanced Accuracy = 1.0000\n",
      "  Precision (weighted) = 1.0000\n",
      "  Recall (weighted) = 1.0000\n",
      "  F1-Score (weighted) = 1.0000\n",
      "  ROC-AUC = 1.0000\n",
      "  Tiempo de entrenamiento = 62.6506 segundos\n",
      "  Matriz de Confusión:\n",
      "[[80785     0     0]\n",
      " [    0     7     0]\n",
      " [    0     1 13166]]\n",
      "\n",
      "gradient_boosting:\n",
      "  Accuracy = 1.0000\n",
      "  Balanced Accuracy = 1.0000\n",
      "  Precision (weighted) = 1.0000\n",
      "  Recall (weighted) = 1.0000\n",
      "  F1-Score (weighted) = 1.0000\n",
      "  ROC-AUC = 1.0000\n",
      "  Tiempo de entrenamiento = 482.4851 segundos\n",
      "  Matriz de Confusión:\n",
      "[[80785     0     0]\n",
      " [    0     7     0]\n",
      " [    0     1 13166]]\n"
     ]
    },
    {
     "name": "stderr",
     "output_type": "stream",
     "text": [
      "C:\\Users\\AIZANE\\anaconda3\\Lib\\site-packages\\sklearn\\linear_model\\_logistic.py:469: ConvergenceWarning: lbfgs failed to converge (status=1):\n",
      "STOP: TOTAL NO. of ITERATIONS REACHED LIMIT.\n",
      "\n",
      "Increase the number of iterations (max_iter) or scale the data as shown in:\n",
      "    https://scikit-learn.org/stable/modules/preprocessing.html\n",
      "Please also refer to the documentation for alternative solver options:\n",
      "    https://scikit-learn.org/stable/modules/linear_model.html#logistic-regression\n",
      "  n_iter_i = _check_optimize_result(\n"
     ]
    },
    {
     "name": "stdout",
     "output_type": "stream",
     "text": [
      "\n",
      "logistic_regression:\n",
      "  Accuracy = 0.9954\n",
      "  Balanced Accuracy = 0.9976\n",
      "  Precision (weighted) = 0.9985\n",
      "  Recall (weighted) = 0.9954\n",
      "  F1-Score (weighted) = 0.9969\n",
      "  ROC-AUC = 0.9975\n",
      "  Tiempo de entrenamiento = 33.1308 segundos\n",
      "  Matriz de Confusión:\n",
      "[[80379   297   109]\n",
      " [    0     7     0]\n",
      " [   29     1 13137]]\n",
      "\n",
      "knn:\n",
      "  Accuracy = 0.9993\n",
      "  Balanced Accuracy = 0.9040\n",
      "  Precision (weighted) = 0.9993\n",
      "  Recall (weighted) = 0.9993\n",
      "  F1-Score (weighted) = 0.9993\n",
      "  ROC-AUC = 0.9519\n",
      "  Tiempo de entrenamiento = 4.9930 segundos\n",
      "  Matriz de Confusión:\n",
      "[[80742     5    38]\n",
      " [    1     5     1]\n",
      " [   21     1 13145]]\n"
     ]
    }
   ],
   "source": [
    "# Evaluación de los modelos con el conjunto de validación\n",
    "scores = {}\n",
    "times = {}\n",
    "detailed_metrics = {}\n",
    "\n",
    "for name, pipeline in pipelines:\n",
    "    # Medir el tiempo de entrenamiento y evaluación\n",
    "    start_time = time.time()\n",
    "    \n",
    "    # Entrenamiento del modelo\n",
    "    pipeline.fit(X_train_upsampled, y_train_upsampled)\n",
    "    \n",
    "    # Medir el tiempo transcurrido desde el inicio del entrenamiento\n",
    "    training_time = time.time() - start_time\n",
    "    \n",
    "    # Predicciones en el conjunto de validación\n",
    "    y_val_pred = pipeline.predict(X_val)\n",
    "    y_val_proba = pipeline.predict_proba(X_val) if hasattr(pipeline, 'predict_proba') else None\n",
    "    \n",
    "    # Evaluación del modelo\n",
    "    accuracy = pipeline.score(X_val, y_val)\n",
    "    balanced_acc = balanced_accuracy_score(y_val, y_val_pred)\n",
    "    class_report = classification_report(y_val, y_val_pred, output_dict=True)  # Obtener como diccionario para analizar mejor\n",
    "    conf_matrix = confusion_matrix(y_val, y_val_pred)\n",
    "    \n",
    "    # Si predict_proba está disponible, calcular ROC-AUC\n",
    "    roc_auc = roc_auc_score(y_val, y_val_proba, multi_class='ovr') if y_val_proba is not None else None\n",
    "\n",
    "    # Guardar las métricas\n",
    "    scores[name] = accuracy\n",
    "    times[name] = training_time\n",
    "    detailed_metrics[name] = {\n",
    "        'Balanced Accuracy': balanced_acc,\n",
    "        'Precision (weighted)': class_report['weighted avg']['precision'],\n",
    "        'Recall (weighted)': class_report['weighted avg']['recall'],\n",
    "        'F1-Score (weighted)': class_report['weighted avg']['f1-score'],\n",
    "        'Confusion Matrix': conf_matrix,\n",
    "        'ROC-AUC': roc_auc\n",
    "    }\n",
    "\n",
    "    # Mostrar resultados\n",
    "    print(f\"\\n{name}:\")\n",
    "    print(f\"  Accuracy = {accuracy:.4f}\")\n",
    "    print(f\"  Balanced Accuracy = {balanced_acc:.4f}\")\n",
    "    print(f\"  Precision (weighted) = {class_report['weighted avg']['precision']:.4f}\")\n",
    "    print(f\"  Recall (weighted) = {class_report['weighted avg']['recall']:.4f}\")\n",
    "    print(f\"  F1-Score (weighted) = {class_report['weighted avg']['f1-score']:.4f}\")\n",
    "    if roc_auc is not None:\n",
    "        print(f\"  ROC-AUC = {roc_auc:.4f}\")\n",
    "    print(f\"  Tiempo de entrenamiento = {training_time:.4f} segundos\")\n",
    "    print(f\"  Matriz de Confusión:\\n{conf_matrix}\")"
   ]
  },
  {
   "cell_type": "code",
   "execution_count": null,
   "id": "212d27e4-e04d-4a93-97b5-9cb1a4f1dfef",
   "metadata": {},
   "outputs": [],
   "source": [
    "# He dejado más de 24h ejecuntando y no ha terminado de ejecutarse el modelo SVC"
   ]
  },
  {
   "cell_type": "markdown",
   "id": "073b8972-92c0-4c7d-909d-53c17475facd",
   "metadata": {},
   "source": [
    "Método B - SMOTE"
   ]
  },
  {
   "cell_type": "code",
   "execution_count": null,
   "id": "fc54b652-ac47-43ae-b13f-df7e5e4ba65b",
   "metadata": {},
   "outputs": [
    {
     "name": "stdout",
     "output_type": "stream",
     "text": [
      "\n",
      "decision_tree:\n",
      "  Accuracy = 1.0000\n",
      "  Balanced Accuracy = 1.0000\n",
      "  Precision (weighted) = 1.0000\n",
      "  Recall (weighted) = 1.0000\n",
      "  F1-Score (weighted) = 1.0000\n",
      "  ROC-AUC = 1.0000\n",
      "  Tiempo de entrenamiento = 3.1860 segundos\n",
      "  Matriz de Confusión:\n",
      "[[80785     0     0]\n",
      " [    0     7     0]\n",
      " [    0     1 13166]]\n",
      "\n",
      "random_forest:\n",
      "  Accuracy = 1.0000\n",
      "  Balanced Accuracy = 1.0000\n",
      "  Precision (weighted) = 1.0000\n",
      "  Recall (weighted) = 1.0000\n",
      "  F1-Score (weighted) = 1.0000\n",
      "  ROC-AUC = 1.0000\n",
      "  Tiempo de entrenamiento = 104.9404 segundos\n",
      "  Matriz de Confusión:\n",
      "[[80785     0     0]\n",
      " [    0     7     0]\n",
      " [    0     1 13166]]\n",
      "\n",
      "gradient_boosting:\n",
      "  Accuracy = 1.0000\n",
      "  Balanced Accuracy = 1.0000\n",
      "  Precision (weighted) = 1.0000\n",
      "  Recall (weighted) = 1.0000\n",
      "  F1-Score (weighted) = 1.0000\n",
      "  ROC-AUC = 1.0000\n",
      "  Tiempo de entrenamiento = 732.2357 segundos\n",
      "  Matriz de Confusión:\n",
      "[[80785     0     0]\n",
      " [    0     7     0]\n",
      " [    0     1 13166]]\n"
     ]
    },
    {
     "name": "stderr",
     "output_type": "stream",
     "text": [
      "C:\\Users\\AIZANE\\anaconda3\\Lib\\site-packages\\sklearn\\linear_model\\_logistic.py:469: ConvergenceWarning: lbfgs failed to converge (status=1):\n",
      "STOP: TOTAL NO. of ITERATIONS REACHED LIMIT.\n",
      "\n",
      "Increase the number of iterations (max_iter) or scale the data as shown in:\n",
      "    https://scikit-learn.org/stable/modules/preprocessing.html\n",
      "Please also refer to the documentation for alternative solver options:\n",
      "    https://scikit-learn.org/stable/modules/linear_model.html#logistic-regression\n",
      "  n_iter_i = _check_optimize_result(\n"
     ]
    },
    {
     "name": "stdout",
     "output_type": "stream",
     "text": [
      "\n",
      "logistic_regression:\n",
      "  Accuracy = 0.9950\n",
      "  Balanced Accuracy = 0.9974\n",
      "  Precision (weighted) = 0.9981\n",
      "  Recall (weighted) = 0.9950\n",
      "  F1-Score (weighted) = 0.9965\n",
      "  ROC-AUC = 0.9975\n",
      "  Tiempo de entrenamiento = 43.4590 segundos\n",
      "  Matriz de Confusión:\n",
      "[[80347   287   151]\n",
      " [    0     7     0]\n",
      " [   26     4 13137]]\n",
      "\n",
      "knn:\n",
      "  Accuracy = 0.9993\n",
      "  Balanced Accuracy = 0.9992\n",
      "  Precision (weighted) = 0.9994\n",
      "  Recall (weighted) = 0.9993\n",
      "  F1-Score (weighted) = 0.9994\n",
      "  ROC-AUC = 0.9997\n",
      "  Tiempo de entrenamiento = 8.0030 segundos\n",
      "  Matriz de Confusión:\n",
      "[[80750    10    25]\n",
      " [    0     7     0]\n",
      " [   25     2 13140]]\n"
     ]
    }
   ],
   "source": [
    "# Evaluación de los modelos con el conjunto de validación\n",
    "scores = {}\n",
    "times = {}\n",
    "detailed_metrics = {}\n",
    "\n",
    "for name, pipeline in pipelines:\n",
    "    # Medir el tiempo de entrenamiento y evaluación\n",
    "    start_time = time.time()\n",
    "    \n",
    "    # Entrenamiento del modelo\n",
    "    pipeline.fit(X_train_upsampled_smote, y_train_upsampled_smote)\n",
    "    \n",
    "    # Medir el tiempo transcurrido desde el inicio del entrenamiento\n",
    "    training_time = time.time() - start_time\n",
    "    \n",
    "    # Predicciones en el conjunto de validación\n",
    "    y_val_pred = pipeline.predict(X_val)\n",
    "    y_val_proba = pipeline.predict_proba(X_val) if hasattr(pipeline, 'predict_proba') else None\n",
    "    \n",
    "    # Evaluación del modelo\n",
    "    accuracy = pipeline.score(X_val, y_val)\n",
    "    balanced_acc = balanced_accuracy_score(y_val, y_val_pred)\n",
    "    class_report = classification_report(y_val, y_val_pred, output_dict=True)  # Obtener como diccionario para analizar mejor\n",
    "    conf_matrix = confusion_matrix(y_val, y_val_pred)\n",
    "    \n",
    "    # Si predict_proba está disponible, calcular ROC-AUC\n",
    "    roc_auc = roc_auc_score(y_val, y_val_proba, multi_class='ovr') if y_val_proba is not None else None\n",
    "\n",
    "    # Guardar las métricas\n",
    "    scores[name] = accuracy\n",
    "    times[name] = training_time\n",
    "    detailed_metrics[name] = {\n",
    "        'Balanced Accuracy': balanced_acc,\n",
    "        'Precision (weighted)': class_report['weighted avg']['precision'],\n",
    "        'Recall (weighted)': class_report['weighted avg']['recall'],\n",
    "        'F1-Score (weighted)': class_report['weighted avg']['f1-score'],\n",
    "        'Confusion Matrix': conf_matrix,\n",
    "        'ROC-AUC': roc_auc\n",
    "    }\n",
    "\n",
    "    # Mostrar resultados\n",
    "    print(f\"\\n{name}:\")\n",
    "    print(f\"  Accuracy = {accuracy:.4f}\")\n",
    "    print(f\"  Balanced Accuracy = {balanced_acc:.4f}\")\n",
    "    print(f\"  Precision (weighted) = {class_report['weighted avg']['precision']:.4f}\")\n",
    "    print(f\"  Recall (weighted) = {class_report['weighted avg']['recall']:.4f}\")\n",
    "    print(f\"  F1-Score (weighted) = {class_report['weighted avg']['f1-score']:.4f}\")\n",
    "    if roc_auc is not None:\n",
    "        print(f\"  ROC-AUC = {roc_auc:.4f}\")\n",
    "    print(f\"  Tiempo de entrenamiento = {training_time:.4f} segundos\")\n",
    "    print(f\"  Matriz de Confusión:\\n{conf_matrix}\")"
   ]
  },
  {
   "cell_type": "code",
   "execution_count": null,
   "id": "dcdcd87b-0e14-489e-a556-cfebfdc2525a",
   "metadata": {},
   "outputs": [],
   "source": [
    "# He dejado más de 24h ejecuntando y no ha terminado de ejecutarse el modelo SVC"
   ]
  },
  {
   "cell_type": "markdown",
   "id": "ad2181af-ef63-4ca8-8b6d-6f57c9c1a363",
   "metadata": {},
   "source": [
    "##### 2.3.3.2 Ajuste hiperparámetros"
   ]
  },
  {
   "cell_type": "markdown",
   "id": "ec7e8dad-8ff6-421d-a5a6-4c613b803910",
   "metadata": {},
   "source": [
    "Seleccionamos mejores modelos y ajustamos los hiperparametros."
   ]
  },
  {
   "cell_type": "markdown",
   "id": "b8772db0-c31c-4e55-a42e-80e6b3d95eb4",
   "metadata": {},
   "source": [
    "Método A"
   ]
  },
  {
   "cell_type": "code",
   "execution_count": 119,
   "id": "4b6dce19-c2a5-425a-bb37-39d73f493fbe",
   "metadata": {},
   "outputs": [
    {
     "name": "stdout",
     "output_type": "stream",
     "text": [
      "Best parameters found:  {'criterion': 'gini', 'max_depth': 10, 'min_samples_leaf': 1, 'min_samples_split': 2}\n",
      "Validation accuracy: 1.0000\n"
     ]
    }
   ],
   "source": [
    "# Parrilla de hiperparámetros para el árbol de decisión\n",
    "param_grid_decisiontree_upsampling = {\n",
    "    'max_depth': [3, 5, 10, 20],# Profundidad máxima del árbol\n",
    "    'min_samples_split': [2, 5, 10],# Mínimo número de muestras para dividir un nodo\n",
    "    'min_samples_leaf': [1, 2, 4],# Mínimo número de muestras en un nodo hoja\n",
    "    'criterion': ['gini', 'entropy']  # Agregamos los criterios que usa el DecisionTree\n",
    "}\n",
    "\n",
    "# Realizar GridSearchCV\n",
    "grid_search_decisiontree_upsampling = GridSearchCV(DecisionTreeClassifier(random_state=seed), param_grid_decisiontree_upsampling, cv=5, scoring='balanced_accuracy', n_jobs=-1)\n",
    "grid_search_decisiontree_upsampling.fit(X_train_upsampled, y_train_upsampled)\n",
    "\n",
    "# Mejor conjunto de hiperparámetros\n",
    "print(\"Best parameters found: \", grid_search_decisiontree_upsampling.best_params_)\n",
    "\n",
    "# Evaluar el mejor modelo en el conjunto de validación\n",
    "best_model_decisiontree_upsampling = grid_search_decisiontree_upsampling.best_estimator_\n",
    "y_val_pred_decisiontree_upsampling = best_model_decisiontree_upsampling.predict(X_val)\n",
    "print(f\"Validation accuracy: {accuracy_score(y_val, y_val_pred_decisiontree_upsampling):.4f}\")"
   ]
  },
  {
   "cell_type": "code",
   "execution_count": 120,
   "id": "c0f3f92f-3bba-4537-a9f0-4b31c1e1546a",
   "metadata": {},
   "outputs": [
    {
     "name": "stdout",
     "output_type": "stream",
     "text": [
      "Modelo guardado con éxito.\n"
     ]
    }
   ],
   "source": [
    "# Guardar el modelo entrenado\n",
    "joblib.dump(best_model_decisiontree_upsampling, '_decisiontree_upsampling_model.pkl')\n",
    "print(\"Modelo guardado con éxito.\")"
   ]
  },
  {
   "cell_type": "markdown",
   "id": "05e39f3e-ec74-4bae-9ff2-f7b58de80fff",
   "metadata": {},
   "source": [
    "Método B"
   ]
  },
  {
   "cell_type": "code",
   "execution_count": 11,
   "id": "b854bcd6-43da-4fb9-a847-da5c98a7635f",
   "metadata": {},
   "outputs": [
    {
     "name": "stdout",
     "output_type": "stream",
     "text": [
      "Best parameters found:  {'criterion': 'gini', 'max_depth': 3, 'min_samples_leaf': 1, 'min_samples_split': 2}\n",
      "Validation accuracy: 1.0000\n"
     ]
    }
   ],
   "source": [
    "# Parrilla de hiperparámetros para el árbol de decisión\n",
    "param_grid_decisiontree_upsampling_smote = {\n",
    "    'max_depth': [3, 5, 10, 20],# Profundidad máxima del árbol\n",
    "    'min_samples_split': [2, 5, 10],# Mínimo número de muestras para dividir un nodo\n",
    "    'min_samples_leaf': [1, 2, 4],# Mínimo número de muestras en un nodo hoja\n",
    "    'criterion': ['gini', 'entropy']  # Agregamos los criterios que usa el DecisionTree\n",
    "}\n",
    "\n",
    "# Realizar GridSearchCV\n",
    "grid_search_decisiontree_upsampling_smote = GridSearchCV(DecisionTreeClassifier(random_state=seed), param_grid_decisiontree_upsampling_smote, cv=5, scoring='balanced_accuracy', n_jobs=-1)\n",
    "grid_search_decisiontree_upsampling_smote.fit(X_train_upsampled_smote, y_train_upsampled_smote)\n",
    "\n",
    "# Mejor conjunto de hiperparámetros\n",
    "print(\"Best parameters found: \", grid_search_decisiontree_upsampling_smote.best_params_)\n",
    "\n",
    "# Evaluar el mejor modelo en el conjunto de validación\n",
    "best_model_decisiontree_upsampling_smote = grid_search_decisiontree_upsampling_smote.best_estimator_\n",
    "y_val_pred_decisiontree_upsampling_smote = best_model_decisiontree_upsampling_smote.predict(X_val)\n",
    "print(f\"Validation accuracy: {accuracy_score(y_val, y_val_pred_decisiontree_upsampling_smote):.4f}\")"
   ]
  },
  {
   "cell_type": "code",
   "execution_count": 12,
   "id": "8d8a1217-e2e3-4f02-964f-3e43c50cd63d",
   "metadata": {},
   "outputs": [
    {
     "name": "stdout",
     "output_type": "stream",
     "text": [
      "Modelo guardado con éxito.\n"
     ]
    }
   ],
   "source": [
    "# Guardar el modelo entrenado\n",
    "joblib.dump(best_model_decisiontree_upsampling_smote, 'decisiontree_upsampling_smote_model.pkl')\n",
    "print(\"Modelo guardado con éxito.\")"
   ]
  },
  {
   "cell_type": "markdown",
   "id": "e38765d3-b1c3-4bfd-9b0e-608e509934af",
   "metadata": {},
   "source": [
    "#### 2.3.4 MIX"
   ]
  },
  {
   "cell_type": "markdown",
   "id": "0af81604-cc28-44e5-8236-827f737403a8",
   "metadata": {},
   "source": [
    "##### 2.3.4.1 Elección mejores modelos"
   ]
  },
  {
   "cell_type": "code",
   "execution_count": 15,
   "id": "4124ceb8-8369-4474-ade8-61331cd8c77b",
   "metadata": {},
   "outputs": [
    {
     "name": "stdout",
     "output_type": "stream",
     "text": [
      "\n",
      "decision_tree:\n",
      "  Accuracy = 1.0000\n",
      "  Balanced Accuracy = 1.0000\n",
      "  Precision (weighted) = 1.0000\n",
      "  Recall (weighted) = 1.0000\n",
      "  F1-Score (weighted) = 1.0000\n",
      "  ROC-AUC = 1.0000\n",
      "  Tiempo de entrenamiento = 0.2010 segundos\n",
      "  Matriz de Confusión:\n",
      "[[80783     2     0]\n",
      " [    0     7     0]\n",
      " [    0     1 13166]]\n",
      "\n",
      "random_forest:\n",
      "  Accuracy = 1.0000\n",
      "  Balanced Accuracy = 1.0000\n",
      "  Precision (weighted) = 1.0000\n",
      "  Recall (weighted) = 1.0000\n",
      "  F1-Score (weighted) = 1.0000\n",
      "  ROC-AUC = 1.0000\n",
      "  Tiempo de entrenamiento = 7.8930 segundos\n",
      "  Matriz de Confusión:\n",
      "[[80785     0     0]\n",
      " [    0     7     0]\n",
      " [    0     1 13166]]\n",
      "\n",
      "gradient_boosting:\n",
      "  Accuracy = 1.0000\n",
      "  Balanced Accuracy = 1.0000\n",
      "  Precision (weighted) = 1.0000\n",
      "  Recall (weighted) = 1.0000\n",
      "  F1-Score (weighted) = 1.0000\n",
      "  ROC-AUC = 1.0000\n",
      "  Tiempo de entrenamiento = 74.2410 segundos\n",
      "  Matriz de Confusión:\n",
      "[[80782     2     1]\n",
      " [    0     7     0]\n",
      " [    0     1 13166]]\n"
     ]
    },
    {
     "name": "stderr",
     "output_type": "stream",
     "text": [
      "C:\\Users\\AIZANE\\anaconda3\\Lib\\site-packages\\sklearn\\linear_model\\_logistic.py:469: ConvergenceWarning: lbfgs failed to converge (status=1):\n",
      "STOP: TOTAL NO. of ITERATIONS REACHED LIMIT.\n",
      "\n",
      "Increase the number of iterations (max_iter) or scale the data as shown in:\n",
      "    https://scikit-learn.org/stable/modules/preprocessing.html\n",
      "Please also refer to the documentation for alternative solver options:\n",
      "    https://scikit-learn.org/stable/modules/linear_model.html#logistic-regression\n",
      "  n_iter_i = _check_optimize_result(\n"
     ]
    },
    {
     "name": "stdout",
     "output_type": "stream",
     "text": [
      "\n",
      "logistic_regression:\n",
      "  Accuracy = 0.9877\n",
      "  Balanced Accuracy = 0.9946\n",
      "  Precision (weighted) = 0.9913\n",
      "  Recall (weighted) = 0.9877\n",
      "  F1-Score (weighted) = 0.9893\n",
      "  ROC-AUC = 0.9972\n",
      "  Tiempo de entrenamiento = 7.5013 segundos\n",
      "  Matriz de Confusión:\n",
      "[[79658   301   826]\n",
      " [    0     7     0]\n",
      " [   29     1 13137]]\n",
      "\n",
      "knn:\n",
      "  Accuracy = 0.9988\n",
      "  Balanced Accuracy = 0.9514\n",
      "  Precision (weighted) = 0.9990\n",
      "  Recall (weighted) = 0.9988\n",
      "  F1-Score (weighted) = 0.9989\n",
      "  ROC-AUC = 0.9759\n",
      "  Tiempo de entrenamiento = 0.6410 segundos\n",
      "  Matriz de Confusión:\n",
      "[[80698    21    66]\n",
      " [    1     6     0]\n",
      " [   22     3 13142]]\n",
      "\n",
      "svc:\n",
      "  Accuracy = 0.2229\n",
      "  Balanced Accuracy = 0.4130\n",
      "  Precision (weighted) = 0.8815\n",
      "  Recall (weighted) = 0.2229\n",
      "  F1-Score (weighted) = 0.1886\n",
      "  Tiempo de entrenamiento = 2891.0392 segundos\n",
      "  Matriz de Confusión:\n",
      "[[ 7780  1153 71852]\n",
      " [    0     1     6]\n",
      " [    0     4 13163]]\n"
     ]
    }
   ],
   "source": [
    "# Evaluación de los modelos con el conjunto de validación\n",
    "scores = {}\n",
    "times = {}\n",
    "detailed_metrics = {}\n",
    "\n",
    "for name, pipeline in pipelines:\n",
    "    \n",
    "    start_time = time.time()\n",
    "    \n",
    "    # Entrenamiento del modelo\n",
    "    pipeline.fit(X_train_mix, y_train_mix)\n",
    "    \n",
    "    # Medir el tiempo transcurrido desde el inicio del entrenamiento\n",
    "    training_time = time.time() - start_time\n",
    "    \n",
    "    # Predicciones en el conjunto de validación\n",
    "    y_val_pred = pipeline.predict(X_val)\n",
    "    y_val_proba = pipeline.predict_proba(X_val) if hasattr(pipeline, 'predict_proba') else None\n",
    "    \n",
    "    # Evaluación del modelo\n",
    "    accuracy = pipeline.score(X_val, y_val)\n",
    "    balanced_acc = balanced_accuracy_score(y_val, y_val_pred)\n",
    "    class_report = classification_report(y_val, y_val_pred, output_dict=True)  # Obtener como diccionario para analizar mejor\n",
    "    conf_matrix = confusion_matrix(y_val, y_val_pred)\n",
    "    \n",
    "    # Si predict_proba está disponible, calcular ROC-AUC\n",
    "    roc_auc = roc_auc_score(y_val, y_val_proba, multi_class='ovr') if y_val_proba is not None else None\n",
    "\n",
    "    # Guardar las métricas\n",
    "    scores[name] = accuracy\n",
    "    times[name] = training_time\n",
    "    detailed_metrics[name] = {\n",
    "        'Balanced Accuracy': balanced_acc,\n",
    "        'Precision (weighted)': class_report['weighted avg']['precision'],\n",
    "        'Recall (weighted)': class_report['weighted avg']['recall'],\n",
    "        'F1-Score (weighted)': class_report['weighted avg']['f1-score'],\n",
    "        'Confusion Matrix': conf_matrix,\n",
    "        'ROC-AUC': roc_auc\n",
    "    }\n",
    "\n",
    "    # Mostrar resultados\n",
    "    print(f\"\\n{name}:\")\n",
    "    print(f\"  Accuracy = {accuracy:.4f}\")\n",
    "    print(f\"  Balanced Accuracy = {balanced_acc:.4f}\")\n",
    "    print(f\"  Precision (weighted) = {class_report['weighted avg']['precision']:.4f}\")\n",
    "    print(f\"  Recall (weighted) = {class_report['weighted avg']['recall']:.4f}\")\n",
    "    print(f\"  F1-Score (weighted) = {class_report['weighted avg']['f1-score']:.4f}\")\n",
    "    if roc_auc is not None:\n",
    "        print(f\"  ROC-AUC = {roc_auc:.4f}\")\n",
    "    print(f\"  Tiempo de entrenamiento = {training_time:.4f} segundos\")\n",
    "    print(f\"  Matriz de Confusión:\\n{conf_matrix}\")"
   ]
  },
  {
   "cell_type": "markdown",
   "id": "fc9d71aa-841a-49f6-8579-02ee0546c39e",
   "metadata": {},
   "source": [
    "##### 2.3.1.2 Ajuste hiperparámetros"
   ]
  },
  {
   "cell_type": "markdown",
   "id": "a542aeb6-2af3-42e1-8dc6-8e1332056faa",
   "metadata": {},
   "source": [
    "decision tree"
   ]
  },
  {
   "cell_type": "code",
   "execution_count": 124,
   "id": "e996bc8d-21df-4669-bde8-6f25b9f1bd22",
   "metadata": {},
   "outputs": [
    {
     "name": "stdout",
     "output_type": "stream",
     "text": [
      "Best parameters found:  {'criterion': 'gini', 'max_depth': 3, 'min_samples_leaf': 1, 'min_samples_split': 2}\n",
      "Validation accuracy: 1.0000\n"
     ]
    }
   ],
   "source": [
    "# Parrilla de hiperparámetros para el árbol de decisión\n",
    "param_grid_decisiontree_mix = {\n",
    "    'max_depth': [3, 5, 10, 20],# Profundidad máxima del árbol\n",
    "    'min_samples_split': [2, 5, 10],# Mínimo número de muestras para dividir un nodo\n",
    "    'min_samples_leaf': [1, 2, 4],# Mínimo número de muestras en un nodo hoja\n",
    "    'criterion': ['gini', 'entropy']  # Agregamos los criterios que usa el DecisionTree\n",
    "}\n",
    "\n",
    "# Realizar GridSearchCV\n",
    "grid_search_decisiontree_mix = GridSearchCV(DecisionTreeClassifier(random_state=seed), param_grid_decisiontree_mix, cv=5, scoring='balanced_accuracy', n_jobs=-1)\n",
    "grid_search_decisiontree_mix.fit(X_train_mix, y_train_mix)\n",
    "\n",
    "# Mejor conjunto de hiperparámetros\n",
    "print(\"Best parameters found: \", grid_search_decisiontree_mix.best_params_)\n",
    "\n",
    "# Evaluar el mejor modelo en el conjunto de validación\n",
    "best_model_decisiontree_mix= grid_search_decisiontree_mix.best_estimator_\n",
    "y_val_pred_decisiontree_mix = best_model_decisiontree_mix.predict(X_val)\n",
    "print(f\"Validation accuracy: {accuracy_score(y_val, y_val_pred_decisiontree_mix):.4f}\")"
   ]
  },
  {
   "cell_type": "code",
   "execution_count": 125,
   "id": "3da3d22d-d3ee-46cd-9946-02b7be130892",
   "metadata": {},
   "outputs": [
    {
     "name": "stdout",
     "output_type": "stream",
     "text": [
      "Modelo guardado con éxito.\n"
     ]
    }
   ],
   "source": [
    "# Guardar el modelo entrenado\n",
    "joblib.dump(best_model_decisiontree_mix, 'best_model_decisiontree_mix.pkl')\n",
    "print(\"Modelo guardado con éxito.\")"
   ]
  },
  {
   "cell_type": "markdown",
   "id": "dc0e039f-9892-415f-85d2-ee1de0ad5d81",
   "metadata": {},
   "source": [
    "### 2.4 Evaluación del rendimiento del mejor modelo"
   ]
  },
  {
   "cell_type": "code",
   "execution_count": 114,
   "id": "2760b0a8-e56b-49bd-a6f8-bfc4bce72112",
   "metadata": {},
   "outputs": [],
   "source": [
    "# Lectura mejor modelo\n",
    "best_model_decisiontree_inbalanced = joblib.load('decision_tree_inbalanced_model.pkl')\n",
    "best_model_rf_inbalanced = joblib.load('rf_inbalanced_model.pkl')\n",
    "\n",
    "best_model_decisiontree_downsampling = joblib.load('dtc_downsampled_model.pkl')\n",
    "best_model_rf_downsampling = joblib.load('rf_downsampled_model.pkl')\n",
    "best_model_knn_downsampling = joblib.load('best_model_knn_downsampling.pkl')\n",
    "\n",
    "best_model_decisiontree_upsampling = joblib.load('_decisiontree_upsampling_model.pkl')\n",
    "\n",
    "best_model_decisiontree_upsampling_smote = joblib.load('decisiontree_upsampling_smote_model.pkl')\n",
    "\n",
    "best_model_decisiontree_mix = joblib.load('best_model_decisiontree_mix.pkl')"
   ]
  },
  {
   "cell_type": "markdown",
   "id": "dd22c457-ea58-4637-90e0-a63486a53a5b",
   "metadata": {},
   "source": [
    "#### 2.4.1 INBALANCE"
   ]
  },
  {
   "cell_type": "markdown",
   "id": "ade7e56e-63ec-4440-8fb1-b9160feeb13b",
   "metadata": {},
   "source": [
    "Decision Tree"
   ]
  },
  {
   "cell_type": "code",
   "execution_count": 118,
   "id": "219b927a-7107-4038-b374-7947512f0933",
   "metadata": {},
   "outputs": [
    {
     "name": "stdout",
     "output_type": "stream",
     "text": [
      "Execution time on test set: 0.0270 seconds\n",
      "Test Accuracy: 1.0000\n",
      "Test Balanced Accuracy: 1.0000\n",
      "Test Precision (weighted): 1.0000\n",
      "Test Recall (weighted): 1.0000\n",
      "Test F1-Score (weighted): 1.0000\n",
      "  Matriz de Confusión:\n",
      "[[173109      0      1]\n",
      " [     0     16      0]\n",
      " [     0      3  28211]]\n",
      "\n",
      "Clase 0:\n",
      "  Precision = 1.0000\n",
      "  Recall = 1.0000\n",
      "  F1-Score = 1.0000\n",
      "\n",
      "Clase 1:\n",
      "  Precision = 0.8421\n",
      "  Recall = 1.0000\n",
      "  F1-Score = 0.9143\n",
      "\n",
      "Clase 2:\n",
      "  Precision = 1.0000\n",
      "  Recall = 0.9999\n",
      "  F1-Score = 0.9999\n"
     ]
    }
   ],
   "source": [
    "# Medir el tiempo de ejecución para la predicción en el conjunto de test\n",
    "start_time = time.time()\n",
    "y_test_pred = best_model_decisiontree_inbalanced.predict(X_test)  # Realizar predicciones en el conjunto de test\n",
    "test_time = time.time() - start_time\n",
    "\n",
    "# Cálculo de las métricas en el conjunto de test\n",
    "accuracy = accuracy_score(y_test, y_test_pred)\n",
    "balanced_accuracy = balanced_accuracy_score(y_test, y_test_pred)\n",
    "class_report = classification_report(y_test, y_test_pred, output_dict=True)\n",
    "conf_matrix = confusion_matrix(y_test, y_test_pred)\n",
    "\n",
    "# Métricas ponderadas\n",
    "precision_weighted = precision_score(y_test, y_test_pred, average='weighted')\n",
    "recall_weighted = recall_score(y_test, y_test_pred, average='weighted')\n",
    "f1_weighted = f1_score(y_test, y_test_pred, average='weighted')\n",
    "\n",
    "# Imprimir las métricas ponderadas y el tiempo de predicción\n",
    "print(f\"Execution time on test set: {test_time:.4f} seconds\")\n",
    "print(f\"Test Accuracy: {accuracy:.4f}\")\n",
    "print(f\"Test Balanced Accuracy: {balanced_accuracy:.4f}\")\n",
    "print(f\"Test Precision (weighted): {precision_weighted:.4f}\")\n",
    "print(f\"Test Recall (weighted): {recall_weighted:.4f}\")\n",
    "print(f\"Test F1-Score (weighted): {f1_weighted:.4f}\")\n",
    "print(f\"  Matriz de Confusión:\\n{conf_matrix}\")\n",
    "\n",
    "# Mostrar métricas por clase\n",
    "for clase in ['0', '1', '2']: \n",
    "    print(f\"\\nClase {clase}:\")\n",
    "    print(f\"  Precision = {class_report[clase]['precision']:.4f}\")\n",
    "    print(f\"  Recall = {class_report[clase]['recall']:.4f}\")\n",
    "    print(f\"  F1-Score = {class_report[clase]['f1-score']:.4f}\")"
   ]
  },
  {
   "cell_type": "markdown",
   "id": "4b4b1a62-90b6-4a81-835e-efe50b3f6bc2",
   "metadata": {},
   "source": [
    "Random Forest"
   ]
  },
  {
   "cell_type": "code",
   "execution_count": 106,
   "id": "a34268ec-c167-4227-aaef-512c2f1f02cf",
   "metadata": {},
   "outputs": [
    {
     "name": "stdout",
     "output_type": "stream",
     "text": [
      "Execution time on test set: 0.3250 seconds\n",
      "Test Accuracy: 0.9999\n",
      "Test Balanced Accuracy: 0.9999\n",
      "Test Precision (weighted): 0.9999\n",
      "Test Recall (weighted): 0.9999\n",
      "Test F1-Score (weighted): 0.9999\n",
      "  Matriz de Confusión:\n",
      "[[173108      1      1]\n",
      " [     0     16      0]\n",
      " [     6      3  28205]]\n",
      "\n",
      "Clase 0:\n",
      "  Precision = 1.0000\n",
      "  Recall = 1.0000\n",
      "  F1-Score = 1.0000\n",
      "\n",
      "Clase 1:\n",
      "  Precision = 0.8000\n",
      "  Recall = 1.0000\n",
      "  F1-Score = 0.8889\n",
      "\n",
      "Clase 2:\n",
      "  Precision = 1.0000\n",
      "  Recall = 0.9997\n",
      "  F1-Score = 0.9998\n"
     ]
    }
   ],
   "source": [
    "# Medir el tiempo de ejecución para la predicción en el conjunto de test\n",
    "start_time = time.time()\n",
    "y_test_pred = best_model_rf_inbalanced.predict(X_test)  # Realizar predicciones en el conjunto de test\n",
    "test_time = time.time() - start_time\n",
    "\n",
    "# Cálculo de las métricas en el conjunto de test\n",
    "accuracy = accuracy_score(y_test, y_test_pred)\n",
    "balanced_accuracy = balanced_accuracy_score(y_test, y_test_pred)\n",
    "class_report = classification_report(y_test, y_test_pred, output_dict=True)\n",
    "conf_matrix = confusion_matrix(y_test, y_test_pred)\n",
    "\n",
    "# Métricas ponderadas\n",
    "precision_weighted = precision_score(y_test, y_test_pred, average='weighted')\n",
    "recall_weighted = recall_score(y_test, y_test_pred, average='weighted')\n",
    "f1_weighted = f1_score(y_test, y_test_pred, average='weighted')\n",
    "\n",
    "# Imprimir las métricas ponderadas y el tiempo de predicción\n",
    "print(f\"Execution time on test set: {test_time:.4f} seconds\")\n",
    "print(f\"Test Accuracy: {accuracy:.4f}\")\n",
    "print(f\"Test Balanced Accuracy: {balanced_accuracy:.4f}\")\n",
    "print(f\"Test Precision (weighted): {precision_weighted:.4f}\")\n",
    "print(f\"Test Recall (weighted): {recall_weighted:.4f}\")\n",
    "print(f\"Test F1-Score (weighted): {f1_weighted:.4f}\")\n",
    "print(f\"  Matriz de Confusión:\\n{conf_matrix}\")\n",
    "\n",
    "# Mostrar métricas por clase\n",
    "for clase in ['0', '1', '2']:  \n",
    "    print(f\"\\nClase {clase}:\")\n",
    "    print(f\"  Precision = {class_report[clase]['precision']:.4f}\")\n",
    "    print(f\"  Recall = {class_report[clase]['recall']:.4f}\")\n",
    "    print(f\"  F1-Score = {class_report[clase]['f1-score']:.4f}\")"
   ]
  },
  {
   "cell_type": "markdown",
   "id": "7ff4dcae-d3be-4470-8bba-1cfae898b54c",
   "metadata": {},
   "source": [
    "#### 2.4.2 DOWNSAMPLIG"
   ]
  },
  {
   "cell_type": "markdown",
   "id": "3e5ba766-6b8a-43ee-815d-e003b603c532",
   "metadata": {},
   "source": [
    "Decision Tree"
   ]
  },
  {
   "cell_type": "code",
   "execution_count": 108,
   "id": "0373c749-4ade-4683-a965-b4a05c87eac8",
   "metadata": {},
   "outputs": [
    {
     "name": "stdout",
     "output_type": "stream",
     "text": [
      "Execution time on test set: 0.0310 seconds\n",
      "Test Accuracy: 0.9818\n",
      "Test Balanced Accuracy: 0.9929\n",
      "Test Precision (weighted): 0.9991\n",
      "Test Recall (weighted): 0.9818\n",
      "Test F1-Score (weighted): 0.9903\n",
      "  Matriz de Confusión:\n",
      "[[169457   3477    176]\n",
      " [     0     16      0]\n",
      " [     0      3  28211]]\n",
      "\n",
      "Clase 0:\n",
      "  Precision = 1.0000\n",
      "  Recall = 0.9789\n",
      "  F1-Score = 0.9893\n",
      "\n",
      "Clase 1:\n",
      "  Precision = 0.0046\n",
      "  Recall = 1.0000\n",
      "  F1-Score = 0.0091\n",
      "\n",
      "Clase 2:\n",
      "  Precision = 0.9938\n",
      "  Recall = 0.9999\n",
      "  F1-Score = 0.9968\n"
     ]
    }
   ],
   "source": [
    "# Medir el tiempo de ejecución para la predicción en el conjunto de test\n",
    "start_time = time.time()\n",
    "y_test_pred = best_model_decisiontree_downsampling.predict(X_test)  # Realizar predicciones en el conjunto de test\n",
    "test_time = time.time() - start_time\n",
    "\n",
    "# Cálculo de las métricas en el conjunto de test\n",
    "accuracy = accuracy_score(y_test, y_test_pred)\n",
    "balanced_accuracy = balanced_accuracy_score(y_test, y_test_pred)\n",
    "class_report = classification_report(y_test, y_test_pred, output_dict=True)\n",
    "conf_matrix = confusion_matrix(y_test, y_test_pred)\n",
    "\n",
    "# Métricas ponderadas\n",
    "precision_weighted = precision_score(y_test, y_test_pred, average='weighted')\n",
    "recall_weighted = recall_score(y_test, y_test_pred, average='weighted')\n",
    "f1_weighted = f1_score(y_test, y_test_pred, average='weighted')\n",
    "\n",
    "# Imprimir las métricas ponderadas y el tiempo de predicción\n",
    "print(f\"Execution time on test set: {test_time:.4f} seconds\")\n",
    "print(f\"Test Accuracy: {accuracy:.4f}\")\n",
    "print(f\"Test Balanced Accuracy: {balanced_accuracy:.4f}\")\n",
    "print(f\"Test Precision (weighted): {precision_weighted:.4f}\")\n",
    "print(f\"Test Recall (weighted): {recall_weighted:.4f}\")\n",
    "print(f\"Test F1-Score (weighted): {f1_weighted:.4f}\")\n",
    "print(f\"  Matriz de Confusión:\\n{conf_matrix}\")\n",
    "\n",
    "# Mostrar métricas por clase\n",
    "for clase in ['0', '1', '2']: \n",
    "    print(f\"\\nClase {clase}:\")\n",
    "    print(f\"  Precision = {class_report[clase]['precision']:.4f}\")\n",
    "    print(f\"  Recall = {class_report[clase]['recall']:.4f}\")\n",
    "    print(f\"  F1-Score = {class_report[clase]['f1-score']:.4f}\")"
   ]
  },
  {
   "cell_type": "markdown",
   "id": "4ba9c525-a6cc-42d0-96de-ede9e4123760",
   "metadata": {},
   "source": [
    "Random Forest"
   ]
  },
  {
   "cell_type": "code",
   "execution_count": 110,
   "id": "652ff4ea-4734-420a-94e2-7319770320e4",
   "metadata": {},
   "outputs": [
    {
     "name": "stdout",
     "output_type": "stream",
     "text": [
      "Execution time on test set: 0.1740 seconds\n",
      "Test Accuracy: 0.9784\n",
      "Test Balanced Accuracy: 0.9910\n",
      "Test Precision (weighted): 0.9848\n",
      "Test Recall (weighted): 0.9784\n",
      "Test F1-Score (weighted): 0.9811\n",
      "  Matriz de Confusión:\n",
      "[[168832    957   3321]\n",
      " [     0     16      0]\n",
      " [    59      3  28152]]\n",
      "\n",
      "Clase 0:\n",
      "  Precision = 0.9997\n",
      "  Recall = 0.9753\n",
      "  F1-Score = 0.9873\n",
      "\n",
      "Clase 1:\n",
      "  Precision = 0.0164\n",
      "  Recall = 1.0000\n",
      "  F1-Score = 0.0323\n",
      "\n",
      "Clase 2:\n",
      "  Precision = 0.8945\n",
      "  Recall = 0.9978\n",
      "  F1-Score = 0.9433\n"
     ]
    }
   ],
   "source": [
    "# Medir el tiempo de ejecución para la predicción en el conjunto de test\n",
    "start_time = time.time()\n",
    "y_test_pred = best_model_rf_downsampling.predict(X_test)  # Realizar predicciones en el conjunto de test\n",
    "test_time = time.time() - start_time\n",
    "\n",
    "# Cálculo de las métricas en el conjunto de test\n",
    "accuracy = accuracy_score(y_test, y_test_pred)\n",
    "balanced_accuracy = balanced_accuracy_score(y_test, y_test_pred)\n",
    "class_report = classification_report(y_test, y_test_pred, output_dict=True)\n",
    "conf_matrix = confusion_matrix(y_test, y_test_pred)\n",
    "\n",
    "# Métricas ponderadas\n",
    "precision_weighted = precision_score(y_test, y_test_pred, average='weighted')\n",
    "recall_weighted = recall_score(y_test, y_test_pred, average='weighted')\n",
    "f1_weighted = f1_score(y_test, y_test_pred, average='weighted')\n",
    "\n",
    "# Imprimir las métricas ponderadas y el tiempo de predicción\n",
    "print(f\"Execution time on test set: {test_time:.4f} seconds\")\n",
    "print(f\"Test Accuracy: {accuracy:.4f}\")\n",
    "print(f\"Test Balanced Accuracy: {balanced_accuracy:.4f}\")\n",
    "print(f\"Test Precision (weighted): {precision_weighted:.4f}\")\n",
    "print(f\"Test Recall (weighted): {recall_weighted:.4f}\")\n",
    "print(f\"Test F1-Score (weighted): {f1_weighted:.4f}\")\n",
    "print(f\"  Matriz de Confusión:\\n{conf_matrix}\")\n",
    "\n",
    "# Mostrar métricas por clase\n",
    "for clase in ['0', '1', '2']:  \n",
    "    print(f\"\\nClase {clase}:\")\n",
    "    print(f\"  Precision = {class_report[clase]['precision']:.4f}\")\n",
    "    print(f\"  Recall = {class_report[clase]['recall']:.4f}\")\n",
    "    print(f\"  F1-Score = {class_report[clase]['f1-score']:.4f}\")"
   ]
  },
  {
   "cell_type": "code",
   "execution_count": 61,
   "id": "e2246c9a-096c-4f36-ab67-0903bd84dcf8",
   "metadata": {},
   "outputs": [
    {
     "name": "stdout",
     "output_type": "stream",
     "text": [
      "Execution time on test set: 0.4230 seconds\n",
      "Test Accuracy: 0.9557\n",
      "Test Balanced Accuracy: 0.9820\n",
      "Test Precision (weighted): 0.9906\n",
      "Test Recall (weighted): 0.9557\n",
      "Test F1-Score (weighted): 0.9724\n",
      "  Matriz de Confusión:\n",
      "[[164260   6863   1987]\n",
      " [     0     16      0]\n",
      " [    18     61  28135]]\n",
      "\n",
      "Clase 0:\n",
      "  Precision = 0.9999\n",
      "  Recall = 0.9489\n",
      "  F1-Score = 0.9737\n",
      "  F1-Score = 0.9737\n",
      "\n",
      "Clase 1:\n",
      "  Precision = 0.0023\n",
      "  Recall = 1.0000\n",
      "  F1-Score = 0.0046\n",
      "  F1-Score = 0.0046\n",
      "\n",
      "Clase 2:\n",
      "  Precision = 0.9340\n",
      "  Recall = 0.9972\n",
      "  F1-Score = 0.9646\n",
      "  F1-Score = 0.9646\n"
     ]
    }
   ],
   "source": [
    "# Medir el tiempo de ejecución para la predicción en el conjunto de test\n",
    "start_time = time.time()\n",
    "y_test_pred = best_model_knn_downsampling.predict(X_test)  # Realizar predicciones en el conjunto de test\n",
    "test_time = time.time() - start_time\n",
    "\n",
    "# Cálculo de las métricas en el conjunto de test\n",
    "accuracy = accuracy_score(y_test, y_test_pred)\n",
    "balanced_accuracy = balanced_accuracy_score(y_test, y_test_pred)\n",
    "class_report = classification_report(y_test, y_test_pred, output_dict=True)\n",
    "conf_matrix = confusion_matrix(y_test, y_test_pred)\n",
    "\n",
    "# Métricas ponderadas\n",
    "precision_weighted = precision_score(y_test, y_test_pred, average='weighted')\n",
    "recall_weighted = recall_score(y_test, y_test_pred, average='weighted')\n",
    "f1_weighted = f1_score(y_test, y_test_pred, average='weighted')\n",
    "\n",
    "# Imprimir las métricas ponderadas y el tiempo de predicción\n",
    "print(f\"Execution time on test set: {test_time:.4f} seconds\")\n",
    "print(f\"Test Accuracy: {accuracy:.4f}\")\n",
    "print(f\"Test Balanced Accuracy: {balanced_accuracy:.4f}\")\n",
    "print(f\"Test Precision (weighted): {precision_weighted:.4f}\")\n",
    "print(f\"Test Recall (weighted): {recall_weighted:.4f}\")\n",
    "print(f\"Test F1-Score (weighted): {f1_weighted:.4f}\")\n",
    "print(f\"  Matriz de Confusión:\\n{conf_matrix}\")\n",
    "\n",
    "# Mostrar métricas por clase\n",
    "for clase in ['0', '1', '2']:  \n",
    "    print(f\"\\nClase {clase}:\")\n",
    "    print(f\"  Precision = {class_report[clase]['precision']:.4f}\")\n",
    "    print(f\"  Recall = {class_report[clase]['recall']:.4f}\")\n",
    "    print(f\"  F1-Score = {class_report[clase]['f1-score']:.4f}\")"
   ]
  },
  {
   "cell_type": "markdown",
   "id": "c0237508-e9b8-4d3f-981a-6460f111f727",
   "metadata": {},
   "source": [
    "#### 2.4.3 UPSAMPLING"
   ]
  },
  {
   "cell_type": "markdown",
   "id": "d62b9af7-443a-4c49-86ba-3874d76981e9",
   "metadata": {},
   "source": [
    "Método A: Decision Tree"
   ]
  },
  {
   "cell_type": "code",
   "execution_count": 65,
   "id": "0a538211-af98-49a9-8a32-53109dc81b92",
   "metadata": {},
   "outputs": [
    {
     "name": "stdout",
     "output_type": "stream",
     "text": [
      "Execution time on test set: 0.0240 seconds\n",
      "Test Accuracy: 1.0000\n",
      "Test Balanced Accuracy: 0.9791\n",
      "Test Precision (weighted): 1.0000\n",
      "Test Recall (weighted): 1.0000\n",
      "Test F1-Score (weighted): 1.0000\n",
      "  Matriz de Confusión:\n",
      "[[173110      0      0]\n",
      " [     0     15      1]\n",
      " [     0      3  28211]]\n",
      "\n",
      "Clase 0:\n",
      "  Precision = 1.0000\n",
      "  Recall = 1.0000\n",
      "  F1-Score = 1.0000\n",
      "  F1-Score = 1.0000\n",
      "\n",
      "Clase 1:\n",
      "  Precision = 0.8333\n",
      "  Recall = 0.9375\n",
      "  F1-Score = 0.8824\n",
      "  F1-Score = 0.8824\n",
      "\n",
      "Clase 2:\n",
      "  Precision = 1.0000\n",
      "  Recall = 0.9999\n",
      "  F1-Score = 0.9999\n",
      "  F1-Score = 0.9999\n"
     ]
    }
   ],
   "source": [
    "# Medir el tiempo de ejecución para la predicción en el conjunto de test\n",
    "start_time = time.time()\n",
    "y_test_pred = best_model_decisiontree_upsampling.predict(X_test)  # Realizar predicciones en el conjunto de test\n",
    "test_time = time.time() - start_time\n",
    "\n",
    "# Cálculo de las métricas en el conjunto de test\n",
    "accuracy = accuracy_score(y_test, y_test_pred)\n",
    "balanced_accuracy = balanced_accuracy_score(y_test, y_test_pred)\n",
    "class_report = classification_report(y_test, y_test_pred, output_dict=True)\n",
    "conf_matrix = confusion_matrix(y_test, y_test_pred)\n",
    "\n",
    "# Métricas ponderadas\n",
    "precision_weighted = precision_score(y_test, y_test_pred, average='weighted')\n",
    "recall_weighted = recall_score(y_test, y_test_pred, average='weighted')\n",
    "f1_weighted = f1_score(y_test, y_test_pred, average='weighted')\n",
    "\n",
    "# Imprimir las métricas ponderadas y el tiempo de predicción\n",
    "print(f\"Execution time on test set: {test_time:.4f} seconds\")\n",
    "print(f\"Test Accuracy: {accuracy:.4f}\")\n",
    "print(f\"Test Balanced Accuracy: {balanced_accuracy:.4f}\")\n",
    "print(f\"Test Precision (weighted): {precision_weighted:.4f}\")\n",
    "print(f\"Test Recall (weighted): {recall_weighted:.4f}\")\n",
    "print(f\"Test F1-Score (weighted): {f1_weighted:.4f}\")\n",
    "print(f\"  Matriz de Confusión:\\n{conf_matrix}\")\n",
    "\n",
    "# Mostrar métricas por clase\n",
    "for clase in ['0', '1', '2']:  \n",
    "    print(f\"\\nClase {clase}:\")\n",
    "    print(f\"  Precision = {class_report[clase]['precision']:.4f}\")\n",
    "    print(f\"  Recall = {class_report[clase]['recall']:.4f}\")\n",
    "    print(f\"  F1-Score = {class_report[clase]['f1-score']:.4f}\")"
   ]
  },
  {
   "cell_type": "markdown",
   "id": "b046a4ec-2895-4dcc-bf61-488524bba984",
   "metadata": {},
   "source": [
    "Método B: Decision Tree"
   ]
  },
  {
   "cell_type": "code",
   "execution_count": 124,
   "id": "7346076d-a7d4-4098-947d-846c377b9c8a",
   "metadata": {},
   "outputs": [
    {
     "name": "stdout",
     "output_type": "stream",
     "text": [
      "Execution time on test set: 0.0240 seconds\n",
      "Test Accuracy: 1.0000\n",
      "Test Balanced Accuracy: 1.0000\n",
      "Test Precision (weighted): 1.0000\n",
      "Test Recall (weighted): 1.0000\n",
      "Test F1-Score (weighted): 1.0000\n",
      "  Matriz de Confusión:\n",
      "[[173109      0      1]\n",
      " [     0     16      0]\n",
      " [     0      3  28211]]\n",
      "\n",
      "Clase 0:\n",
      "  Precision = 1.0000\n",
      "  Recall = 1.0000\n",
      "  F1-Score = 1.0000\n",
      "\n",
      "Clase 1:\n",
      "  Precision = 0.8421\n",
      "  Recall = 1.0000\n",
      "  F1-Score = 0.9143\n",
      "\n",
      "Clase 2:\n",
      "  Precision = 1.0000\n",
      "  Recall = 0.9999\n",
      "  F1-Score = 0.9999\n"
     ]
    }
   ],
   "source": [
    "# Medir el tiempo de ejecución para la predicción en el conjunto de test\n",
    "start_time = time.time()\n",
    "y_test_pred = best_model_decisiontree_upsampling_smote.predict(X_test)  # Realizar predicciones en el conjunto de test\n",
    "test_time = time.time() - start_time\n",
    "\n",
    "# Cálculo de las métricas en el conjunto de test\n",
    "accuracy = accuracy_score(y_test, y_test_pred)\n",
    "balanced_accuracy = balanced_accuracy_score(y_test, y_test_pred)\n",
    "class_report = classification_report(y_test, y_test_pred, output_dict=True)\n",
    "conf_matrix = confusion_matrix(y_test, y_test_pred)\n",
    "\n",
    "# Métricas ponderadas\n",
    "precision_weighted = precision_score(y_test, y_test_pred, average='weighted')\n",
    "recall_weighted = recall_score(y_test, y_test_pred, average='weighted')\n",
    "f1_weighted = f1_score(y_test, y_test_pred, average='weighted')\n",
    "\n",
    "# Imprimir las métricas ponderadas y el tiempo de predicción\n",
    "print(f\"Execution time on test set: {test_time:.4f} seconds\")\n",
    "print(f\"Test Accuracy: {accuracy:.4f}\")\n",
    "print(f\"Test Balanced Accuracy: {balanced_accuracy:.4f}\")\n",
    "print(f\"Test Precision (weighted): {precision_weighted:.4f}\")\n",
    "print(f\"Test Recall (weighted): {recall_weighted:.4f}\")\n",
    "print(f\"Test F1-Score (weighted): {f1_weighted:.4f}\")\n",
    "print(f\"  Matriz de Confusión:\\n{conf_matrix}\")\n",
    "\n",
    "# Mostrar métricas por clase\n",
    "for clase in ['0', '1', '2']: \n",
    "    print(f\"\\nClase {clase}:\")\n",
    "    print(f\"  Precision = {class_report[clase]['precision']:.4f}\")\n",
    "    print(f\"  Recall = {class_report[clase]['recall']:.4f}\")\n",
    "    print(f\"  F1-Score = {class_report[clase]['f1-score']:.4f}\")"
   ]
  },
  {
   "cell_type": "markdown",
   "id": "a4033d47-6c77-43be-865b-ca95ef6aa6c2",
   "metadata": {},
   "source": [
    "#### 2.4.4 MIX"
   ]
  },
  {
   "cell_type": "markdown",
   "id": "f2374313-2f6b-432c-be1b-5c1bc4a2f7f7",
   "metadata": {},
   "source": [
    "Decision Tree"
   ]
  },
  {
   "cell_type": "code",
   "execution_count": 122,
   "id": "dbcf7635-6347-4f77-bda0-93c5fea5d68e",
   "metadata": {},
   "outputs": [
    {
     "name": "stdout",
     "output_type": "stream",
     "text": [
      "Execution time on test set: 0.0340 seconds\n",
      "Test Accuracy: 1.0000\n",
      "Test Balanced Accuracy: 1.0000\n",
      "Test Precision (weighted): 1.0000\n",
      "Test Recall (weighted): 1.0000\n",
      "Test F1-Score (weighted): 1.0000\n",
      "  Matriz de Confusión:\n",
      "[[173104      5      1]\n",
      " [     0     16      0]\n",
      " [     0      3  28211]]\n",
      "\n",
      "Clase 0:\n",
      "  Precision = 1.0000\n",
      "  Recall = 1.0000\n",
      "  F1-Score = 1.0000\n",
      "\n",
      "Clase 1:\n",
      "  Precision = 0.6667\n",
      "  Recall = 1.0000\n",
      "  F1-Score = 0.8000\n",
      "\n",
      "Clase 2:\n",
      "  Precision = 1.0000\n",
      "  Recall = 0.9999\n",
      "  F1-Score = 0.9999\n"
     ]
    }
   ],
   "source": [
    "# Medir el tiempo de ejecución para la predicción en el conjunto de test\n",
    "start_time = time.time()\n",
    "y_test_pred = best_model_decisiontree_mix.predict(X_test)  # Realizar predicciones en el conjunto de test\n",
    "test_time = time.time() - start_time\n",
    "\n",
    "# Cálculo de las métricas en el conjunto de test\n",
    "accuracy = accuracy_score(y_test, y_test_pred)\n",
    "balanced_accuracy = balanced_accuracy_score(y_test, y_test_pred)\n",
    "class_report = classification_report(y_test, y_test_pred, output_dict=True)\n",
    "conf_matrix = confusion_matrix(y_test, y_test_pred)\n",
    "\n",
    "# Métricas ponderadas\n",
    "precision_weighted = precision_score(y_test, y_test_pred, average='weighted')\n",
    "recall_weighted = recall_score(y_test, y_test_pred, average='weighted')\n",
    "f1_weighted = f1_score(y_test, y_test_pred, average='weighted')\n",
    "\n",
    "# Imprimir las métricas ponderadas y el tiempo de predicción\n",
    "print(f\"Execution time on test set: {test_time:.4f} seconds\")\n",
    "print(f\"Test Accuracy: {accuracy:.4f}\")\n",
    "print(f\"Test Balanced Accuracy: {balanced_accuracy:.4f}\")\n",
    "print(f\"Test Precision (weighted): {precision_weighted:.4f}\")\n",
    "print(f\"Test Recall (weighted): {recall_weighted:.4f}\")\n",
    "print(f\"Test F1-Score (weighted): {f1_weighted:.4f}\")\n",
    "print(f\"  Matriz de Confusión:\\n{conf_matrix}\")\n",
    "\n",
    "# Mostrar métricas por clase\n",
    "for clase in ['0', '1', '2']:  \n",
    "    print(f\"\\nClase {clase}:\")\n",
    "    print(f\"  Precision = {class_report[clase]['precision']:.4f}\")\n",
    "    print(f\"  Recall = {class_report[clase]['recall']:.4f}\")\n",
    "    print(f\"  F1-Score = {class_report[clase]['f1-score']:.4f}\")"
   ]
  },
  {
   "cell_type": "markdown",
   "id": "085b53cb-c779-4fef-8cdc-6fdafab21713",
   "metadata": {},
   "source": [
    "### 2.5 Resumen resultados"
   ]
  },
  {
   "cell_type": "markdown",
   "id": "8546a230-4a39-4b58-98c3-9cdcd6e97a7c",
   "metadata": {},
   "source": [
    "| ID       | Accuracy | Balanced Accuracy | Precisión | Recall | F1    | Tiempo Ejecución (s) |\n",
    "|--------- |----------|-------------------|-----------|--------|-------|----------------------|\n",
    "| DES-DTC  | 1        | 1                 | 1         | 1      | 1     | 0.03                |\n",
    "| DES-RFC  | 0.999    | 0.999             | 0.999     | 0.999  | 0.999 | 0.27                |\n",
    "| DO-DTC   | 0.982    | 0.993             | 0.999     | 0.982  | 0.990 | 0.02                |\n",
    "| DO-RFC   | 0.978    | 0.991             | 0.984     | 0.978  | 0.972 | 0.14                |\n",
    "| DO-KNC   | 0.956    | 0.982             | 0.991     | 0.956  | 0.972 | 0.42                |\n",
    "| UP-A-DTC | 1        | 0.979             | 1         | 1      | 1     | 0.02                 |\n",
    "| UP-B-DTC | 1        | 1                 | 1         | 1      | 1     | 0.03                 |\n",
    "| MIX-DTC  | 1        | 1                 | 1         | 1      | 1     | 0.3                  |\n",
    "\n",
    "\n"
   ]
  },
  {
   "cell_type": "markdown",
   "id": "aab7aeb0-a59d-426e-8746-5616e0641c7d",
   "metadata": {
    "jp-MarkdownHeadingCollapsed": true
   },
   "source": [
    "# 3. Reevaluación de los Modelos con Datos Simulados"
   ]
  },
  {
   "cell_type": "markdown",
   "id": "8801052a-6eb9-4f17-8c15-51cfcccbdfaa",
   "metadata": {},
   "source": [
    "Cargamos los mejores modelos."
   ]
  },
  {
   "cell_type": "code",
   "execution_count": 24,
   "id": "0e06cb35-86f3-40df-9ef9-76902b7f146d",
   "metadata": {},
   "outputs": [],
   "source": [
    "# Lectura mejor modelo\n",
    "best_model_decisiontree_inbalanced = joblib.load('decision_tree_inbalanced_model.pkl')\n",
    "best_model_rf_inbalanced = joblib.load('rf_inbalanced_model.pkl')\n",
    "\n",
    "best_model_decisiontree_downsampling = joblib.load('dtc_downsampled_model.pkl')\n",
    "best_model_rf_downsampling = joblib.load('rf_downsampled_model.pkl')\n",
    "best_model_knn_downsampling = joblib.load('best_model_knn_downsampling.pkl')\n",
    "\n",
    "best_model_decisiontree_upsampling = joblib.load('_decisiontree_upsampling_model.pkl')\n",
    "\n",
    "best_model_decisiontree_upsampling_smote = joblib.load('decisiontree_upsampling_smote_model.pkl')\n",
    "\n",
    "best_model_decisiontree_mix = joblib.load('best_model_decisiontree_mix.pkl')"
   ]
  },
  {
   "cell_type": "markdown",
   "id": "8f736c97-d99a-48c5-b781-16e4c68d814e",
   "metadata": {},
   "source": [
    "## 3.1 Crear un dataset simulado"
   ]
  },
  {
   "cell_type": "markdown",
   "id": "348513b7-f62a-444c-97ca-7c4e24356a2f",
   "metadata": {},
   "source": [
    "Basandonos en lo aprendido creamos una bbdd sintética y comparamos los resultados."
   ]
  },
  {
   "cell_type": "code",
   "execution_count": 120,
   "id": "208bf1b2-fe60-446e-944e-d911941b3842",
   "metadata": {},
   "outputs": [],
   "source": [
    "# Función para generar etiquetas aleatorias (Benigno, SSH brute force, FTP brute force)\n",
    "def generate_labels(n):\n",
    "    labels = ['Benigno', 'Fuerza Bruta SSH', 'Fuerza Bruta FTP']\n",
    "    return np.random.choice(labels, size=n, p=[0.7, 0.1, 0.2])\n",
    "\n",
    "# Función para generar tráfico de red con características específicas\n",
    "def generate_dataset(n):\n",
    "    labels = generate_labels(n)\n",
    "    \n",
    "    # Inicializamos las listas para las características\n",
    "    fwd_pkts_s = []\n",
    "    flow_iat_std = []\n",
    "    subflow_bwd_byts = []\n",
    "    fwd_pkt_len_std = []\n",
    "    init_fwd_win_byts = []\n",
    "    dst_port = []\n",
    "    fwd_iat_min = []\n",
    "    \n",
    "    for label in labels:\n",
    "        if label == 'Benigno':\n",
    "            # Características de tráfico benigno\n",
    "            fwd_pkts_s.append(np.random.uniform(50, 200))  # Paquetes por segundo razonables para tráfico web\n",
    "            flow_iat_std.append(np.random.uniform(0.1, 0.5))  # Intervalos más regulares\n",
    "            subflow_bwd_byts.append(np.random.randint(5000, 100000))  # Volúmenes moderados de bytes\n",
    "            fwd_pkt_len_std.append(np.random.uniform(10, 50))  # Desviación estándar de longitud de paquetes\n",
    "            init_fwd_win_byts.append(np.random.randint(500, 30000))  # Ventana de flujo inicial moderada\n",
    "            dst_port.append(np.random.choice([80, 443, 8080]))  # Puertos comunes HTTP y HTTPS\n",
    "            fwd_iat_min.append(np.random.uniform(0.05, 0.2))  # Intervalo mínimo mayor, tráfico más constante\n",
    "        \n",
    "        elif label == 'Fuerza Bruta SSH':\n",
    "            # Características del ataque de fuerza bruta SSH\n",
    "            fwd_pkts_s.append(np.random.uniform(300, 500))  # Alta tasa de paquetes por segundo\n",
    "            flow_iat_std.append(np.random.uniform(0.05, 0.2))  # Intervalos más irregulares (múltiples intentos)\n",
    "            subflow_bwd_byts.append(np.random.randint(100, 5000))  # Bytes en respuestas (más pequeños)\n",
    "            fwd_pkt_len_std.append(np.random.uniform(50, 120))  # Alta desviación estándar en paquetes\n",
    "            init_fwd_win_byts.append(np.random.randint(30000, 65535))  # Ventana de flujo inicial grande\n",
    "            dst_port.append(22)  # Puerto SSH\n",
    "            fwd_iat_min.append(np.random.uniform(0.01, 0.1))  # Intervalo mínimo entre paquetes bajo (múltiples intentos rápidos)\n",
    "        \n",
    "        elif label == 'Fuerza Bruta FTP':\n",
    "            # Características del ataque de fuerza bruta FTP\n",
    "            fwd_pkts_s.append(np.random.uniform(300, 500))  # Alta tasa de paquetes por segundo\n",
    "            flow_iat_std.append(np.random.uniform(0.05, 0.2))  # Intervalos irregulares\n",
    "            subflow_bwd_byts.append(np.random.randint(100, 5000))  # Bytes de respuesta\n",
    "            fwd_pkt_len_std.append(np.random.uniform(50, 120))  # Alta desviación estándar de la longitud de paquetes\n",
    "            init_fwd_win_byts.append(np.random.randint(30000, 65535))  # Ventana de flujo inicial grande\n",
    "            dst_port.append(21)  # Puerto FTP\n",
    "            fwd_iat_min.append(np.random.uniform(0.01, 0.1))  # Intervalo mínimo bajo entre paquetes\n",
    "       \n",
    "    \n",
    "    # Crear el DataFrame\n",
    "    data = {\n",
    "        'Label': labels,\n",
    "        'Fwd_Pkts/s': fwd_pkts_s,\n",
    "        'Flow_IAT_Std': flow_iat_std,\n",
    "        'Subflow_Bwd_Byts': subflow_bwd_byts,\n",
    "        'Fwd_Pkt_Len_Std': fwd_pkt_len_std,\n",
    "        'Init_Fwd_Win_Byts': init_fwd_win_byts,\n",
    "        'Dst_Port': dst_port,\n",
    "        'Fwd_IAT_Min': fwd_iat_min\n",
    "    }\n",
    "    \n",
    "    return pd.DataFrame(data)\n",
    "\n",
    "# Generar dataset con 600 registros\n",
    "n = 600\n",
    "simulacion = generate_dataset(n)\n",
    "\n",
    "# Guardar el DataFrame en un archivo CSV\n",
    "#simulacion.to_csv('simulated_network_traffic_with_attacks_FTP_SSH.csv', index=False)\n",
    "\n",
    "# Mostrar las primeras filas del dataset\n",
    "#print(simulacion.head())\n"
   ]
  },
  {
   "cell_type": "markdown",
   "id": "41d97a71-7b5f-4bde-9365-fecd43262f39",
   "metadata": {},
   "source": [
    "## 3.2 Preprocesamos"
   ]
  },
  {
   "cell_type": "code",
   "execution_count": 26,
   "id": "d6f189a1-1903-48b8-8a2a-d2a39342d3de",
   "metadata": {},
   "outputs": [],
   "source": [
    "simulacion = pd.read_csv(ruta_intermedia + 'simulated_network_traffic_with_attacks_FTP_SSH.csv', sep =',')"
   ]
  },
  {
   "cell_type": "code",
   "execution_count": 28,
   "id": "7acb2a57-3cb6-4c0f-83da-464c0836cef5",
   "metadata": {},
   "outputs": [
    {
     "name": "stdout",
     "output_type": "stream",
     "text": [
      "Tipos de ataques registrados:\n",
      "['Benigno' 'Fuerza Bruta FTP' 'Fuerza Bruta SSH']\n"
     ]
    }
   ],
   "source": [
    "# Analizamos lo simulacion que está la clase\n",
    "tipo_ataque = simulacion['Label'].unique()\n",
    "# Mostrar el recuento de cada categoría en la columna 'Label'\n",
    "print(\"Tipos de ataques registrados:\")\n",
    "print(tipo_ataque)"
   ]
  },
  {
   "cell_type": "code",
   "execution_count": 30,
   "id": "2151dc0d-3589-440b-b92c-25c4d316e3f4",
   "metadata": {},
   "outputs": [],
   "source": [
    "# MISMO PREPROCESAMIENTO\n",
    "#Eliminamos duplicados, infinitos y demás valores que el modelo no va a entender\n",
    "# Reemplazar los valores infinitos (np.inf, -np.inf) con NaN\n",
    "simulacion.replace([np.inf, -np.inf], np.nan, inplace=True)\n",
    "\n",
    "# Eliminar las filas que tienen valores NaN (que eran originalmente infinitos)\n",
    "simulacion.dropna(inplace=True)\n",
    "# Seleccionar solo las columnas numéricas\n",
    "numeric_columns = simulacion.select_dtypes(include=[int, float]).columns\n",
    "\n",
    "# Recorrer cada columna numérica del DataFrame\n",
    "for column in numeric_columns:\n",
    "    if column not in ['Init_Win_bytes_forward','Init_Win_bytes_backward']:\n",
    "        simulacion = simulacion[simulacion[column] >= 0]\n",
    "\n",
    "# Trasformar variables categoríca a numerica\n",
    "map_class_label = {'Benigno': 0, 'Fuerza Bruta FTP': 1, 'Fuerza Bruta SSH': 2}\n",
    "simulacion['label_num'] = simulacion['Label'].map(map_class_label)\n",
    "simulacion = simulacion.drop('Label', axis=1)"
   ]
  },
  {
   "cell_type": "code",
   "execution_count": 32,
   "id": "3b8c8920-c593-434a-a841-20c7ce78cef6",
   "metadata": {},
   "outputs": [],
   "source": [
    "from sklearn.preprocessing import RobustScaler\n",
    "\n",
    "# Inicializar RobustScaler\n",
    "robust_scaler = RobustScaler()\n",
    "\n",
    "# Aplicar RobustScaler a las columnas seleccionadas\n",
    "simulacion[['Fwd_Pkts/s', 'Flow_IAT_Std', 'Subflow_Bwd_Byts', 'Fwd_Pkt_Len_Std',\n",
    "                             'Init_Fwd_Win_Byts', 'Dst_Port', 'Fwd_IAT_Min']] = robust_scaler.fit_transform(\n",
    "                                simulacion[['Fwd_Pkts/s', 'Flow_IAT_Std', 'Subflow_Bwd_Byts', \n",
    "                                                             'Fwd_Pkt_Len_Std', 'Init_Fwd_Win_Byts', 'Dst_Port', \n",
    "                                                             'Fwd_IAT_Min']])"
   ]
  },
  {
   "cell_type": "markdown",
   "id": "ed1a86ae-b476-44d7-aa41-7ee207915f8c",
   "metadata": {},
   "source": [
    "## 3.3 Probamos modelos"
   ]
  },
  {
   "cell_type": "code",
   "execution_count": 85,
   "id": "f3a9c91d-5e63-4a46-a92b-d10a05f3235a",
   "metadata": {},
   "outputs": [],
   "source": [
    "# Separar características y etiquetas\n",
    "X = simulacion.drop('label_num', axis=1)\n",
    "y = simulacion['label_num']"
   ]
  },
  {
   "cell_type": "markdown",
   "id": "7c77e668-5e1a-40d2-8139-8659b5ca6597",
   "metadata": {},
   "source": [
    "#### DES-DTC"
   ]
  },
  {
   "cell_type": "code",
   "execution_count": 38,
   "id": "52806766-7a4a-4fd1-bcd5-53bd28ceefd2",
   "metadata": {},
   "outputs": [
    {
     "name": "stdout",
     "output_type": "stream",
     "text": [
      "Execution time on test set: 0.0060 seconds\n",
      "Test Accuracy: 0.7883\n",
      "Test Balanced Accuracy: 0.4703\n",
      "Test Precision (weighted): 0.7093\n",
      "Test Recall (weighted): 0.7883\n",
      "Test F1-Score (weighted): 0.7343\n",
      "Confusion Matrix:\n",
      "[[420   0   0]\n",
      " [ 76  53   0]\n",
      " [ 26  25   0]]\n",
      "\n",
      "Clase 0:\n",
      "  Precision = 0.8046\n",
      "  Recall = 1.0000\n",
      "  F1-Score = 0.8917\n",
      "\n",
      "Clase 1:\n",
      "  Precision = 0.6795\n",
      "  Recall = 0.4109\n",
      "  F1-Score = 0.5121\n",
      "\n",
      "Clase 2:\n",
      "  Precision = 0.0000\n",
      "  Recall = 0.0000\n",
      "  F1-Score = 0.0000\n"
     ]
    }
   ],
   "source": [
    "# 2. Realizar predicciones sobre los nuevos datos (X_test)\n",
    "start_time = time.time()  # Medir el tiempo de predicción\n",
    "y_pred = best_model_decisiontree_inbalanced.predict(X)  # Realizar predicciones\n",
    "test_time = time.time() - start_time  # Tiempo de ejecución\n",
    "\n",
    "# 3. Calcular las métricas de evaluación usando los valores predichos y los valores reales (y_test)\n",
    "accuracy = accuracy_score(y, y_pred)\n",
    "balanced_accuracy = balanced_accuracy_score(y, y_pred)\n",
    "class_report = classification_report(y, y_pred, output_dict=True, zero_division=0)\n",
    "conf_matrix = confusion_matrix(y, y_pred)\n",
    "\n",
    "# Métricas ponderadas\n",
    "precision = precision_score(y, y_pred, average='weighted', zero_division=0)  # Usar zero_division\n",
    "recall = recall_score(y, y_pred, average='weighted', zero_division=0)  # Usar zero_division\n",
    "f1 = f1_score(y, y_pred, average='weighted', zero_division=0)  # Usar zero_division\n",
    "\n",
    "# 4. Imprimir las métricas y el tiempo de predicción\n",
    "print(f\"Execution time on test set: {test_time:.4f} seconds\")\n",
    "print(f\"Test Accuracy: {accuracy:.4f}\")\n",
    "print(f\"Test Balanced Accuracy: {balanced_accuracy:.4f}\")\n",
    "print(f\"Test Precision (weighted): {precision:.4f}\")\n",
    "print(f\"Test Recall (weighted): {recall:.4f}\")\n",
    "print(f\"Test F1-Score (weighted): {f1:.4f}\")\n",
    "print(\"Confusion Matrix:\")\n",
    "print(conf_matrix)\n",
    "\n",
    "# Mostrar métricas por clase\n",
    "for clase in ['0', '1', '2']:  \n",
    "    print(f\"\\nClase {clase}:\")\n",
    "    print(f\"  Precision = {class_report[clase]['precision']:.4f}\")\n",
    "    print(f\"  Recall = {class_report[clase]['recall']:.4f}\")\n",
    "    print(f\"  F1-Score = {class_report[clase]['f1-score']:.4f}\")"
   ]
  },
  {
   "cell_type": "markdown",
   "id": "9c9862ed-0aaa-4d7d-891a-cb66bed9cba0",
   "metadata": {},
   "source": [
    "#### DES-RFC"
   ]
  },
  {
   "cell_type": "code",
   "execution_count": 41,
   "id": "484d377a-aeee-409e-a144-2df081f24a78",
   "metadata": {},
   "outputs": [
    {
     "name": "stdout",
     "output_type": "stream",
     "text": [
      "Execution time on test set: 0.0110 seconds\n",
      "Test Accuracy: 0.7000\n",
      "Test Balanced Accuracy: 0.3333\n",
      "Test Precision (weighted): 0.4900\n",
      "Test Recall (weighted): 0.7000\n",
      "Test F1-Score (weighted): 0.5765\n",
      "Confusion Matrix:\n",
      "[[420   0   0]\n",
      " [129   0   0]\n",
      " [ 51   0   0]]\n",
      "\n",
      "Clase 0:\n",
      "  Precision = 0.7000\n",
      "  Recall = 1.0000\n",
      "  F1-Score = 0.8235\n",
      "\n",
      "Clase 1:\n",
      "  Precision = 0.0000\n",
      "  Recall = 0.0000\n",
      "  F1-Score = 0.0000\n",
      "\n",
      "Clase 2:\n",
      "  Precision = 0.0000\n",
      "  Recall = 0.0000\n",
      "  F1-Score = 0.0000\n"
     ]
    }
   ],
   "source": [
    "# 2. Realizar predicciones sobre los nuevos datos (X_test)\n",
    "start_time = time.time()  # Medir el tiempo de predicción\n",
    "y_pred = best_model_rf_inbalanced.predict(X)  # Realizar predicciones\n",
    "test_time = time.time() - start_time  # Tiempo de ejecución\n",
    "\n",
    "# 3. Calcular las métricas de evaluación usando los valores predichos y los valores reales (y_test)\n",
    "accuracy = accuracy_score(y, y_pred)\n",
    "balanced_accuracy = balanced_accuracy_score(y, y_pred)\n",
    "class_report = classification_report(y, y_pred, output_dict=True, zero_division=0)\n",
    "conf_matrix = confusion_matrix(y, y_pred)\n",
    "\n",
    "# Métricas ponderadas\n",
    "precision = precision_score(y, y_pred, average='weighted', zero_division=0)  # Usar zero_division\n",
    "recall = recall_score(y, y_pred, average='weighted', zero_division=0)  # Usar zero_division\n",
    "f1 = f1_score(y, y_pred, average='weighted', zero_division=0)  # Usar zero_division\n",
    "\n",
    "# 4. Imprimir las métricas y el tiempo de predicción\n",
    "print(f\"Execution time on test set: {test_time:.4f} seconds\")\n",
    "print(f\"Test Accuracy: {accuracy:.4f}\")\n",
    "print(f\"Test Balanced Accuracy: {balanced_accuracy:.4f}\")\n",
    "print(f\"Test Precision (weighted): {precision:.4f}\")\n",
    "print(f\"Test Recall (weighted): {recall:.4f}\")\n",
    "print(f\"Test F1-Score (weighted): {f1:.4f}\")\n",
    "print(\"Confusion Matrix:\")\n",
    "print(conf_matrix)\n",
    "\n",
    "# Mostrar métricas por clase\n",
    "for clase in ['0', '1', '2']:  \n",
    "    print(f\"\\nClase {clase}:\")\n",
    "    print(f\"  Precision = {class_report[clase]['precision']:.4f}\")\n",
    "    print(f\"  Recall = {class_report[clase]['recall']:.4f}\")\n",
    "    print(f\"  F1-Score = {class_report[clase]['f1-score']:.4f}\")"
   ]
  },
  {
   "cell_type": "markdown",
   "id": "f0f34be8-31c0-489d-92eb-004a37967e28",
   "metadata": {},
   "source": [
    "#### DO-DTC"
   ]
  },
  {
   "cell_type": "code",
   "execution_count": 44,
   "id": "b2615bbf-0812-4b9c-bf33-8459e0220c6b",
   "metadata": {},
   "outputs": [
    {
     "name": "stdout",
     "output_type": "stream",
     "text": [
      "Execution time on test set: 0.0030 seconds\n",
      "Test Accuracy: 0.9150\n",
      "Test Balanced Accuracy: 0.6667\n",
      "Test Precision (weighted): 0.8541\n",
      "Test Recall (weighted): 0.9150\n",
      "Test F1-Score (weighted): 0.8795\n",
      "Confusion Matrix:\n",
      "[[420   0   0]\n",
      " [  0 129   0]\n",
      " [  0  51   0]]\n",
      "\n",
      "Clase 0:\n",
      "  Precision = 1.0000\n",
      "  Recall = 1.0000\n",
      "  F1-Score = 1.0000\n",
      "\n",
      "Clase 1:\n",
      "  Precision = 0.7167\n",
      "  Recall = 1.0000\n",
      "  F1-Score = 0.8350\n",
      "\n",
      "Clase 2:\n",
      "  Precision = 0.0000\n",
      "  Recall = 0.0000\n",
      "  F1-Score = 0.0000\n"
     ]
    }
   ],
   "source": [
    "# 2. Realizar predicciones sobre los nuevos datos (X_test)\n",
    "start_time = time.time()  # Medir el tiempo de predicción\n",
    "y_pred = best_model_decisiontree_downsampling.predict(X)  # Realizar predicciones\n",
    "test_time = time.time() - start_time  # Tiempo de ejecución\n",
    "\n",
    "\n",
    "# 3. Calcular las métricas de evaluación usando los valores predichos y los valores reales (y_test)\n",
    "accuracy = accuracy_score(y, y_pred)\n",
    "balanced_accuracy = balanced_accuracy_score(y, y_pred)\n",
    "class_report = classification_report(y, y_pred, output_dict=True, zero_division=0)\n",
    "conf_matrix = confusion_matrix(y, y_pred)\n",
    "\n",
    "# Métricas ponderadas\n",
    "precision = precision_score(y, y_pred, average='weighted', zero_division=0)  # Usar zero_division\n",
    "recall = recall_score(y, y_pred, average='weighted', zero_division=0)  # Usar zero_division\n",
    "f1 = f1_score(y, y_pred, average='weighted', zero_division=0)  # Usar zero_division\n",
    "\n",
    "# 4. Imprimir las métricas y el tiempo de predicción\n",
    "print(f\"Execution time on test set: {test_time:.4f} seconds\")\n",
    "print(f\"Test Accuracy: {accuracy:.4f}\")\n",
    "print(f\"Test Balanced Accuracy: {balanced_accuracy:.4f}\")\n",
    "print(f\"Test Precision (weighted): {precision:.4f}\")\n",
    "print(f\"Test Recall (weighted): {recall:.4f}\")\n",
    "print(f\"Test F1-Score (weighted): {f1:.4f}\")\n",
    "print(\"Confusion Matrix:\")\n",
    "print(conf_matrix)\n",
    "\n",
    "# Mostrar métricas por clase\n",
    "for clase in ['0', '1', '2']:  \n",
    "    print(f\"\\nClase {clase}:\")\n",
    "    print(f\"  Precision = {class_report[clase]['precision']:.4f}\")\n",
    "    print(f\"  Recall = {class_report[clase]['recall']:.4f}\")\n",
    "    print(f\"  F1-Score = {class_report[clase]['f1-score']:.4f}\")"
   ]
  },
  {
   "cell_type": "markdown",
   "id": "22a4c171-52a5-4570-a598-58a693fd671e",
   "metadata": {},
   "source": [
    "#### DO-RFC"
   ]
  },
  {
   "cell_type": "code",
   "execution_count": 47,
   "id": "a78f33cc-f0bb-4455-a592-2d98b920586a",
   "metadata": {},
   "outputs": [
    {
     "name": "stdout",
     "output_type": "stream",
     "text": [
      "Execution time on test set: 0.0080 seconds\n",
      "Test Accuracy: 0.8283\n",
      "Test Balanced Accuracy: 0.6232\n",
      "Test Precision (weighted): 0.8293\n",
      "Test Recall (weighted): 0.8283\n",
      "Test F1-Score (weighted): 0.8172\n",
      "Confusion Matrix:\n",
      "[[420   0   0]\n",
      " [ 29  54  46]\n",
      " [  9  19  23]]\n",
      "\n",
      "Clase 0:\n",
      "  Precision = 0.9170\n",
      "  Recall = 1.0000\n",
      "  F1-Score = 0.9567\n",
      "\n",
      "Clase 1:\n",
      "  Precision = 0.7397\n",
      "  Recall = 0.4186\n",
      "  F1-Score = 0.5347\n",
      "\n",
      "Clase 2:\n",
      "  Precision = 0.3333\n",
      "  Recall = 0.4510\n",
      "  F1-Score = 0.3833\n"
     ]
    }
   ],
   "source": [
    "# 2. Realizar predicciones sobre los nuevos datos (X_test)\n",
    "start_time = time.time()  # Medir el tiempo de predicción\n",
    "y_pred = best_model_rf_downsampling.predict(X)  # Realizar predicciones\n",
    "test_time = time.time() - start_time  # Tiempo de ejecución\n",
    "\n",
    "\n",
    "# 3. Calcular las métricas de evaluación usando los valores predichos y los valores reales (y_test)\n",
    "accuracy = accuracy_score(y, y_pred)\n",
    "balanced_accuracy = balanced_accuracy_score(y, y_pred)\n",
    "class_report = classification_report(y, y_pred, output_dict=True, zero_division=0)\n",
    "conf_matrix = confusion_matrix(y, y_pred)\n",
    "\n",
    "# Métricas ponderadas\n",
    "precision = precision_score(y, y_pred, average='weighted', zero_division=0)  # Usar zero_division\n",
    "recall = recall_score(y, y_pred, average='weighted', zero_division=0)  # Usar zero_division\n",
    "f1 = f1_score(y, y_pred, average='weighted', zero_division=0)  # Usar zero_division\n",
    "\n",
    "# 4. Imprimir las métricas y el tiempo de predicción\n",
    "print(f\"Execution time on test set: {test_time:.4f} seconds\")\n",
    "print(f\"Test Accuracy: {accuracy:.4f}\")\n",
    "print(f\"Test Balanced Accuracy: {balanced_accuracy:.4f}\")\n",
    "print(f\"Test Precision (weighted): {precision:.4f}\")\n",
    "print(f\"Test Recall (weighted): {recall:.4f}\")\n",
    "print(f\"Test F1-Score (weighted): {f1:.4f}\")\n",
    "print(\"Confusion Matrix:\")\n",
    "print(conf_matrix)\n",
    "\n",
    "# Mostrar métricas por clase\n",
    "for clase in ['0', '1', '2']: \n",
    "    print(f\"\\nClase {clase}:\")\n",
    "    print(f\"  Precision = {class_report[clase]['precision']:.4f}\")\n",
    "    print(f\"  Recall = {class_report[clase]['recall']:.4f}\")\n",
    "    print(f\"  F1-Score = {class_report[clase]['f1-score']:.4f}\")"
   ]
  },
  {
   "cell_type": "markdown",
   "id": "ed431a21-db0d-48ef-9ee5-fbe71a0b0349",
   "metadata": {},
   "source": [
    "#### DO-KNN"
   ]
  },
  {
   "cell_type": "code",
   "execution_count": 50,
   "id": "c443891b-ae4b-46c6-9429-080bb6cf822d",
   "metadata": {},
   "outputs": [
    {
     "name": "stdout",
     "output_type": "stream",
     "text": [
      "Execution time on test set: 0.0120 seconds\n",
      "Test Accuracy: 0.7400\n",
      "Test Balanced Accuracy: 0.4902\n",
      "Test Precision (weighted): 0.5901\n",
      "Test Recall (weighted): 0.7400\n",
      "Test F1-Score (weighted): 0.6563\n",
      "Confusion Matrix:\n",
      "[[420   0   0]\n",
      " [ 74   0  55]\n",
      " [ 27   0  24]]\n",
      "\n",
      "Clase 0:\n",
      "  Precision = 0.8061\n",
      "  Recall = 1.0000\n",
      "  F1-Score = 0.8927\n",
      "\n",
      "Clase 1:\n",
      "  Precision = 0.0000\n",
      "  Recall = 0.0000\n",
      "  F1-Score = 0.0000\n",
      "\n",
      "Clase 2:\n",
      "  Precision = 0.3038\n",
      "  Recall = 0.4706\n",
      "  F1-Score = 0.3692\n"
     ]
    }
   ],
   "source": [
    "# 2. Realizar predicciones sobre los nuevos datos (X_test)\n",
    "start_time = time.time()  # Medir el tiempo de predicción\n",
    "y_pred = best_model_knn_downsampling.predict(X)  # Realizar predicciones\n",
    "test_time = time.time() - start_time  # Tiempo de ejecución\n",
    "\n",
    "\n",
    "# 3. Calcular las métricas de evaluación usando los valores predichos y los valores reales (y_test)\n",
    "accuracy = accuracy_score(y, y_pred)\n",
    "balanced_accuracy = balanced_accuracy_score(y, y_pred)\n",
    "class_report = classification_report(y, y_pred, output_dict=True, zero_division=0)\n",
    "conf_matrix = confusion_matrix(y, y_pred)\n",
    "\n",
    "# Métricas ponderadas\n",
    "precision = precision_score(y, y_pred, average='weighted', zero_division=0)  # Usar zero_division\n",
    "recall = recall_score(y, y_pred, average='weighted', zero_division=0)  # Usar zero_division\n",
    "f1 = f1_score(y, y_pred, average='weighted', zero_division=0)  # Usar zero_division\n",
    "\n",
    "# 4. Imprimir las métricas y el tiempo de predicción\n",
    "print(f\"Execution time on test set: {test_time:.4f} seconds\")\n",
    "print(f\"Test Accuracy: {accuracy:.4f}\")\n",
    "print(f\"Test Balanced Accuracy: {balanced_accuracy:.4f}\")\n",
    "print(f\"Test Precision (weighted): {precision:.4f}\")\n",
    "print(f\"Test Recall (weighted): {recall:.4f}\")\n",
    "print(f\"Test F1-Score (weighted): {f1:.4f}\")\n",
    "print(\"Confusion Matrix:\")\n",
    "print(conf_matrix)\n",
    "\n",
    "# Mostrar métricas por clase\n",
    "for clase in ['0', '1', '2']: \n",
    "    print(f\"\\nClase {clase}:\")\n",
    "    print(f\"  Precision = {class_report[clase]['precision']:.4f}\")\n",
    "    print(f\"  Recall = {class_report[clase]['recall']:.4f}\")\n",
    "    print(f\"  F1-Score = {class_report[clase]['f1-score']:.4f}\")"
   ]
  },
  {
   "cell_type": "markdown",
   "id": "e1c76144-718e-4385-b3e1-5f70ee0a98e8",
   "metadata": {},
   "source": [
    "#### UP-A-DTC"
   ]
  },
  {
   "cell_type": "code",
   "execution_count": 53,
   "id": "ab0513a8-355c-4a9d-8140-d2bb4603f212",
   "metadata": {},
   "outputs": [
    {
     "name": "stdout",
     "output_type": "stream",
     "text": [
      "Execution time on test set: 0.0040 seconds\n",
      "Test Accuracy: 0.7883\n",
      "Test Balanced Accuracy: 0.4703\n",
      "Test Precision (weighted): 0.7093\n",
      "Test Recall (weighted): 0.7883\n",
      "Test F1-Score (weighted): 0.7343\n",
      "Confusion Matrix:\n",
      "[[420   0   0]\n",
      " [ 76  53   0]\n",
      " [ 26  25   0]]\n",
      "\n",
      "Clase 0:\n",
      "  Precision = 0.8046\n",
      "  Recall = 1.0000\n",
      "  F1-Score = 0.8917\n",
      "\n",
      "Clase 1:\n",
      "  Precision = 0.6795\n",
      "  Recall = 0.4109\n",
      "  F1-Score = 0.5121\n",
      "\n",
      "Clase 2:\n",
      "  Precision = 0.0000\n",
      "  Recall = 0.0000\n",
      "  F1-Score = 0.0000\n"
     ]
    }
   ],
   "source": [
    "# 2. Realizar predicciones sobre los nuevos datos (X_test)\n",
    "start_time = time.time()  # Medir el tiempo de predicción\n",
    "y_pred = best_model_decisiontree_upsampling.predict(X)  # Realizar predicciones\n",
    "test_time = time.time() - start_time  # Tiempo de ejecución\n",
    "\n",
    "\n",
    "# 3. Calcular las métricas de evaluación usando los valores predichos y los valores reales (y_test)\n",
    "accuracy = accuracy_score(y, y_pred)\n",
    "balanced_accuracy = balanced_accuracy_score(y, y_pred)\n",
    "class_report = classification_report(y, y_pred, output_dict=True, zero_division=0)\n",
    "conf_matrix = confusion_matrix(y, y_pred)\n",
    "\n",
    "# Métricas ponderadas\n",
    "precision = precision_score(y, y_pred, average='weighted', zero_division=0)  # Usar zero_division\n",
    "recall = recall_score(y, y_pred, average='weighted', zero_division=0)  # Usar zero_division\n",
    "f1 = f1_score(y, y_pred, average='weighted', zero_division=0)  # Usar zero_division\n",
    "\n",
    "# 4. Imprimir las métricas y el tiempo de predicción\n",
    "print(f\"Execution time on test set: {test_time:.4f} seconds\")\n",
    "print(f\"Test Accuracy: {accuracy:.4f}\")\n",
    "print(f\"Test Balanced Accuracy: {balanced_accuracy:.4f}\")\n",
    "print(f\"Test Precision (weighted): {precision:.4f}\")\n",
    "print(f\"Test Recall (weighted): {recall:.4f}\")\n",
    "print(f\"Test F1-Score (weighted): {f1:.4f}\")\n",
    "print(\"Confusion Matrix:\")\n",
    "print(conf_matrix)\n",
    "\n",
    "# Mostrar métricas por clase\n",
    "for clase in ['0', '1', '2']: \n",
    "    print(f\"\\nClase {clase}:\")\n",
    "    print(f\"  Precision = {class_report[clase]['precision']:.4f}\")\n",
    "    print(f\"  Recall = {class_report[clase]['recall']:.4f}\")\n",
    "    print(f\"  F1-Score = {class_report[clase]['f1-score']:.4f}\")"
   ]
  },
  {
   "cell_type": "markdown",
   "id": "de93e4cb-9863-41cd-97c8-ee610c0a1f9c",
   "metadata": {},
   "source": [
    "#### UP-B-DTC"
   ]
  },
  {
   "cell_type": "code",
   "execution_count": 56,
   "id": "e320ecac-50c4-4afa-ab8d-f7a832578b19",
   "metadata": {},
   "outputs": [
    {
     "name": "stdout",
     "output_type": "stream",
     "text": [
      "Execution time on test set: 0.0030 seconds\n",
      "Test Accuracy: 0.7883\n",
      "Test Balanced Accuracy: 0.4703\n",
      "Test Precision (weighted): 0.7093\n",
      "Test Recall (weighted): 0.7883\n",
      "Test F1-Score (weighted): 0.7343\n",
      "Confusion Matrix:\n",
      "[[420   0   0]\n",
      " [ 76  53   0]\n",
      " [ 26  25   0]]\n",
      "\n",
      "Clase 0:\n",
      "  Precision = 0.8046\n",
      "  Recall = 1.0000\n",
      "  F1-Score = 0.8917\n",
      "\n",
      "Clase 1:\n",
      "  Precision = 0.6795\n",
      "  Recall = 0.4109\n",
      "  F1-Score = 0.5121\n",
      "\n",
      "Clase 2:\n",
      "  Precision = 0.0000\n",
      "  Recall = 0.0000\n",
      "  F1-Score = 0.0000\n"
     ]
    }
   ],
   "source": [
    "# 2. Realizar predicciones sobre los nuevos datos (X_test)\n",
    "start_time = time.time()  # Medir el tiempo de predicción\n",
    "y_pred = best_model_decisiontree_upsampling_smote.predict(X)  # Realizar predicciones\n",
    "test_time = time.time() - start_time  # Tiempo de ejecución\n",
    "\n",
    "\n",
    "# 3. Calcular las métricas de evaluación usando los valores predichos y los valores reales (y_test)\n",
    "accuracy = accuracy_score(y, y_pred)\n",
    "balanced_accuracy = balanced_accuracy_score(y, y_pred)\n",
    "class_report = classification_report(y, y_pred, output_dict=True, zero_division=0)\n",
    "conf_matrix = confusion_matrix(y, y_pred)\n",
    "\n",
    "# Métricas ponderadas\n",
    "precision = precision_score(y, y_pred, average='weighted', zero_division=0)  # Usar zero_division\n",
    "recall = recall_score(y, y_pred, average='weighted', zero_division=0)  # Usar zero_division\n",
    "f1 = f1_score(y, y_pred, average='weighted', zero_division=0)  # Usar zero_division\n",
    "\n",
    "# 4. Imprimir las métricas y el tiempo de predicción\n",
    "print(f\"Execution time on test set: {test_time:.4f} seconds\")\n",
    "print(f\"Test Accuracy: {accuracy:.4f}\")\n",
    "print(f\"Test Balanced Accuracy: {balanced_accuracy:.4f}\")\n",
    "print(f\"Test Precision (weighted): {precision:.4f}\")\n",
    "print(f\"Test Recall (weighted): {recall:.4f}\")\n",
    "print(f\"Test F1-Score (weighted): {f1:.4f}\")\n",
    "print(\"Confusion Matrix:\")\n",
    "print(conf_matrix)\n",
    "\n",
    "# Mostrar métricas por clase\n",
    "for clase in ['0', '1', '2']:  \n",
    "    print(f\"\\nClase {clase}:\")\n",
    "    print(f\"  Precision = {class_report[clase]['precision']:.4f}\")\n",
    "    print(f\"  Recall = {class_report[clase]['recall']:.4f}\")\n",
    "    print(f\"  F1-Score = {class_report[clase]['f1-score']:.4f}\")"
   ]
  },
  {
   "cell_type": "markdown",
   "id": "8d26af6a-3c43-43e4-b449-550b84d89aec",
   "metadata": {},
   "source": [
    "#### MIX DTC"
   ]
  },
  {
   "cell_type": "code",
   "execution_count": 59,
   "id": "5501ad14-1cb9-4565-8dd0-3995a94b50c1",
   "metadata": {},
   "outputs": [
    {
     "name": "stdout",
     "output_type": "stream",
     "text": [
      "Execution time on test set: 0.0040 seconds\n",
      "Test Accuracy: 0.7883\n",
      "Test Balanced Accuracy: 0.4703\n",
      "Test Precision (weighted): 0.7093\n",
      "Test Recall (weighted): 0.7883\n",
      "Test F1-Score (weighted): 0.7343\n",
      "Confusion Matrix:\n",
      "[[420   0   0]\n",
      " [ 76  53   0]\n",
      " [ 26  25   0]]\n",
      "\n",
      "Clase 0:\n",
      "  Precision = 0.8046\n",
      "  Recall = 1.0000\n",
      "  F1-Score = 0.8917\n",
      "\n",
      "Clase 1:\n",
      "  Precision = 0.6795\n",
      "  Recall = 0.4109\n",
      "  F1-Score = 0.5121\n",
      "\n",
      "Clase 2:\n",
      "  Precision = 0.0000\n",
      "  Recall = 0.0000\n",
      "  F1-Score = 0.0000\n"
     ]
    }
   ],
   "source": [
    "# 2. Realizar predicciones sobre los nuevos datos (X_test)\n",
    "start_time = time.time()  # Medir el tiempo de predicción\n",
    "y_pred = best_model_decisiontree_mix.predict(X)  # Realizar predicciones\n",
    "test_time = time.time() - start_time  # Tiempo de ejecución\n",
    "\n",
    "\n",
    "# 3. Calcular las métricas de evaluación usando los valores predichos y los valores reales (y_test)\n",
    "accuracy = accuracy_score(y, y_pred)\n",
    "balanced_accuracy = balanced_accuracy_score(y, y_pred)\n",
    "class_report = classification_report(y, y_pred, output_dict=True, zero_division=0)\n",
    "conf_matrix = confusion_matrix(y, y_pred)\n",
    "\n",
    "# Métricas ponderadas\n",
    "precision = precision_score(y, y_pred, average='weighted', zero_division=0)  # Usar zero_division\n",
    "recall = recall_score(y, y_pred, average='weighted', zero_division=0)  # Usar zero_division\n",
    "f1 = f1_score(y, y_pred, average='weighted', zero_division=0)  # Usar zero_division\n",
    "\n",
    "# 4. Imprimir las métricas y el tiempo de predicción\n",
    "print(f\"Execution time on test set: {test_time:.4f} seconds\")\n",
    "print(f\"Test Accuracy: {accuracy:.4f}\")\n",
    "print(f\"Test Balanced Accuracy: {balanced_accuracy:.4f}\")\n",
    "print(f\"Test Precision (weighted): {precision:.4f}\")\n",
    "print(f\"Test Recall (weighted): {recall:.4f}\")\n",
    "print(f\"Test F1-Score (weighted): {f1:.4f}\")\n",
    "print(\"Confusion Matrix:\")\n",
    "print(conf_matrix)\n",
    "\n",
    "# Mostrar métricas por clase\n",
    "for clase in ['0', '1', '2']:  \n",
    "    print(f\"\\nClase {clase}:\")\n",
    "    print(f\"  Precision = {class_report[clase]['precision']:.4f}\")\n",
    "    print(f\"  Recall = {class_report[clase]['recall']:.4f}\")\n",
    "    print(f\"  F1-Score = {class_report[clase]['f1-score']:.4f}\")"
   ]
  },
  {
   "cell_type": "markdown",
   "id": "e255c636-0c7f-4858-b50d-01d3869c4d6e",
   "metadata": {},
   "source": [
    "## 3.4 Resumen resultados"
   ]
  },
  {
   "cell_type": "markdown",
   "id": "16882e52-4c62-4d95-9614-903dd1501e50",
   "metadata": {},
   "source": [
    "| **ID**     | **Accuracy** | **Balanced Accuracy** | **Precisión ($C_0$)** | **Recall ($C_0$)** | **F1 ($C_0$)** | **(s)** |\n",
    "|------------|--------------|-----------------------|-----------------------|--------------------|---------------|---------|\n",
    "| DES-DTC    | 0.79         | 0.47                  | 0.80                  | 1                  | 0.89          | 0.006   |\n",
    "| DES-RFC    | 0.70         | 0.33                  | 0.70                  | 1                  | 0.82          | 0.008   |\n",
    "| DO-DTC     | 0.92         | 0.66                  | 1.00                  | 1                  | 1.00          | 0.003   |\n",
    "| DO-RFC     | 0.83         | 0.62                  | 0.92                  | 1                  | 0.96          | 0.010   |\n",
    "| DO-KNC     | 0.74         | 0.49                  | 0.80                  | 1                  | 0.89          | 0.008   |\n",
    "| UP-A-DTC   | 0.79         | 0.47                  | 0.80                  | 1                  | 0.89          | 0.005   |\n",
    "| UP-B-DTC   | 0.79         | 0.47                  | 0.80                  | 1                  | 0.89          | 0.005   |\n",
    "| MIX-DTC    | 0.79         | 0.47                  | 0.80                  | 1                  | 0.89          | 0.004   |\n"
   ]
  },
  {
   "cell_type": "markdown",
   "id": "515f644a-0097-4ea7-a54a-3dac354ed414",
   "metadata": {},
   "source": [
    "## 3.5 Guardamos los resultados del modelo DO-DTC"
   ]
  },
  {
   "cell_type": "code",
   "execution_count": 87,
   "id": "9f844b03-4b31-44b1-8470-15742473ae14",
   "metadata": {},
   "outputs": [
    {
     "name": "stdout",
     "output_type": "stream",
     "text": [
      "Execution time on test set: 0.0070 seconds\n",
      "Test Accuracy: 0.9150\n",
      "Test Balanced Accuracy: 0.6667\n",
      "Test Precision (weighted): 0.8541\n",
      "Test Recall (weighted): 0.9150\n",
      "Test F1-Score (weighted): 0.8795\n",
      "Confusion Matrix:\n",
      "[[420   0   0]\n",
      " [  0 129   0]\n",
      " [  0  51   0]]\n",
      "\n",
      "Clase 0:\n",
      "  Precision = 1.0000\n",
      "  Recall = 1.0000\n",
      "  F1-Score = 1.0000\n",
      "\n",
      "Clase 1:\n",
      "  Precision = 0.7167\n",
      "  Recall = 1.0000\n",
      "  F1-Score = 0.8350\n",
      "\n",
      "Clase 2:\n",
      "  Precision = 0.0000\n",
      "  Recall = 0.0000\n",
      "  F1-Score = 0.0000\n"
     ]
    }
   ],
   "source": [
    "# 2. Realizar predicciones sobre los nuevos datos (X_test)\n",
    "start_time = time.time()  # Medir el tiempo de predicción\n",
    "y_pred = best_model_decisiontree_downsampling.predict(X)  # Realizar predicciones\n",
    "test_time = time.time() - start_time  # Tiempo de ejecución\n",
    "\n",
    "\n",
    "# 3. Calcular las métricas de evaluación usando los valores predichos y los valores reales (y_test)\n",
    "accuracy = accuracy_score(y, y_pred)\n",
    "balanced_accuracy = balanced_accuracy_score(y, y_pred)\n",
    "class_report = classification_report(y, y_pred, output_dict=True, zero_division=0)\n",
    "conf_matrix = confusion_matrix(y, y_pred)\n",
    "\n",
    "# Métricas ponderadas\n",
    "precision = precision_score(y, y_pred, average='weighted', zero_division=0)  # Usar zero_division\n",
    "recall = recall_score(y, y_pred, average='weighted', zero_division=0)  # Usar zero_division\n",
    "f1 = f1_score(y, y_pred, average='weighted', zero_division=0)  # Usar zero_division\n",
    "\n",
    "# 4. Imprimir las métricas y el tiempo de predicción\n",
    "print(f\"Execution time on test set: {test_time:.4f} seconds\")\n",
    "print(f\"Test Accuracy: {accuracy:.4f}\")\n",
    "print(f\"Test Balanced Accuracy: {balanced_accuracy:.4f}\")\n",
    "print(f\"Test Precision (weighted): {precision:.4f}\")\n",
    "print(f\"Test Recall (weighted): {recall:.4f}\")\n",
    "print(f\"Test F1-Score (weighted): {f1:.4f}\")\n",
    "print(\"Confusion Matrix:\")\n",
    "print(conf_matrix)\n",
    "\n",
    "# Mostrar métricas por clase\n",
    "for clase in ['0', '1', '2']: \n",
    "    print(f\"\\nClase {clase}:\")\n",
    "    print(f\"  Precision = {class_report[clase]['precision']:.4f}\")\n",
    "    print(f\"  Recall = {class_report[clase]['recall']:.4f}\")\n",
    "    print(f\"  F1-Score = {class_report[clase]['f1-score']:.4f}\")"
   ]
  },
  {
   "cell_type": "code",
   "execution_count": 89,
   "id": "3e1716d1-7418-425d-8306-29026144f88b",
   "metadata": {},
   "outputs": [],
   "source": [
    "# Crear un DataFrame con las características y las predicciones\n",
    "results_df = pd.DataFrame(X, columns=X.columns)  # Las columnas de características originales\n",
    "results_df['Predicted_Attack'] = y_pred  # Columna de predicciones\n",
    "results_df['Actual_Attack'] = y  # Columna de valores reales, si los tienes\n",
    "\n",
    "# Guardar el DataFrame en un archivo CSV\n",
    "results_df.to_csv('predicciones_datos_simulado.csv', index=False)"
   ]
  },
  {
   "cell_type": "code",
   "execution_count": 91,
   "id": "bdb93b5e-740d-4d62-ad6b-31b2efab037d",
   "metadata": {},
   "outputs": [],
   "source": [
    "from sklearn.metrics import classification_report, confusion_matrix\n",
    "\n",
    "# Obtener el reporte de clasificación y la matriz de confusión\n",
    "report = classification_report(y, y_pred, output_dict=True, zero_division=0) \n",
    "confusion = confusion_matrix(y, y_pred)\n",
    "\n",
    "# Guardar el reporte de clasificación como DataFrame para exportar\n",
    "report_df = pd.DataFrame(report).transpose()\n",
    "report_df.to_csv('reporte_clasificacion_datos_simulado.csv', index=True)"
   ]
  },
  {
   "cell_type": "markdown",
   "id": "7619e181-a12f-4cfa-a739-d9e9acb15feb",
   "metadata": {
    "jp-MarkdownHeadingCollapsed": true
   },
   "source": [
    "# 4. Resumen Modelo Final"
   ]
  },
  {
   "cell_type": "markdown",
   "id": "f988521c-86a0-417b-a80b-078383bc3036",
   "metadata": {},
   "source": [
    "| **Métricas**               | **Datos Test** | **Datos Simulados** | **Hiperparámetros**                             |\n",
    "|----------------------------|----------|--------------|------------------------------------------------|\n",
    "| **Accuracy**                | 0.98     | 0.92         | `class_weight: balanced`                       |\n",
    "| **Balanced Accuracy**       | 0.99     | 0.66         | `criterion: gini`                              |\n",
    "| **Precisión (w)**           | 0.99     | 0.85         | `max_depth: 10`                                |\n",
    "| **Recall (w)**              | 0.90     | 0.92         | `min_samples_leaf: 1`                          |\n",
    "| **F1 (w)**                  | 0.99     | 0.88         | `min_samples_split: 2`                         |\n",
    "| **Precisión ($C_0$)**       | 1        | 1            |                                                |\n",
    "| **Recall ($C_0$)**          | 0.98     | 1            |                                                |\n",
    "| **F1 ($C_0$)**              | 0.98     | 1            |                                                |\n",
    "| **Tiempo Ejecución (s)**    | 0.01     | 0.003        |                                                |\n"
   ]
  }
 ],
 "metadata": {
  "kernelspec": {
   "display_name": "Python 3 (ipykernel)",
   "language": "python",
   "name": "python3"
  },
  "language_info": {
   "codemirror_mode": {
    "name": "ipython",
    "version": 3
   },
   "file_extension": ".py",
   "mimetype": "text/x-python",
   "name": "python",
   "nbconvert_exporter": "python",
   "pygments_lexer": "ipython3",
   "version": "3.11.4"
  }
 },
 "nbformat": 4,
 "nbformat_minor": 5
}
